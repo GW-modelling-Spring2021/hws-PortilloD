{
 "cells": [
  {
   "cell_type": "markdown",
   "id": "1186f468",
   "metadata": {},
   "source": []
  },
  {
   "cell_type": "markdown",
   "id": "be9cb39b",
   "metadata": {},
   "source": [
    "#### Model Description"
   ]
  },
  {
   "cell_type": "markdown",
   "id": "01e4782a",
   "metadata": {},
   "source": [
    "The basic set scenario is as follows. There is a modeling-friendly mountain catchment, bounded by no flow boundaries on three sides. The downgradient boundary has been established as constant head based on the results of a larger-scale model. There is a municipal well in the basin. Some of the water used by the town is recharged after treatment, some is returned to the stream that runs through the basin. Recharge is associated with the mountain block. ET occurs in the basin floor and at a higher rate in the riparian area adjacent to the stream. An agricultural business has proposed to add a well and irrigate crops on a new field. You are to use the model to determine the risks of this in terms of agrochemicals reaching the stream, reduced streamflow, and additional drawdown in the town well. The model is run as three steady state conditions: No Town and No Ag (NTNA); Yes Town and No Ag (YTNA); and Yes Town and Yes Ag (YTYA). Some model parameters are known, others are unknown."
   ]
  },
  {
   "cell_type": "markdown",
   "id": "d6e1b473",
   "metadata": {},
   "source": [
    "#### The Challenges"
   ]
  },
  {
   "cell_type": "markdown",
   "id": "0546b796",
   "metadata": {},
   "source": [
    "<b> 1. Describe the scenario being modeled based on the fixed parameter values and the base model parameter values. Who is the stakeholder? What is their definition of an MOC? What are the selected 'design' options of the ag facility and the town (return flow fraction, location, field location, etc)? Essentially, paint a picture of what is being represented by the model.</b>"
   ]
  },
  {
   "cell_type": "markdown",
   "id": "75a07f29",
   "metadata": {},
   "source": [
    "Fixed param: 50 x 50, 3 layer model with csv elevation topo\n",
    "- constant n\n",
    "- if Sy > n, then Sy overwrites n in model\n",
    "\n",
    "Base MOdel Param: 5 values for each param (not conts)\n",
    "- k val in in vert or horiz\n",
    "- et in riparian\n",
    "- ratio streambed k to aquifer k\n",
    "\n",
    "\n",
    "The stakeholders are: city folk, farm folk, and environmentalists. for this anylsis, the stakeholder is the town\n",
    "\n",
    "MOC (model of concern) is a decision making criteria...if run/analyze model and few to none of the models are MOC, then good!!\n",
    "if every one is MOC, then no don't even think about the ag well!!\n",
    "\n"
   ]
  },
  {
   "cell_type": "markdown",
   "id": "6731cf57",
   "metadata": {},
   "source": [
    "**2. Construct an ensemble with 25 unique parameter sets chosen at random and generate output in current model output.**"
   ]
  },
  {
   "cell_type": "markdown",
   "id": "1845f802",
   "metadata": {},
   "source": [
    "I ran my first ensemble with 50 random models. 7 of which were identified as 'non-behavioral' ."
   ]
  },
  {
   "cell_type": "markdown",
   "id": "71a2713c",
   "metadata": {},
   "source": [
    "**3. Based on your initial random ensemble, what is the most likely additional drawdown at the town well due to pumping the ag well? How confident are you in that response - explain/defend your answer.**"
   ]
  },
  {
   "cell_type": "markdown",
   "id": "36ec7c95",
   "metadata": {},
   "source": [
    "drawdown is most noticable by the farm and isn't greatly added by the town. We see from the capture zones that YTYA shows a capture zone affecting the stream near the middle of the domain and going dry to the right past column 40.\n",
    "\n",
    "The drawdown will only slightly increase at the town well. I am not totally confident"
   ]
  },
  {
   "cell_type": "code",
   "execution_count": null,
   "id": "073b05fa",
   "metadata": {},
   "outputs": [],
   "source": []
  },
  {
   "cell_type": "markdown",
   "id": "0b674c75",
   "metadata": {},
   "source": [
    "**4. What is the likelihood that the reality (represented by the meager observed data) is best represented by an MOC?**"
   ]
  },
  {
   "cell_type": "markdown",
   "id": "09fae01e",
   "metadata": {},
   "source": [
    "approximately 11 MOCs were identified by the town. 2 MOCs had the highest liklihoods. These had L = 0.042 and 0.033, respectively. Since only two MOC were liklely, this doesn't show that reality is best represented by MOCs. However, to test this, I input the second highest as a 'seed' and re-ran my test_run_ensemble."
   ]
  },
  {
   "cell_type": "markdown",
   "id": "3561bbfa",
   "metadata": {},
   "source": [
    "**5. What is the most likely loss in streamflow at the outflow end of the domain? Justify your answer.**"
   ]
  },
  {
   "cell_type": "markdown",
   "id": "5e749f1b",
   "metadata": {},
   "source": [
    "A few model predicted the stream would go dry sooner than predicted by other models. Combinatin of ET, wells, and insufficient recharge."
   ]
  },
  {
   "cell_type": "markdown",
   "id": "9c8fefa6",
   "metadata": {},
   "source": [
    "**6. Is it likely that either the town or ag well could be contaminated by the ag field? Justify your answer.**"
   ]
  },
  {
   "cell_type": "markdown",
   "id": "1d3f61d8",
   "metadata": {},
   "source": [
    "I'm having trouble visualizing the location of the irrigation, recharge and other zones."
   ]
  },
  {
   "cell_type": "markdown",
   "id": "15462e21",
   "metadata": {},
   "source": [
    "**7. Make a set of plots based on ensemble 2 and discuss how each of your answers to the first four questions changed due to adding the MOC-inspired parameter sets.**"
   ]
  },
  {
   "cell_type": "markdown",
   "id": "f96f8a9d",
   "metadata": {},
   "source": [
    "<p float=\"left\">\n",
    "    <img src=\"figures\\2ndrun_MOC.png\"  width=\"190\" />\n",
    "    <img src=\"figures\\nonbehav.png\"  width=\"480\" /></p>\n",
    "<p float=\"left\">\n",
    "<img src=\"figures\\2ndrun_liklihoods.png\"  width=\"480\" />\n",
    "</p>"
   ]
  },
  {
   "cell_type": "markdown",
   "id": "51b26748",
   "metadata": {},
   "source": [
    "Now for this second ensemble, I generated 10 additional models and added an MOC with high liklihood from the first ensemble. This results in 59 total models (not sure why since there should be 60). and we can see dramatic changes. Above in the liklhood, we see more MOCs with higher liklihoods. This means: DONT ADD THE AG WELL!"
   ]
  },
  {
   "cell_type": "markdown",
   "id": "ec36bee9",
   "metadata": {},
   "source": [
    "<img src=\"figures\\2ndrun_hgstliklihoods.png\"  width=\"330\" /><img src=\"figures\\2ndrun_prevalence.png\"  width=\"390\" />\n",
    "\n",
    "<p float=\"left\">\n",
    "    <img src=\"figures\\2ndrun_dwdn1.png\"  width=\"380\" />\n",
    "    <img src=\"figures\\2ndrun_capt1.png\"  width=\"380\" />\n",
    "    <img src=\"figures\\2ndrun_dwdn2.png\"  width=\"380\" />\n",
    "    <img src=\"figures\\2ndrun_capt2.png\"  width=\"380\" />\n",
    "</p>\n",
    "\n",
    "<img src=\"figures\\2ndrun_streamflow.png\"  width=\"470\" />\n",
    "<img src=\"figures\\2ndrun_stmflw1.png\"  width=\"470\" />\n",
    "<img src=\"figures\\2ndrun_stmflw2.png\"  width=\"470\" />\n",
    "\n",
    "<img src=\"figures\\2ndrun_summliklihoods.png\"  width=\"480\" />"
   ]
  },
  {
   "cell_type": "code",
   "execution_count": null,
   "id": "216b76d2",
   "metadata": {},
   "outputs": [],
   "source": []
  }
 ],
 "metadata": {
  "kernelspec": {
   "display_name": "Python 3",
   "language": "python",
   "name": "python3"
  },
  "language_info": {
   "codemirror_mode": {
    "name": "ipython",
    "version": 3
   },
   "file_extension": ".py",
   "mimetype": "text/x-python",
   "name": "python",
   "nbconvert_exporter": "python",
   "pygments_lexer": "ipython3",
   "version": "3.6.2"
  }
 },
 "nbformat": 4,
 "nbformat_minor": 5
}
