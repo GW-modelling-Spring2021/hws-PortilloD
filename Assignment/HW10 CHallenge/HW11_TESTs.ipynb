{
 "cells": [
  {
   "cell_type": "markdown",
   "id": "0b986472",
   "metadata": {},
   "source": [
    "# HW11 Effects of Pumping"
   ]
  },
  {
   "cell_type": "markdown",
   "id": "738085c7",
   "metadata": {},
   "source": [
    "#### Dalia Portillo\n"
   ]
  },
  {
   "cell_type": "markdown",
   "id": "6b9fe675",
   "metadata": {},
   "source": [
    "#### Model Description"
   ]
  },
  {
   "cell_type": "markdown",
   "id": "794909e5",
   "metadata": {},
   "source": [
    "The basic set scenario is as follows. There is a modeling-friendly mountain catchment, bounded by no flow boundaries on three sides. The downgradient boundary has been established as constant head based on the results of a larger-scale model. There is a municipal well in the basin. Some of the water used by the town is recharged after treatment, some is returned to the stream that runs through the basin. Recharge is associated with the mountain block. ET occurs in the basin floor and at a higher rate in the riparian area adjacent to the stream. An agricultural business has proposed to add a well and irrigate crops on a new field. You are to use the model to determine the risks of this in terms of agrochemicals reaching the stream, reduced streamflow, and additional drawdown in the town well. The model is run as three steady state conditions: No Town and No Ag (NTNA); Yes Town and No Ag (YTNA); and Yes Town and Yes Ag (YTYA). Some model parameters are known, others are unknown."
   ]
  },
  {
   "cell_type": "markdown",
   "id": "a7626cba",
   "metadata": {},
   "source": [
    "#### The Challenges"
   ]
  },
  {
   "cell_type": "markdown",
   "id": "933c6889",
   "metadata": {},
   "source": [
    "<b> 1. Describe the scenario being modeled based on the fixed parameter values and the base model parameter values. Who is the stakeholder? What is their definition of an MOC? </b>"
   ]
  },
  {
   "cell_type": "markdown",
   "id": "79096fbe",
   "metadata": {},
   "source": [
    "Fixed param: 50 x 50, 3 layer model with csv elevation topo\n",
    "\n",
    "This is a homogenous aquifer with constant porosity and hydraulic conductivity throughout. \n",
    "<br>\n",
    "</br>\n",
    "Base MOdel Param: 5 values for each param (not conts)\n",
    "\n",
    "The conductivity can vary in the horizontal and vertical direction, but here Kv = Kh. There is also ET ocurring only in the riparian area on the surface of the domain. And recharge is applied from the mountians down into the valley.\n",
    "\n",
    "\n",
    "The stakeholders are either city folk, farm folk, or environmentalists. For this anylsis, the stakeholder is the town which is downstream of the proposed ag well.\n",
    "\n",
    "MOC (or model of concern) is a decision making criteria that basically alerts the stakeholder is a model(s) produces any information that exceeds a 'limitation' or suggests any concern for certain criteria. In this case, the town will look at parameters that will show if drawdwon at the town well exceeds a certain depth. In other words, if any of the YTYA models show additional drawdown due to the added ag well, then these models will be considered MOC. If analyze_ensemble produces models and few to none of the models are MOC, then good!! If every one is MOC, then no don't even think about the ag well!!\n"
   ]
  },
  {
   "cell_type": "markdown",
   "id": "e2f8c03e",
   "metadata": {},
   "source": [
    "<b>What are the selected 'design' options of the ag facility and the town (return flow fraction, location, field location, etc)? Essentially, paint a picture of what is being represented by the model.</b>"
   ]
  },
  {
   "cell_type": "markdown",
   "id": "9691a195",
   "metadata": {},
   "source": [
    "\n",
    "\n",
    "\n",
    "\n",
    "\n",
    "\n",
    "\n"
   ]
  },
  {
   "cell_type": "markdown",
   "id": "12d53406",
   "metadata": {},
   "source": [
    "   "
   ]
  },
  {
   "cell_type": "markdown",
   "id": "b40082d5",
   "metadata": {},
   "source": [
    "  "
   ]
  },
  {
   "cell_type": "markdown",
   "id": "ea2115c4",
   "metadata": {},
   "source": [
    "  "
   ]
  },
  {
   "cell_type": "markdown",
   "id": "6b8aa147",
   "metadata": {},
   "source": [
    "**2. Construct an ensemble with 25 unique parameter sets chosen at random and generate output in current model output.**"
   ]
  },
  {
   "cell_type": "markdown",
   "id": "137c82d7",
   "metadata": {},
   "source": [
    "I ran my first ensemble with 50 random models. 7 of which were identified as 'non-behavioral' ."
   ]
  },
  {
   "cell_type": "markdown",
   "id": "8b305a47",
   "metadata": {},
   "source": [
    "**3. Based on your initial random ensemble, what is the most likely additional drawdown at the town well due to pumping the ag well? How confident are you in that response - explain/defend your answer.**"
   ]
  },
  {
   "cell_type": "markdown",
   "id": "8d422c7d",
   "metadata": {},
   "source": [
    "drawdown is most noticable by the farm and isn't greatly added by the town. \n",
    "\n",
    "The drawdown will only slightly increase at the town well. I am not totally confident."
   ]
  },
  {
   "cell_type": "markdown",
   "id": "47c34b53",
   "metadata": {},
   "source": [
    "<p float=\"left\">\n",
    "    <img src=\"figures\\3rdrun_dwdn1.png\"  width=\"650\" />\n",
    "    <img src=\"figures\\3rdrun_HdsMOC.png\"  width=\"650\" />\n",
    "</p>"
   ]
  },
  {
   "cell_type": "markdown",
   "id": "2a0b2632",
   "metadata": {},
   "source": [
    "**4. What is the likelihood that the reality (represented by the meager observed data) is best represented by an MOC?**"
   ]
  },
  {
   "cell_type": "markdown",
   "id": "389aec23",
   "metadata": {},
   "source": [
    "approximately 31 MOCs were identified by the town. 2 MOCs had the highest liklihoods. These had L = 0.064 and 0.062, respectively. Since only two MOC were liklely, this doesn't show that reality is best represented by MOCs. However, to test this, I input the second highest as a 'seed' and re-ran my test_run_ensemble."
   ]
  },
  {
   "cell_type": "markdown",
   "id": "8d764c35",
   "metadata": {},
   "source": [
    "<img src=\"figures\\3rdrun_hgstliklihoods.png\"  width=\"380\" /><img src=\"figures\\3rdrun_liklihoods.png\"  width=\"490\" />"
   ]
  },
  {
   "cell_type": "markdown",
   "id": "9ce2e3c0",
   "metadata": {},
   "source": [
    "**5. What is the most likely loss in streamflow at the outflow end of the domain? Justify your answer.**"
   ]
  },
  {
   "cell_type": "markdown",
   "id": "759ff1cd",
   "metadata": {},
   "source": [
    "A few models predicted the stream would go dry sooner than predicted by other models. Combinatin of ET, pumping wells, and insufficient recharge result in lower stream flow (which is of concern to the environmentalists)."
   ]
  },
  {
   "cell_type": "markdown",
   "id": "d8a31e66",
   "metadata": {},
   "source": [
    "<img src=\"figures\\3rdrun_stmflw.png\"  width=\"670\" />\n",
    "<img src=\"figures\\3rdrun_meanstrmflw.png\"  width=\"600\" />"
   ]
  },
  {
   "cell_type": "markdown",
   "id": "376c552d",
   "metadata": {},
   "source": [
    "**6. Is it likely that either the town or ag well could be contaminated by the ag field? Justify your answer.**"
   ]
  },
  {
   "cell_type": "markdown",
   "id": "3ddcb9fe",
   "metadata": {},
   "source": [
    "<p float=\"left\">\n",
    "    <img src=\"figures\\3rdrun_capt1.png\"  width=\"650\" />\n",
    "    <img src=\"figures\\3rdrun_capt2.png\"  width=\"650\" />\n",
    "</p>"
   ]
  },
  {
   "cell_type": "markdown",
   "id": "ad7b4281",
   "metadata": {},
   "source": [
    "**7. Make a set of plots based on ensemble 2 and discuss how each of your answers to the first four questions changed due to adding the MOC-inspired parameter sets.**"
   ]
  },
  {
   "cell_type": "markdown",
   "id": "4690c2b6",
   "metadata": {},
   "source": [
    "<p float=\"left\">\n",
    "    <img src=\"figures\\4thrun_MOC.png\"  width=\"190\" />\n",
    "    <img src=\"figures\\4thrun_nonbehav.png\"  width=\"480\" /></p>\n",
    "<p float=\"left\">\n",
    "<img src=\"figures\\4thrun_liklihoods.png\"  width=\"480\" />\n",
    "</p>"
   ]
  },
  {
   "cell_type": "markdown",
   "id": "68fc235e",
   "metadata": {},
   "source": [
    "Now for this second ensemble, I generated 10 additional models and added an MOC with high liklihood from the first ensemble. This results in 59 total models (not sure why since there should be 60). and we can see dramatic changes. Above in the liklhood, we see more MOCs with higher liklihoods. This means: DONT ADD THE AG WELL!"
   ]
  },
  {
   "cell_type": "markdown",
   "id": "934f515f",
   "metadata": {},
   "source": [
    "<img src=\"figures\\4thrun_hgstliklihoods.png\"  width=\"380\" /><img src=\"figures\\2ndrun_prevalence.png\"  width=\"490\" />\n",
    "\n",
    "<p float=\"left\">\n",
    "    <img src=\"figures\\4thrun_dwdn1.png\"  width=\"650\" />\n",
    "    <img src=\"figures\\4thrun_capt1.png\"  width=\"650\" />\n",
    "    <img src=\"figures\\4thrun_capt2.png\"  width=\"650\" />\n",
    "</p>\n",
    "\n",
    "<img src=\"figures\\4thrun_strmflw.png\"  width=\"670\" />\n",
    "<img src=\"figures\\4thrun_stmflw1.png\"  width=\"670\" />\n",
    "\n",
    "<img src=\"figures\\4thrun_summliklihoods.png\"  width=\"680\" />"
   ]
  },
  {
   "cell_type": "markdown",
   "id": "e597af2a",
   "metadata": {},
   "source": [
    "<p float=\"left\">\n",
    "    <img src=\"figures\\leftbnd_xsec.png\"  width=\"200\" />\n",
    "    <img src=\"figures\\col20_xsec.png\"  width=\"200\" />\n",
    "    <img src=\"figures\\col48_xsec.png\"  width=\"200\" />\n",
    "    <img src=\"figures\\col49_xsec.png\"  width=\"200\" />\n",
    "</p>\n",
    "\n",
    "<img src=\"figures\\topbnd_xsec.png\"  width=\"200\" />\n",
    "<img src=\"figures\\row20_xsec.png\"  width=\"200\" />\n",
    "<img src=\"figures\\row49_xsec.png\"  width=\"200\" />"
   ]
  },
  {
   "cell_type": "code",
   "execution_count": null,
   "id": "add56933",
   "metadata": {},
   "outputs": [],
   "source": []
  }
 ],
 "metadata": {
  "kernelspec": {
   "display_name": "Python 3",
   "language": "python",
   "name": "python3"
  },
  "language_info": {
   "codemirror_mode": {
    "name": "ipython",
    "version": 3
   },
   "file_extension": ".py",
   "mimetype": "text/x-python",
   "name": "python",
   "nbconvert_exporter": "python",
   "pygments_lexer": "ipython3",
   "version": "3.6.2"
  }
 },
 "nbformat": 4,
 "nbformat_minor": 5
}
