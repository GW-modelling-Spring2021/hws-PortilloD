{
 "cells": [
  {
   "cell_type": "markdown",
   "id": "4522ebcc",
   "metadata": {},
   "source": []
  },
  {
   "cell_type": "markdown",
   "id": "6bf13867",
   "metadata": {},
   "source": [
    "#### Model Description"
   ]
  },
  {
   "cell_type": "markdown",
   "id": "77ec9d39",
   "metadata": {},
   "source": [
    "The basic set scenario is as follows. There is a modeling-friendly mountain catchment, bounded by no flow boundaries on three sides. The downgradient boundary has been established as constant head based on the results of a larger-scale model. There is a municipal well in the basin. Some of the water used by the town is recharged after treatment, some is returned to the stream that runs through the basin. Recharge is associated with the mountain block. ET occurs in the basin floor and at a higher rate in the riparian area adjacent to the stream. An agricultural business has proposed to add a well and irrigate crops on a new field. You are to use the model to determine the risks of this in terms of agrochemicals reaching the stream, reduced streamflow, and additional drawdown in the town well. The model is run as three steady state conditions: No Town and No Ag (NTNA); Yes Town and No Ag (YTNA); and Yes Town and Yes Ag (YTYA). Some model parameters are known, others are unknown."
   ]
  },
  {
   "cell_type": "markdown",
   "id": "6ed44b33",
   "metadata": {},
   "source": [
    "#### The Challenges"
   ]
  },
  {
   "cell_type": "markdown",
   "id": "2582ec53",
   "metadata": {},
   "source": [
    "1. Describe the scenario being modeled based on the fixed parameter values and the base model parameter values. WHo is the stakeholder? What is their definition of an MOC? What are the selected 'design' options of the ag facility and the town (return flow fraction, location, field location, etc)? Essentially, paint a picture of what is being represented by the model."
   ]
  },
  {
   "cell_type": "markdown",
   "id": "16e5eb36",
   "metadata": {},
   "source": [
    "Fixed param: 50 x 50, 3 layer model with csv elevation topo\n",
    "- constant n\n",
    "- if Sy > n, then Sy overwrites n in model\n",
    "\n",
    "Base MOdel Param: 5 values for each param (not conts)\n",
    "- k val in in vert or horiz\n",
    "- et in riparian\n",
    "- ratio streambed k to aquifer k\n",
    "\n",
    "\n",
    "The stakeholders are: city folk, farm folk, and environmentalists. for this anylsis, the stakeholder is the town\n",
    "\n",
    "MOC (model of concern) is a decision making criteria...if run/analyze model and non models are MOC, then good!!\n",
    "if every one is MOC, then no can't add ag well\n",
    "\n",
    "which models match the data the best, and what is their likliehood\n"
   ]
  },
  {
   "cell_type": "markdown",
   "id": "ff877391",
   "metadata": {},
   "source": [
    "2. Construct an ensemble with 25 unique parameter sets chosen at random and generate output in current model output."
   ]
  },
  {
   "cell_type": "markdown",
   "id": "86495ed9",
   "metadata": {},
   "source": []
  },
  {
   "cell_type": "markdown",
   "id": "4f0dbfd8",
   "metadata": {},
   "source": [
    "3. Based on your initial random ensemble, what is the most likely additional drawdown at the town well due to pumping the ag well? How confident are you in that response - explain/defend your answer."
   ]
  },
  {
   "cell_type": "code",
   "execution_count": null,
   "id": "71a81b85",
   "metadata": {},
   "outputs": [],
   "source": []
  },
  {
   "cell_type": "code",
   "execution_count": null,
   "id": "c84d2fc2",
   "metadata": {},
   "outputs": [],
   "source": []
  },
  {
   "cell_type": "markdown",
   "id": "a7302bca",
   "metadata": {},
   "source": [
    "4. What is the likelihood that the reality (represented by the meager observed data) is best represented by an MOC?"
   ]
  },
  {
   "cell_type": "code",
   "execution_count": null,
   "id": "f3bbab57",
   "metadata": {},
   "outputs": [],
   "source": []
  },
  {
   "cell_type": "markdown",
   "id": "017362c2",
   "metadata": {},
   "source": [
    "5. What is the most likely loss in streamflow at the outflow end of the domain? Justify your answer."
   ]
  },
  {
   "cell_type": "markdown",
   "id": "deeba1c0",
   "metadata": {},
   "source": []
  },
  {
   "cell_type": "markdown",
   "id": "2cddac48",
   "metadata": {},
   "source": [
    "6. Is it likely that either the town or ag well could be contaminated by the ag field? Justify your answer."
   ]
  },
  {
   "cell_type": "markdown",
   "id": "d0503aba",
   "metadata": {},
   "source": []
  },
  {
   "cell_type": "markdown",
   "id": "d4f5ce8e",
   "metadata": {},
   "source": [
    "7. Make a set of plots based on ensemble 2 and discuss how each of your answers to the first four questions changed due to adding the MOC-inspired parameter sets"
   ]
  },
  {
   "cell_type": "code",
   "execution_count": null,
   "id": "6b056c54",
   "metadata": {},
   "outputs": [],
   "source": []
  }
 ],
 "metadata": {
  "kernelspec": {
   "display_name": "Python 3",
   "language": "python",
   "name": "python3"
  },
  "language_info": {
   "codemirror_mode": {
    "name": "ipython",
    "version": 3
   },
   "file_extension": ".py",
   "mimetype": "text/x-python",
   "name": "python",
   "nbconvert_exporter": "python",
   "pygments_lexer": "ipython3",
   "version": "3.6.2"
  }
 },
 "nbformat": 4,
 "nbformat_minor": 5
}
