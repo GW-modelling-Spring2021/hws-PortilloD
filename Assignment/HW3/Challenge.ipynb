{
 "cells": [
  {
   "cell_type": "markdown",
   "id": "hearing-gambling",
   "metadata": {},
   "source": [
    "# Challenge #3: Box Model - Flopy"
   ]
  },
  {
   "cell_type": "markdown",
   "id": "hungry-graham",
   "metadata": {},
   "source": [
    "#### Dalia Portillo"
   ]
  },
  {
   "cell_type": "markdown",
   "id": "virgin-supervision",
   "metadata": {},
   "source": [
    "For this assignment, we used Flopy to model a homogeneous 'box' with a low k inclusion at the center making the entire model heterogenous."
   ]
  },
  {
   "cell_type": "markdown",
   "id": "composed-honor",
   "metadata": {},
   "source": [
    "##### Explain why the values are not constant along the boundary (relate to the definition of a Type I boundary). Explain why the flow distributions are the same for the left and right boundaries."
   ]
  },
  {
   "cell_type": "markdown",
   "id": "duplicate-serbia",
   "metadata": {},
   "source": [
    "<img src=\"noundary_fluxes.JPG\" alt=\"Drawing\" style=\"width: 307px;\"/>\n",
    "\n",
    "*Figure 1 Flow along the left and right boundaries*\n",
    "\n",
    "\n",
    "In a Type I boundary, the head is specified at that boundary. When the K is known within the model, the flux will adjust to meet the boundary conditions and the K distribution. In this case, we see flow at the top and bottom to be the same value. In the middle, however, the flow decreases dramatically. This is because the low K inclusion in the center allows for the flow to continue around these zones pushing only a small amount at a lower rate. So what does this look like at the center?"
   ]
  },
  {
   "cell_type": "markdown",
   "id": "single-campus",
   "metadata": {},
   "source": [
    "##### Add a plot of the left-to-right flow along a line that passes through the center of the inclusion. What can you learn from comparing this distribution to that seen on the boundaries?"
   ]
  },
  {
   "cell_type": "markdown",
   "id": "determined-ancient",
   "metadata": {},
   "source": [
    "<img src=\"fluxes.JPG\" alt=\"Drawing\" style=\"width: 300px;\"/>\n",
    "\n",
    "*Figure 2 Fluxes at the boundaries and down the center*"
   ]
  },
  {
   "cell_type": "markdown",
   "id": "weighted-italy",
   "metadata": {},
   "source": [
    "In figure 2 the flow pattern differs greatly from figure 1. This illustrates how the flow moves around the low permeable zones. Flow increases because the flow path is now longer as flow moves along and around the low K zone and we see a dramaticallylower flux within the zone as flow struggles to find an easier route. This influeces the dip we see in Figure 1 which a smaller flux as a result of the low k zones."
   ]
  },
  {
   "cell_type": "markdown",
   "id": "handled-opera",
   "metadata": {},
   "source": [
    "##### Calculate the total flow into (and out of) the domain.\n",
    "##### Use this to calculate the Keq of the heterogeneous system with the K values as given in the starter code. Repeat this calculation for the following K values for the inclusion (keeping the background K as it is given): 0.01, 0.1, 1, 10, 100."
   ]
  },
  {
   "cell_type": "markdown",
   "id": "successful-brass",
   "metadata": {},
   "source": [
    "qin = qout"
   ]
  },
  {
   "cell_type": "markdown",
   "id": "shared-perfume",
   "metadata": {},
   "source": [
    "The estimated total flow is approximately 100 cubic meters/d (when averaged between all changes of K inclusion). The following are the calculated values for Keq for each K inclusion:\n"
   ]
  },
  {
   "cell_type": "markdown",
   "id": "surprising-witch",
   "metadata": {},
   "source": [
    "|K inclusion (m/d) |Keq (est. m/d)|\n",
    "|------|-------|\n",
    "|0.01|0.9487|\n",
    "|0.1|0.9664|\n",
    "|1|1.0416|\n",
    "|10|1.1168|\n",
    "|100|1.1338|"
   ]
  },
  {
   "cell_type": "markdown",
   "id": "mediterranean-candle",
   "metadata": {},
   "source": [
    "##### Can you draw any general conclusions about the impact of high or low K heterogeneities on the equivalent K for the flow system examined? \n",
    "\n",
    "##### Does the equipotential distribution depend on the absolute or relative K values for the background and the inclusion (e.g. K_background = 1 and K_inclusion = 0.1  vs  K_background = 10 and K_inclusion = 1?)? How would you use the model to test your answer?"
   ]
  },
  {
   "cell_type": "markdown",
   "id": "turned-modeling",
   "metadata": {},
   "source": [
    "On orders of 10, there isn't a ton of change for Keq. This suggests that media with heterogeneity of three orders of magnitude difference will likley shift the Keq of the system than a difference of one order of magnitude. This could also mean that Keq will liklely ignore small, subtle differences in miganitudes of the hydraulic conductivies. Does this depend on the size of distribution of the K inclusion?? Probably not, but I don't know...yet."
   ]
  },
  {
   "cell_type": "markdown",
   "id": "wooden-majority",
   "metadata": {},
   "source": [
    "I think the equipotential contours depends on the relative K rather than absolute. We see this by comparing the head distributions for each change of K inclusion."
   ]
  },
  {
   "cell_type": "markdown",
   "id": "turkish-crime",
   "metadata": {},
   "source": [
    "<img src=\"K_arth.JPG\" alt=\"Drawing\" style=\"width: 320px;\"/><img src=\"khasrm.JPG\" alt=\"Drawing\" style=\"width: 310px;\"/>\n",
    "*Figure 3 Comparison between Keq and K arithmetic* *Figure 4 Comparison between Keq and K harmonic mean*"
   ]
  },
  {
   "cell_type": "code",
   "execution_count": null,
   "id": "freelance-copper",
   "metadata": {},
   "outputs": [],
   "source": []
  }
 ],
 "metadata": {
  "kernelspec": {
   "display_name": "Python 3",
   "language": "python",
   "name": "python3"
  },
  "language_info": {
   "codemirror_mode": {
    "name": "ipython",
    "version": 3
   },
   "file_extension": ".py",
   "mimetype": "text/x-python",
   "name": "python",
   "nbconvert_exporter": "python",
   "pygments_lexer": "ipython3",
   "version": "3.8.5"
  }
 },
 "nbformat": 4,
 "nbformat_minor": 5
}
