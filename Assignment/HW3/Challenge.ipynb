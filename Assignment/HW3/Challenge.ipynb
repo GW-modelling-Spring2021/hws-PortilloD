{
 "cells": [
  {
   "cell_type": "markdown",
   "id": "pointed-florence",
   "metadata": {},
   "source": [
    "# Challenge #3: Box Model - flopy"
   ]
  },
  {
   "cell_type": "markdown",
   "id": "structured-precipitation",
   "metadata": {},
   "source": [
    "#### Dalia Portillo"
   ]
  },
  {
   "cell_type": "markdown",
   "id": "determined-kitchen",
   "metadata": {},
   "source": [
    "homogeneous model with low k inclusion --> heterogen"
   ]
  },
  {
   "cell_type": "markdown",
   "id": "derived-accordance",
   "metadata": {},
   "source": [
    "You will be asked to modify the K value of the inclusion and discuss the impacts on the head and boundary flux distributions. You will also be asked to assess how the domain-scale equivalent K depends on the background and inclusion K values."
   ]
  },
  {
   "cell_type": "markdown",
   "id": "english-regard",
   "metadata": {},
   "source": [
    "Explain why the values are not constant along the boundary (relate to the definition of a Type I boundary). Explain why the flow distributions are the same for the left and right boundaries."
   ]
  },
  {
   "cell_type": "markdown",
   "id": "excessive-moses",
   "metadata": {},
   "source": [
    "Add a plot of the left-to-right flow along a line that passes through the center of the inclusion. What can you learn from comparing this distribution to that seen on the boundaries?"
   ]
  },
  {
   "cell_type": "markdown",
   "id": "skilled-shark",
   "metadata": {},
   "source": [
    "Calculate the total flow into (and out of) the domain. Use this to calculate the Keq of the heterogeneous system with the K values as given in the starter code. Repeat this calculation for the following K values for the inclusion (keeping the background K as it is given): 0.01, 0.1, 1, 10, 100. Compare the Keq to the harmonic and arithmetic mean K values based on the area occupied by each medium (rather than the length for a 1D system). Can you draw any general conclusions about the impact of high or low K heterogeneities on the equivalent K for the flow system examined?"
   ]
  },
  {
   "cell_type": "markdown",
   "id": "blank-anatomy",
   "metadata": {},
   "source": [
    "Does the equipotential distribution depend on the absolute or relative K values for the background and the inclusion? How would you use the model to test your answer?"
   ]
  },
  {
   "cell_type": "code",
   "execution_count": null,
   "id": "adapted-phrase",
   "metadata": {},
   "outputs": [],
   "source": []
  }
 ],
 "metadata": {
  "kernelspec": {
   "display_name": "Python 3",
   "language": "python",
   "name": "python3"
  },
  "language_info": {
   "codemirror_mode": {
    "name": "ipython",
    "version": 3
   },
   "file_extension": ".py",
   "mimetype": "text/x-python",
   "name": "python",
   "nbconvert_exporter": "python",
   "pygments_lexer": "ipython3",
   "version": "3.8.5"
  }
 },
 "nbformat": 4,
 "nbformat_minor": 5
}
