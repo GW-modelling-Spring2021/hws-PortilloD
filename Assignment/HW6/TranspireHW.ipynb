{
 "cells": [
  {
   "cell_type": "markdown",
   "id": "potential-electron",
   "metadata": {},
   "source": [
    "# Transpire\n",
    "Using ET package in MODFLOW\n"
   ]
  },
  {
   "cell_type": "markdown",
   "id": "satisfied-maryland",
   "metadata": {},
   "source": [
    "##### Dalia Portillo\n"
   ]
  },
  {
   "cell_type": "markdown",
   "id": "adolescent-allah",
   "metadata": {},
   "source": [
    "<p float=\"left\">\n",
    "  <img src=\"head5.png\" width=\"340\" />\n",
    "  <img src=\"head10.png\"  width=\"340\" />\n",
    "  <img src=\"head15.png\" width=\"340\" />\n",
    "    \n",
    "</p>"
   ]
  },
  {
   "cell_type": "markdown",
   "id": "starting-violation",
   "metadata": {},
   "source": []
  },
  {
   "cell_type": "code",
   "execution_count": null,
   "id": "billion-assumption",
   "metadata": {},
   "outputs": [],
   "source": []
  },
  {
   "cell_type": "code",
   "execution_count": null,
   "id": "finnish-closer",
   "metadata": {},
   "outputs": [],
   "source": []
  }
 ],
 "metadata": {
  "kernelspec": {
   "display_name": "Python 3",
   "language": "python",
   "name": "python3"
  },
  "language_info": {
   "codemirror_mode": {
    "name": "ipython",
    "version": 3
   },
   "file_extension": ".py",
   "mimetype": "text/x-python",
   "name": "python",
   "nbconvert_exporter": "python",
   "pygments_lexer": "ipython3",
   "version": "3.8.5"
  }
 },
 "nbformat": 4,
 "nbformat_minor": 5
}
