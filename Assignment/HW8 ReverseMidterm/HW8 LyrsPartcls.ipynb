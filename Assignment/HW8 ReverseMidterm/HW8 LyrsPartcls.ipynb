{
 "cells": [
  {
   "cell_type": "markdown",
   "id": "novel-houston",
   "metadata": {},
   "source": [
    "# Layers and Particles\n",
    "\n",
    "##### Dalia Portillo"
   ]
  },
  {
   "cell_type": "markdown",
   "id": "modular-signature",
   "metadata": {},
   "source": [
    "Run the same transient model, only this time, run in the equivalent annual steady state pumping and add particles. Track the evolution of the capture zone after T = 25, 50, 75, 100 years of pumping. Also break the model into three layers."
   ]
  },
  {
   "cell_type": "markdown",
   "id": "electrical-intensity",
   "metadata": {},
   "source": [
    "### The Challenge"
   ]
  },
  {
   "cell_type": "markdown",
   "id": "advanced-retailer",
   "metadata": {},
   "source": [
    "#### 1. How does the capture zone evolve in time? Where does the early time capture zone get its water?"
   ]
  },
  {
   "cell_type": "markdown",
   "id": "recent-extra",
   "metadata": {},
   "source": [
    "<center>\n",
    "<p float=\"right\">\n",
    "   <img src=\"1lyr_particles_captures_25.png\"  width=\"293\" />\n",
    "   <img src=\"1lyr_particles_captures_50.png\"  width=\"283\" />\n",
    "   <img src=\"1lyr_particles_captures_75.png\"  width=\"290\" />\n",
    "</p>"
   ]
  },
  {
   "cell_type": "markdown",
   "id": "rural-beijing",
   "metadata": {},
   "source": [
    "Above we can see the eovlution of the capture zone for a layer system starting from year = 0 to year = 75. The well is pumping at an average annual rate of 250 m/d. As time increases with the pump on (never turning off any point), we can see the size of the orange circle increase. these are particles captured by the well.  I believe this shows the extent of the capture zone within the domain. Adn its very small actually, only taking in particles from surrounding the well (~50m in diameter)."
   ]
  },
  {
   "cell_type": "markdown",
   "id": "democratic-balloon",
   "metadata": {},
   "source": [
    "#### 2. Where does the 'infinite time' capture zone get its water?"
   ]
  },
  {
   "cell_type": "markdown",
   "id": "specified-converter",
   "metadata": {},
   "source": [
    "In a previous class, Matt made an analogy about a breweing company. That is, as company X brewes craft beer, each previously distributed shipemtn gets replaced by the newly brewed beer. So in this case, volumes of water at the boundaries flow from high gradient to low gradient as usual. But the volumes of water are replaced by water from storage. ...I think. My model crashes if I run for over 200 years and I did not try anything between 100 and 200 years. But I think running a well for 100 years is RELATIVELY close to inifite!"
   ]
  },
  {
   "cell_type": "markdown",
   "id": "inappropriate-canvas",
   "metadata": {},
   "source": [
    "<p float=\"right\">\n",
    "   <img src=\"1lyr_particles_captures_100.png\"  width=\"293\" />\n",
    "</p>"
   ]
  },
  {
   "cell_type": "markdown",
   "id": "sexual-surname",
   "metadata": {},
   "source": [
    "#### 3. How does the extent of the capture zone change when layers are considered? Can you still define a 2D capture zone??"
   ]
  },
  {
   "cell_type": "markdown",
   "id": "revolutionary-survival",
   "metadata": {},
   "source": [
    "<p float=\"right\">\n",
    "   <img src=\"particles_captures_25_0.png\"  width=\"290\" />\n",
    "   <img src=\"particles_captures_50_0.png\"  width=\"283\" />\n",
    "   <img src=\"particles_captures_75_0.png\"  width=\"290\" />\n",
    "</p>"
   ]
  },
  {
   "cell_type": "markdown",
   "id": "simplified-wyoming",
   "metadata": {},
   "source": [
    "when layers are added, the extent of the capture zone is now 3D. We can define a 2D capture zone within each layer, but not as a whole.\n",
    "\n",
    "Above are the time steps for the top layer and below are the middle and bottom layers. Ideealy, since the middle layer is supposed to act as confined we should see the greatest impact but I think I missed something in my code about the layer properties. So here we see the impacts of the well in thebottom layer and in the middle unit. At about 75 years, it looks as if the extent has now increased to approx ~ 50m radius around the well (~100m diameter)."
   ]
  },
  {
   "cell_type": "markdown",
   "id": "finnish-personality",
   "metadata": {},
   "source": [
    "<p float=\"right\">\n",
    "   <img src=\"particles_captures_25_1.png\"  width=\"290\" />\n",
    "   <img src=\"particles_captures_50_1.png\"  width=\"285\" />\n",
    "   <img src=\"particles_captures_75_1.png\"  width=\"290\" />\n",
    "</p>"
   ]
  },
  {
   "cell_type": "markdown",
   "id": "apparent-springfield",
   "metadata": {},
   "source": [
    "<p float=\"right\">\n",
    "   <img src=\"particles_captures_25_test.png\"  width=\"293\" />\n",
    "   <img src=\"particles_captures_50.png\"  width=\"283\" />\n",
    "   <img src=\"particles_captures_75.png\"  width=\"290\" />\n",
    "</p>"
   ]
  },
  {
   "cell_type": "markdown",
   "id": "speaking-edward",
   "metadata": {},
   "source": [
    "#### 4. How does the extent of the 'infinite time' capture zone change when layers are added? Explain any difference in the lateral extent of the capture zone along the left boundary."
   ]
  },
  {
   "cell_type": "markdown",
   "id": "diagnostic-compression",
   "metadata": {},
   "source": [
    "<p float=\"right\">\n",
    "   <img src=\"particles_captures_100_1.png\"  width=\"290\" />\n",
    "   <img src=\"particles_captures_100.png\"  width=\"283\" />\n",
    "</p>"
   ]
  },
  {
   "cell_type": "markdown",
   "id": "inclusive-adoption",
   "metadata": {},
   "source": [
    "On the left is the top most layer and the right is the bottom layer for 100 years of pumping. Compared with the 75 years layer 3 above, we see the 100 years layer 3 is more or less the same size but the radial distance in layer 1 has now increased as seen on the left. In 3D, it would produce a conical shape....at least according to my code......"
   ]
  },
  {
   "cell_type": "markdown",
   "id": "neural-ferry",
   "metadata": {},
   "source": []
  }
 ],
 "metadata": {
  "kernelspec": {
   "display_name": "Python 3",
   "language": "python",
   "name": "python3"
  },
  "language_info": {
   "codemirror_mode": {
    "name": "ipython",
    "version": 3
   },
   "file_extension": ".py",
   "mimetype": "text/x-python",
   "name": "python",
   "nbconvert_exporter": "python",
   "pygments_lexer": "ipython3",
   "version": "3.8.5"
  }
 },
 "nbformat": 4,
 "nbformat_minor": 5
}
