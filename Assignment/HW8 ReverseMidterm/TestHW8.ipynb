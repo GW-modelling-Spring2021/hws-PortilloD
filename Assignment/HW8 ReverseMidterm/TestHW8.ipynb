{
 "cells": [
  {
   "cell_type": "code",
   "execution_count": null,
   "id": "supposed-letter",
   "metadata": {},
   "outputs": [],
   "source": []
  },
  {
   "cell_type": "code",
   "execution_count": null,
   "id": "broadband-target",
   "metadata": {},
   "outputs": [],
   "source": []
  },
  {
   "cell_type": "code",
   "execution_count": 1,
   "id": "worst-supervision",
   "metadata": {},
   "outputs": [],
   "source": [
    "#import the basics\n",
    "import flopy\n",
    "\n",
    "import numpy as np\n",
    "import matplotlib as mp\n",
    "import os\n",
    "import pandas as pd\n",
    "\n",
    "#additional analysis tools\n",
    "import flopy.utils.binaryfile as bf\n",
    "import flopy.utils.modpathfile as mpf\n",
    "import pylab\n",
    "from mpl_toolkits.mplot3d import Axes3D\n",
    "import matplotlib.pyplot as plt\n",
    "from matplotlib import cm\n",
    "from matplotlib.ticker import LinearLocator, FormatStrFormatter\n",
    "import csv\n",
    "\n",
    "#jupyter specific--included to show plots in notebook\n",
    "%matplotlib inline"
   ]
  },
  {
   "cell_type": "markdown",
   "id": "annoying-coral",
   "metadata": {},
   "source": [
    "### 1. Create the model"
   ]
  },
  {
   "cell_type": "code",
   "execution_count": 2,
   "id": "current-municipality",
   "metadata": {},
   "outputs": [],
   "source": [
    "modelname = \"TestHW8\"\n",
    "#moddir=r\"C:\\Users\\Dalia\\OneDrive\\Documents\\SPRING21\\582-GWMod\\hws-PortilloD\\Assignment\\HW8 ReverseMidterm\\mf2005.exe\"\n",
    "moddir=r\"C:\\Users\\Quilson2\\OneDrive\\Documents\\SPRING21\\582-GWMod\\hws-PortilloD\\Assignment\\HW8 ReverseMidterm\\mf2005.exe\"\n",
    "m = flopy.modflow.Modflow(modelname, exe_name = moddir)"
   ]
  },
  {
   "cell_type": "code",
   "execution_count": null,
   "id": "accompanied-official",
   "metadata": {},
   "outputs": [],
   "source": []
  },
  {
   "cell_type": "code",
   "execution_count": 3,
   "id": "demographic-conducting",
   "metadata": {},
   "outputs": [],
   "source": [
    "#optional delete old run files\n",
    "run = 'n'\n",
    "if run == 'y':\n",
    "    # file_extensions = ['.dis','.bas','.lpf','.oc','.pcg','.wel']\n",
    "    file_extensions = ['.dis','.bas','.bcf','.oc','.pcg', '.wel', 'rch','evt']\n",
    "    for ext in file_extensions:\n",
    "        os.remove(modelname + ext)\n",
    "        #os.remove(modelname2 + ext)"
   ]
  },
  {
   "cell_type": "code",
   "execution_count": null,
   "id": "greenhouse-scout",
   "metadata": {},
   "outputs": [],
   "source": []
  },
  {
   "cell_type": "code",
   "execution_count": 4,
   "id": "peripheral-healthcare",
   "metadata": {},
   "outputs": [],
   "source": [
    "\n",
    "nrow = 50 #number of rows\n",
    "ncol = 50 #number of columns\n",
    "nlay = 3  #number of layers\n",
    "\n",
    "dx= 10 #width of grid cells in x direction \n",
    "dy= 10 #width of grid cells in y direction \n",
    "\n",
    "Lx = ncol*dx  #width of domain in x\n",
    "Ly = nrow*dy #width of domain in y\n",
    "ztop = 50.    #top elevation \n",
    "zbot = 0.     #bottom elevation\n",
    "\n",
    "dz = (ztop - zbot) / nlay #cell height in z direction\n",
    "\n",
    "#set the elevation and thickness for each layer\n",
    "zb1 = ztop-20 #m\n",
    "zb2 = zb1-10 #m\n",
    "zb3 = zb2-20 #m\n",
    "\n",
    "zbot = [zb1, zb2, zb3]\n",
    "\n",
    "\n",
    "domain_centerpt = (1, int(nrow/2), int(ncol/2))   # used for plotting\n",
    "#print(dz)"
   ]
  },
  {
   "cell_type": "code",
   "execution_count": 5,
   "id": "secondary-complexity",
   "metadata": {},
   "outputs": [],
   "source": [
    "nper = 1                           # number of stress periods \n",
    "steady = [True]                    # list noting the stress period type\n",
    "sim_yearsT = 100                        # total years of simulation\n",
    "yr1 = 25                                # first step\n",
    "yr2 = 50                                # second step\n",
    "yr3 = 75                                # third step\n",
    "\n",
    "sp_len = 360                             # days per year\n",
    "#sp_peryr = 2                            # periods for seasonality (two stress periods per year)\n",
    "#sp1_len = 90                            # Length of stress period 1 in days\n",
    "#sp2_len = 360-sp1_len                   # Length of stress period 2 in days\n",
    "#sim_years = 100                         # number of years for transient simulation \n",
    "nper1 = int(nper*yr1+1)\n",
    "nper2 = int(nper*yr2)\n",
    "nper3 = int(nper*yr3)\n",
    "nper4 = int(nper*sim_yearsT+1)\n",
    "\n",
    "#setup the steady state array\n",
    "steady1 = np.ones(nper1, dtype=bool)           # steady-state or transient flag for each stress period (boolean array)\n",
    "steady2 = np.ones(nper2, dtype=bool)\n",
    "steady3 = np.ones(nper3, dtype=bool)\n",
    "steady4 = np.ones(nper4, dtype=bool)\n",
    "#steady[0] = True                            # initial stress period is steady-state\n",
    "\n",
    "#make an array of period lengths\n",
    "perlen1=np.tile(sp_len,nper1)\n",
    "perlen2=np.tile(sp_len,nper2)\n",
    "perlen3=np.tile(sp_len,nper3)\n",
    "perlen4=np.tile(sp_len,nper4)\n",
    "#perlen=np.append(10,perlen) #add a period of length 10 at the start for the steady state simulation\n",
    "\n",
    "nstp1=perlen1/30       # set monthly time steps per stress period to get monthly results\n",
    "nstp2=perlen2/30\n",
    "nstp3=perlen3/30\n",
    "nstp4=perlen4/30\n",
    "\n",
    "nstp1 = nstp1.astype(int)\n",
    "nstp2 = nstp2.astype(int)\n",
    "nstp3 = nstp3.astype(int)\n",
    "nstp4 = nstp4.astype(int)\n",
    "\n",
    "elyr1 = (np.cumsum(perlen1)-perlen1[0])/360\n",
    "elyr2 = (np.cumsum(perlen2)-perlen2[0])/360\n",
    "elyr3 = (np.cumsum(perlen3)-perlen3[0])/360\n",
    "elyr4 = (np.cumsum(perlen4)-perlen4[0])/360"
   ]
  },
  {
   "cell_type": "code",
   "execution_count": 6,
   "id": "collectible-royal",
   "metadata": {},
   "outputs": [],
   "source": [
    "#print(steady2)\n",
    "#print(perlen2)\n",
    "#print(nstp2)\n",
    "#print(elyr2)"
   ]
  },
  {
   "cell_type": "code",
   "execution_count": 7,
   "id": "digital-candle",
   "metadata": {},
   "outputs": [],
   "source": [
    "K_horiz = .1    #horizontal hydraulic conductivity \n",
    "K_vert = .1     #assign vertical hydraulic conductivity (along z axis)\n",
    "n = 0.35        #assign porosity\n",
    "Ss = 0.001      #assign storage coefficient\n",
    "Sy = 0.03       #assign specific yield\n",
    "uncnf = 1       #0=confined, >0 = unconfined\n",
    "uncnf2 = 0\n",
    "uncnf3 = 1"
   ]
  },
  {
   "cell_type": "code",
   "execution_count": 8,
   "id": "military-limitation",
   "metadata": {},
   "outputs": [
    {
     "data": {
      "image/png": "[encoded data removed]",
      "text/plain": [
       "<Figure size 720x720 with 2 Axes>"
      ]
     },
     "metadata": {
      "needs_background": "light"
     },
     "output_type": "display_data"
    }
   ],
   "source": [
    "K_vals = np.zeros((nlay,ncol,nrow))\n",
    "K_vals[:,:,:] = 1             # homoogeneous background hydraulic conductivity \n",
    "#K_vals[10:15,10:15,:] = 0.1   # low K inclusion\n",
    "\n",
    "# assign K vals for each layer\n",
    "K_vals[0,:,:] = 1 \n",
    "K_vals[1,:,:] = 0.3 \n",
    "K_vals[2,:,:] = 1\n",
    " \n",
    "\n",
    "#plot K values in top layer\n",
    "fig1 = plt.figure(figsize=(10,10)) #create 10 x 10 figure\n",
    "plt.xlabel('Lx (m)',fontsize = 14)\n",
    "plt.ylabel('Ly (m)',fontsize = 14)\n",
    "plt.title('K in middle layer', fontsize = 15, fontweight = 'bold')\n",
    "plt.contourf(K_vals[1,:,:])\n",
    "plt.colorbar()\n",
    "plt.show()"
   ]
  },
  {
   "cell_type": "code",
   "execution_count": 9,
   "id": "english-active",
   "metadata": {},
   "outputs": [],
   "source": [
    "#assigns horizontal and vertical Ks and saves cell-by-cell budget data\n",
    "#bcf = flopy.modflow.ModflowBcf(m, ipakcb=53, intercellt=0, laycon=3, trpy=1.0, hdry=-1e+30, iwdflg=0, wetfct=0.1, iwetit=1, ihdwet=0, tran=1.0, hy=K_vals[:,:,0], vcont=1.0, sf1=Ss, sf2=Sy, wetdry=-0.01, extension='bcf', unitnumber=None, filenames=None)"
   ]
  },
  {
   "cell_type": "code",
   "execution_count": 10,
   "id": "veterinary-adams",
   "metadata": {},
   "outputs": [],
   "source": [
    "#create flopy discretization object, length and time are meters (2) and days (4)\n",
    "dis = flopy.modflow.ModflowDis(model=m, nlay=nlay, nrow=nrow, ncol=ncol, \n",
    "                               delr=dx, delc=dy, top=ztop, botm=zbot, \n",
    "                               itmuni = 4, lenuni = 2, \n",
    "                               nper=nper4, steady=steady4)"
   ]
  },
  {
   "cell_type": "code",
   "execution_count": 11,
   "id": "patient-evans",
   "metadata": {},
   "outputs": [
    {
     "data": {
      "image/png": "[encoded data removed]",
      "text/plain": [
       "<Figure size 432x288 with 1 Axes>"
      ]
     },
     "metadata": {
      "needs_background": "light"
     },
     "output_type": "display_data"
    }
   ],
   "source": [
    "#use flopy to plot the grid of model 'm'\n",
    "modelmap = flopy.plot.PlotMapView(model=m, layer=0)\n",
    "grid = modelmap.plot_grid() \n",
    "plt.xlabel('Lx (m)',fontsize = 14)\n",
    "plt.ylabel('Ly (m)',fontsize = 14)\n",
    "plt.title('Grid', fontsize = 15, fontweight = 'bold')\n",
    "plt.show()"
   ]
  },
  {
   "cell_type": "code",
   "execution_count": 12,
   "id": "cross-redhead",
   "metadata": {},
   "outputs": [],
   "source": [
    "#create ibound as array of ints = 1\n",
    "ibound = np.ones((nlay, nrow, ncol), dtype=np.int32) #integer array of dim (z,y,x), makes all cells active     \n",
    "#ibound2 = np.ones((nlay, nrow, ncol), dtype=np.int32)\n",
    "\n",
    "#set constant head boundary on the left\n",
    "ibound[:,:,0] = -1          #replace leftmost column (all zs, all ys, first x) with -1 to indicate constant head \n",
    "ibound[:,:,-1] = -1          #replace rightmost column (all zs, all ys, first x) with -1 to indicate constant head"
   ]
  },
  {
   "cell_type": "code",
   "execution_count": 13,
   "id": "earned-praise",
   "metadata": {},
   "outputs": [],
   "source": [
    "#setup initial heads as 70 everywhere, this value will be preserved on constant head boundaries  \n",
    "H_init = np.ones((nlay, nrow, ncol), dtype=np.float32)  #float array (i.e. decimal), sets all heads to 1.0\n",
    "H_init[:, :, :] = 50     # set all values to uniform initial condition\n",
    "H_init[:, :, -1] = 40    #replace last (right) col with desired head value"
   ]
  },
  {
   "cell_type": "code",
   "execution_count": 14,
   "id": "cloudy-delay",
   "metadata": {},
   "outputs": [],
   "source": [
    "#Setup alternating pumping values in the bottom layer\n",
    "well_loc = [2, 20, 20]\n",
    "Q1 = -250\n",
    "Q2 = -275\n",
    "\n",
    "Q_val=np.tile([Q2,Q2],sim_yearsT)\n",
    "#Q_val=np.append(0,Q_val) # add a period of length 10 at the start for the steady state simulation\n",
    "                      \n",
    "Q = {}\n",
    "for p in range(0,nper4):    #loop over stress periods\n",
    "    Q[p]=Q_val[p]\n",
    "\n",
    "well_spd = {}                                                                  # create empty dictionary for well info\n",
    "for per in range(nper4):                                                        # transient models, iterate over stress periods to assign well stresses\n",
    "    well_spd[per] = [[well_loc[0], well_loc[1], well_loc[2], Q[per]]]      # assign well coord & pump rate for each stress period\n"
   ]
  },
  {
   "cell_type": "code",
   "execution_count": 15,
   "id": "medium-mistake",
   "metadata": {},
   "outputs": [],
   "source": [
    "wel = flopy.modflow.mfwel.ModflowWel(m, stress_period_data=well_spd)  #create object for WEL package"
   ]
  },
  {
   "cell_type": "code",
   "execution_count": 16,
   "id": "genetic-platinum",
   "metadata": {},
   "outputs": [],
   "source": [
    "#Recharge \n",
    "rech_zone = np.zeros((1,nrow,ncol))               #define an array of zeros of dim (nlay,nrow,ncol) - backgroun ET is zero everywhere\n",
    "recharge = 1e-4 #m/day                          \n",
    "#rech_zone[0,8:17,2:17] = recharge\n",
    "rech_zone[0,:,:] = recharge\n",
    "\n",
    "\n",
    "rch = flopy.modflow.mfrch.ModflowRch(model=m, rech=rech_zone, ipakcb=53)     #create rch object"
   ]
  },
  {
   "cell_type": "code",
   "execution_count": 17,
   "id": "naughty-techno",
   "metadata": {},
   "outputs": [
    {
     "data": {
      "text/plain": [
       "'# ET - this is set up to show how you would add time-varying recharge in a localized area\\nET_val1 = 0 #m/day\\nET_val2 = 0.01 #m/day\\nET_locxy=[[400, 900], [1500, 1600]] #lower left and upper right corners of ET in xy coordinate\\nextinction_depth = 50\\n\\nET_rows=(np.floor(nrow-ET_locxy[1][1]/dy),np.floor(nrow-ET_locxy[0][1]/dy)) #convert the y locations to rows\\nET_cols=(np.floor(ET_locxy[0][0]/dx),np.floor(ET_locxy[1][0]/dx)) #convert the y locations to rows\\nET_centerpt=(0, int(np.mean(ET_rows)),int(np.mean(ET_cols)))\\nET_zone = np.zeros((nlay,nrow,ncol))     # define an array of zeroes the size of the model grid\\nET_zone[0,int(ET_rows[0]):int(ET_rows[1]), int(ET_cols[0]):int(ET_cols[1])] = ET_val2  # assign ET rate to the ET zone\\n\\n#Setup alternating ET values\\nET_val=np.tile([ET_val1, ET_val2],sim_years)\\nET_val=np.append(ET_val1,ET_val) # add a period of length 10 at the start for the steady state simulation\\n                      \\nET = {}\\nfor p in range(0,nper):    #loop over stress periods\\n    ET[p]=ET_zone*ET_val[p]\\n\\nevt = flopy.modflow.mfevt.ModflowEvt(m, surf=ztop, evtr=ET, exdp=extinction_depth, ipakcb=53)'"
      ]
     },
     "execution_count": 17,
     "metadata": {},
     "output_type": "execute_result"
    }
   ],
   "source": [
    "'''# ET - this is set up to show how you would add time-varying recharge in a localized area\n",
    "ET_val1 = 0 #m/day\n",
    "ET_val2 = 0.01 #m/day\n",
    "ET_locxy=[[400, 900], [1500, 1600]] #lower left and upper right corners of ET in xy coordinate\n",
    "extinction_depth = 50\n",
    "\n",
    "ET_rows=(np.floor(nrow-ET_locxy[1][1]/dy),np.floor(nrow-ET_locxy[0][1]/dy)) #convert the y locations to rows\n",
    "ET_cols=(np.floor(ET_locxy[0][0]/dx),np.floor(ET_locxy[1][0]/dx)) #convert the y locations to rows\n",
    "ET_centerpt=(0, int(np.mean(ET_rows)),int(np.mean(ET_cols)))\n",
    "ET_zone = np.zeros((nlay,nrow,ncol))     # define an array of zeroes the size of the model grid\n",
    "ET_zone[0,int(ET_rows[0]):int(ET_rows[1]), int(ET_cols[0]):int(ET_cols[1])] = ET_val2  # assign ET rate to the ET zone\n",
    "\n",
    "#Setup alternating ET values\n",
    "ET_val=np.tile([ET_val1, ET_val2],sim_years)\n",
    "ET_val=np.append(ET_val1,ET_val) # add a period of length 10 at the start for the steady state simulation\n",
    "                      \n",
    "ET = {}\n",
    "for p in range(0,nper):    #loop over stress periods\n",
    "    ET[p]=ET_zone*ET_val[p]\n",
    "\n",
    "evt = flopy.modflow.mfevt.ModflowEvt(m, surf=ztop, evtr=ET, exdp=extinction_depth, ipakcb=53)'''"
   ]
  },
  {
   "cell_type": "code",
   "execution_count": 18,
   "id": "separated-zimbabwe",
   "metadata": {},
   "outputs": [],
   "source": [
    "#create flopy bas object\n",
    "bas = flopy.modflow.ModflowBas(m, ibound=ibound, strt=H_init)"
   ]
  },
  {
   "cell_type": "code",
   "execution_count": 19,
   "id": "fluid-barbados",
   "metadata": {},
   "outputs": [
    {
     "data": {
      "text/plain": [
       "'lpf = flopy.modflow.ModflowLpf(m, laytyp=uncnf, hk=K_vals, \\n                                vka=K_vert, ss=Ss,\\n                                sy=Sy,storagecoefficient=True, ipakcb=53)'"
      ]
     },
     "execution_count": 19,
     "metadata": {},
     "output_type": "execute_result"
    }
   ],
   "source": [
    "\n",
    "#laytyp = [1,0,1]\n",
    "laytyp = np.ones((nlay), dtype=np.int32)\n",
    "#laytyp[0]=1\n",
    "lpf = flopy.modflow.ModflowLpf(m, laytyp=uncnf, hk=K_vals, ss=Ss, sy=Sy, storagecoefficient=True, ipakcb=53)\n",
    "\n",
    "'''lpf = flopy.modflow.ModflowLpf(m, laytyp=uncnf, hk=K_vals, \n",
    "                                vka=K_vert, ss=Ss,\n",
    "                                sy=Sy,storagecoefficient=True, ipakcb=53)'''"
   ]
  },
  {
   "cell_type": "code",
   "execution_count": 20,
   "id": "characteristic-remainder",
   "metadata": {},
   "outputs": [],
   "source": [
    "#create oc stress period data - save for each time step in each stress period. \n",
    "oc_spd = {}\n",
    "for kper in range(nper4):  \n",
    "    for kstp in range(nstp4[kper]):\n",
    "        #print(kstp)\n",
    "        oc_spd[(kper, kstp)] = ['save head','save drawdown','save budget','print head','print budget']"
   ]
  },
  {
   "cell_type": "code",
   "execution_count": 21,
   "id": "usual-reading",
   "metadata": {},
   "outputs": [],
   "source": [
    "oc = flopy.modflow.ModflowOc(model=m, stress_period_data=oc_spd, compact=True)"
   ]
  },
  {
   "cell_type": "code",
   "execution_count": 22,
   "id": "sharing-negative",
   "metadata": {},
   "outputs": [],
   "source": [
    "pcg = flopy.modflow.ModflowPcg(model=m)"
   ]
  },
  {
   "cell_type": "code",
   "execution_count": 23,
   "id": "formal-identifier",
   "metadata": {},
   "outputs": [
    {
     "data": {
      "image/png": "[encoded data removed]",
      "text/plain": [
       "<Figure size 432x288 with 1 Axes>"
      ]
     },
     "metadata": {
      "needs_background": "light"
     },
     "output_type": "display_data"
    }
   ],
   "source": [
    "#plot grid and ibound\n",
    "modelmap = flopy.plot.PlotMapView(model=m, layer=2)\n",
    "grid = modelmap.plot_grid()\n",
    "#quadmesh = modelmap.plot_array(rech_zone)\n",
    "ib = modelmap.plot_ibound()\n",
    "wel = modelmap.plot_bc(\"WEL\")\n",
    "\n",
    "#add labels and legend\n",
    "plt.xlabel('Lx (m)',fontsize = 14)\n",
    "plt.ylabel('Ly (m)',fontsize = 14)\n",
    "plt.yticks([1, 100, 200, 300, 400,500], ['500', '400', '300','200','100','0'])\n",
    "plt.title('Ibound', fontsize = 15, fontweight = 'bold')\n",
    "plt.legend(handles=[mp.patches.Patch(color='blue',label='Const. Head',ec='black'),\n",
    "                   mp.patches.Patch(color='white',label='Active Cell',ec='black'),\n",
    "                   mp.patches.Patch(color='black',label='Inactive Cell',ec='black')],\n",
    "                   bbox_to_anchor=(1.5,1.0))\n",
    "plt.show(modelmap)\n",
    "\n"
   ]
  },
  {
   "cell_type": "code",
   "execution_count": null,
   "id": "julian-winner",
   "metadata": {},
   "outputs": [],
   "source": []
  },
  {
   "cell_type": "code",
   "execution_count": 24,
   "id": "expected-fishing",
   "metadata": {},
   "outputs": [],
   "source": [
    "m.write_input()    #uses the package objects created above to actually write the text files, \n",
    "                    #and saves to folder that this script is in\n",
    "                    #after this step you should see the files appear in your folder"
   ]
  },
  {
   "cell_type": "code",
   "execution_count": 25,
   "id": "abroad-copying",
   "metadata": {},
   "outputs": [
    {
     "name": "stdout",
     "output_type": "stream",
     "text": [
      "FloPy is using the following  executable to run the model: C:\\Users\\Quilson2\\OneDrive\\Documents\\SPRING21\\582-GWMod\\hws-PortilloD\\Assignment\\HW8 ReverseMidterm\\mf2005.exe\n",
      "\n",
      "                                  MODFLOW-2005     \n",
      "    U.S. GEOLOGICAL SURVEY MODULAR FINITE-DIFFERENCE GROUND-WATER FLOW MODEL\n",
      "                             Version 1.11.00 8/8/2013                        \n",
      "\n",
      " Using NAME file: TestHW8.nam \n",
      " Run start date and time (yyyy/mm/dd hh:mm:ss): 2021/03/28 22:36:32\n",
      "\n",
      " Solving:  Stress period:     1    Time step:     1    Ground-Water Flow Eqn.\n",
      " Solving:  Stress period:     2    Time step:     1    Ground-Water Flow Eqn.\n",
      " Solving:  Stress period:     3    Time step:     1    Ground-Water Flow Eqn.\n",
      " Solving:  Stress period:     4    Time step:     1    Ground-Water Flow Eqn.\n",
      " Solving:  Stress period:     5    Time step:     1    Ground-Water Flow Eqn.\n",
      " Solving:  Stress period:     6    Time step:     1    Ground-Water Flow Eqn.\n",
      " Solving:  Stress period:     7    Time step:     1    Ground-Water Flow Eqn.\n",
      " Solving:  Stress period:     8    Time step:     1    Ground-Water Flow Eqn.\n",
      " Solving:  Stress period:     9    Time step:     1    Ground-Water Flow Eqn.\n",
      " Solving:  Stress period:    10    Time step:     1    Ground-Water Flow Eqn.\n",
      " Solving:  Stress period:    11    Time step:     1    Ground-Water Flow Eqn.\n",
      " Solving:  Stress period:    12    Time step:     1    Ground-Water Flow Eqn.\n",
      " Solving:  Stress period:    13    Time step:     1    Ground-Water Flow Eqn.\n",
      " Solving:  Stress period:    14    Time step:     1    Ground-Water Flow Eqn.\n",
      " Solving:  Stress period:    15    Time step:     1    Ground-Water Flow Eqn.\n",
      " Solving:  Stress period:    16    Time step:     1    Ground-Water Flow Eqn.\n",
      " Solving:  Stress period:    17    Time step:     1    Ground-Water Flow Eqn.\n",
      " Solving:  Stress period:    18    Time step:     1    Ground-Water Flow Eqn.\n",
      " Solving:  Stress period:    19    Time step:     1    Ground-Water Flow Eqn.\n",
      " Solving:  Stress period:    20    Time step:     1    Ground-Water Flow Eqn.\n",
      " Solving:  Stress period:    21    Time step:     1    Ground-Water Flow Eqn.\n",
      " Solving:  Stress period:    22    Time step:     1    Ground-Water Flow Eqn.\n",
      " Solving:  Stress period:    23    Time step:     1    Ground-Water Flow Eqn.\n",
      " Solving:  Stress period:    24    Time step:     1    Ground-Water Flow Eqn.\n",
      " Solving:  Stress period:    25    Time step:     1    Ground-Water Flow Eqn.\n",
      " Solving:  Stress period:    26    Time step:     1    Ground-Water Flow Eqn.\n",
      " Solving:  Stress period:    27    Time step:     1    Ground-Water Flow Eqn.\n",
      " Solving:  Stress period:    28    Time step:     1    Ground-Water Flow Eqn.\n",
      " Solving:  Stress period:    29    Time step:     1    Ground-Water Flow Eqn.\n",
      " Solving:  Stress period:    30    Time step:     1    Ground-Water Flow Eqn.\n",
      " Solving:  Stress period:    31    Time step:     1    Ground-Water Flow Eqn.\n",
      " Solving:  Stress period:    32    Time step:     1    Ground-Water Flow Eqn.\n",
      " Solving:  Stress period:    33    Time step:     1    Ground-Water Flow Eqn.\n",
      " Solving:  Stress period:    34    Time step:     1    Ground-Water Flow Eqn.\n",
      " Solving:  Stress period:    35    Time step:     1    Ground-Water Flow Eqn.\n",
      " Solving:  Stress period:    36    Time step:     1    Ground-Water Flow Eqn.\n",
      " Solving:  Stress period:    37    Time step:     1    Ground-Water Flow Eqn.\n",
      " Solving:  Stress period:    38    Time step:     1    Ground-Water Flow Eqn.\n",
      " Solving:  Stress period:    39    Time step:     1    Ground-Water Flow Eqn.\n",
      " Solving:  Stress period:    40    Time step:     1    Ground-Water Flow Eqn.\n",
      " Solving:  Stress period:    41    Time step:     1    Ground-Water Flow Eqn.\n",
      " Solving:  Stress period:    42    Time step:     1    Ground-Water Flow Eqn.\n",
      " Solving:  Stress period:    43    Time step:     1    Ground-Water Flow Eqn.\n",
      " Solving:  Stress period:    44    Time step:     1    Ground-Water Flow Eqn.\n",
      " Solving:  Stress period:    45    Time step:     1    Ground-Water Flow Eqn.\n",
      " Solving:  Stress period:    46    Time step:     1    Ground-Water Flow Eqn.\n",
      " Solving:  Stress period:    47    Time step:     1    Ground-Water Flow Eqn.\n",
      " Solving:  Stress period:    48    Time step:     1    Ground-Water Flow Eqn.\n",
      " Solving:  Stress period:    49    Time step:     1    Ground-Water Flow Eqn.\n",
      " Solving:  Stress period:    50    Time step:     1    Ground-Water Flow Eqn.\n",
      " Solving:  Stress period:    51    Time step:     1    Ground-Water Flow Eqn.\n",
      " Solving:  Stress period:    52    Time step:     1    Ground-Water Flow Eqn.\n",
      " Solving:  Stress period:    53    Time step:     1    Ground-Water Flow Eqn.\n",
      " Solving:  Stress period:    54    Time step:     1    Ground-Water Flow Eqn.\n",
      " Solving:  Stress period:    55    Time step:     1    Ground-Water Flow Eqn.\n",
      " Solving:  Stress period:    56    Time step:     1    Ground-Water Flow Eqn.\n",
      " Solving:  Stress period:    57    Time step:     1    Ground-Water Flow Eqn.\n",
      " Solving:  Stress period:    58    Time step:     1    Ground-Water Flow Eqn.\n",
      " Solving:  Stress period:    59    Time step:     1    Ground-Water Flow Eqn.\n",
      " Solving:  Stress period:    60    Time step:     1    Ground-Water Flow Eqn.\n",
      " Solving:  Stress period:    61    Time step:     1    Ground-Water Flow Eqn.\n",
      " Solving:  Stress period:    62    Time step:     1    Ground-Water Flow Eqn.\n",
      " Solving:  Stress period:    63    Time step:     1    Ground-Water Flow Eqn.\n",
      " Solving:  Stress period:    64    Time step:     1    Ground-Water Flow Eqn.\n",
      " Solving:  Stress period:    65    Time step:     1    Ground-Water Flow Eqn.\n",
      " Solving:  Stress period:    66    Time step:     1    Ground-Water Flow Eqn.\n",
      " Solving:  Stress period:    67    Time step:     1    Ground-Water Flow Eqn.\n",
      " Solving:  Stress period:    68    Time step:     1    Ground-Water Flow Eqn.\n",
      " Solving:  Stress period:    69    Time step:     1    Ground-Water Flow Eqn.\n",
      " Solving:  Stress period:    70    Time step:     1    Ground-Water Flow Eqn.\n",
      " Solving:  Stress period:    71    Time step:     1    Ground-Water Flow Eqn.\n",
      " Solving:  Stress period:    72    Time step:     1    Ground-Water Flow Eqn.\n",
      " Solving:  Stress period:    73    Time step:     1    Ground-Water Flow Eqn.\n",
      " Solving:  Stress period:    74    Time step:     1    Ground-Water Flow Eqn.\n",
      " Solving:  Stress period:    75    Time step:     1    Ground-Water Flow Eqn.\n",
      " Solving:  Stress period:    76    Time step:     1    Ground-Water Flow Eqn.\n",
      " Solving:  Stress period:    77    Time step:     1    Ground-Water Flow Eqn.\n",
      " Solving:  Stress period:    78    Time step:     1    Ground-Water Flow Eqn.\n",
      " Solving:  Stress period:    79    Time step:     1    Ground-Water Flow Eqn.\n",
      " Solving:  Stress period:    80    Time step:     1    Ground-Water Flow Eqn.\n",
      " Solving:  Stress period:    81    Time step:     1    Ground-Water Flow Eqn.\n",
      " Solving:  Stress period:    82    Time step:     1    Ground-Water Flow Eqn.\n",
      " Solving:  Stress period:    83    Time step:     1    Ground-Water Flow Eqn.\n",
      " Solving:  Stress period:    84    Time step:     1    Ground-Water Flow Eqn.\n",
      " Solving:  Stress period:    85    Time step:     1    Ground-Water Flow Eqn.\n",
      " Solving:  Stress period:    86    Time step:     1    Ground-Water Flow Eqn.\n",
      " Solving:  Stress period:    87    Time step:     1    Ground-Water Flow Eqn.\n",
      " Solving:  Stress period:    88    Time step:     1    Ground-Water Flow Eqn.\n",
      " Solving:  Stress period:    89    Time step:     1    Ground-Water Flow Eqn.\n",
      " Solving:  Stress period:    90    Time step:     1    Ground-Water Flow Eqn.\n",
      " Solving:  Stress period:    91    Time step:     1    Ground-Water Flow Eqn.\n",
      " Solving:  Stress period:    92    Time step:     1    Ground-Water Flow Eqn.\n",
      " Solving:  Stress period:    93    Time step:     1    Ground-Water Flow Eqn.\n",
      " Solving:  Stress period:    94    Time step:     1    Ground-Water Flow Eqn.\n",
      " Solving:  Stress period:    95    Time step:     1    Ground-Water Flow Eqn.\n",
      " Solving:  Stress period:    96    Time step:     1    Ground-Water Flow Eqn.\n",
      " Solving:  Stress period:    97    Time step:     1    Ground-Water Flow Eqn.\n",
      " Solving:  Stress period:    98    Time step:     1    Ground-Water Flow Eqn.\n",
      " Solving:  Stress period:    99    Time step:     1    Ground-Water Flow Eqn.\n",
      " Solving:  Stress period:   100    Time step:     1    Ground-Water Flow Eqn.\n",
      " Solving:  Stress period:   101    Time step:     1    Ground-Water Flow Eqn.\n",
      " Run end date and time (yyyy/mm/dd hh:mm:ss): 2021/03/28 22:36:34\n",
      " Elapsed run time:  1.281 Seconds\n",
      "\n",
      "  Normal termination of simulation\n"
     ]
    }
   ],
   "source": [
    "success, mfoutput = m.run_model(pause=False, report=True)\n",
    "if not success:\n",
    "    raise Exception('MODFLOW did not terminate normally.')"
   ]
  },
  {
   "cell_type": "code",
   "execution_count": 26,
   "id": "strategic-cleaner",
   "metadata": {},
   "outputs": [
    {
     "data": {
      "text/plain": [
       "\"'budgobj = bf.CellBudgetFile(modelname+'.cbc')\\nrec_list = budgobj.list_records() \\n\\nbudgobj2 = bf.CellBudgetFile(modelname2+'.cbc')\\nrec_list2 = budgobj2.list_records() \""
      ]
     },
     "execution_count": 26,
     "metadata": {},
     "output_type": "execute_result"
    }
   ],
   "source": [
    "''''budgobj = bf.CellBudgetFile(modelname+'.cbc')\n",
    "rec_list = budgobj.list_records() \n",
    "\n",
    "budgobj2 = bf.CellBudgetFile(modelname2+'.cbc')\n",
    "rec_list2 = budgobj2.list_records() '''"
   ]
  },
  {
   "cell_type": "code",
   "execution_count": 27,
   "id": "wireless-appraisal",
   "metadata": {},
   "outputs": [],
   "source": [
    "# Read the heads \n",
    "headobj = bf.HeadFile(modelname+'.hds')    #reads the binary head file\n",
    "times = headobj.get_times()                #returns a list of timesteps\n",
    "head = headobj.get_data\n",
    "\n",
    "'''hds_yr = bf.HeadFile(modelname2+'.hds')                   # reads the binary head file\n",
    "time_yr = hds_yr.get_times()                              # returns a list of timesteps\n",
    "head2 = hds_yr.get_data()'''\n",
    "\n",
    "#extract binary data from head file\n",
    "head = {} #create dictionary to store head data at end of each stress period\n",
    "frf = {} #create dictionary to store flows through right cell face at end of each stress period\n",
    "fff = {} #create dictionary to store flows through front cell face at end of each stress period\n",
    "headobj = flopy.utils.binaryfile.HeadFile(modelname+'.hds') #get head data as python object\n",
    "budgobj = flopy.utils.binaryfile.CellBudgetFile(modelname+'.cbc') #get flow data as python object\n",
    "\n"
   ]
  },
  {
   "cell_type": "code",
   "execution_count": 28,
   "id": "static-valley",
   "metadata": {},
   "outputs": [],
   "source": [
    "#get data from python objects\n",
    "#head2 = []\n",
    "headarray=np.zeros((len(times),ncol,nrow))\n",
    "frf=np.zeros((len(times),ncol,nrow))\n",
    "fff=np.zeros((len(times),ncol,nrow))\n",
    "\n",
    "temphead = headobj.get_data(totim=nper4) #append heads to head list for each stress per"
   ]
  },
  {
   "cell_type": "code",
   "execution_count": 29,
   "id": "separate-converter",
   "metadata": {},
   "outputs": [
    {
     "ename": "NameError",
     "evalue": "name 'rowcounter' is not defined",
     "output_type": "error",
     "traceback": [
      "\u001b[1;31m---------------------------------------------------------------------------\u001b[0m",
      "\u001b[1;31mNameError\u001b[0m                                 Traceback (most recent call last)",
      "\u001b[1;32m<ipython-input-29-629abd18ed83>\u001b[0m in \u001b[0;36m<module>\u001b[1;34m\u001b[0m\n\u001b[0;32m      1\u001b[0m \u001b[1;31m#rowcounter=-1\u001b[0m\u001b[1;33m\u001b[0m\u001b[1;33m\u001b[0m\u001b[1;33m\u001b[0m\u001b[0m\n\u001b[0;32m      2\u001b[0m \u001b[1;32mfor\u001b[0m \u001b[0mi\u001b[0m \u001b[1;32min\u001b[0m \u001b[0mtimes\u001b[0m\u001b[1;33m:\u001b[0m\u001b[1;33m\u001b[0m\u001b[1;33m\u001b[0m\u001b[0m\n\u001b[1;32m----> 3\u001b[1;33m     \u001b[0mrowcounter\u001b[0m\u001b[1;33m+=\u001b[0m\u001b[1;36m1\u001b[0m\u001b[1;33m\u001b[0m\u001b[1;33m\u001b[0m\u001b[0m\n\u001b[0m\u001b[0;32m      4\u001b[0m     \u001b[0mtemphead\u001b[0m \u001b[1;33m=\u001b[0m \u001b[0mheadobj\u001b[0m\u001b[1;33m.\u001b[0m\u001b[0mget_data\u001b[0m\u001b[1;33m(\u001b[0m\u001b[0mtotim\u001b[0m\u001b[1;33m=\u001b[0m\u001b[0mi\u001b[0m\u001b[1;33m)\u001b[0m \u001b[1;31m#append heads to head list for each stress per\u001b[0m\u001b[1;33m\u001b[0m\u001b[1;33m\u001b[0m\u001b[0m\n\u001b[0;32m      5\u001b[0m     \u001b[0mheadarray\u001b[0m\u001b[1;33m[\u001b[0m\u001b[0mi\u001b[0m\u001b[1;33m,\u001b[0m\u001b[1;33m:\u001b[0m\u001b[1;33m,\u001b[0m\u001b[1;33m:\u001b[0m\u001b[1;33m]\u001b[0m \u001b[1;33m=\u001b[0m \u001b[0mtemphead\u001b[0m\u001b[1;33m\u001b[0m\u001b[1;33m\u001b[0m\u001b[0m\n",
      "\u001b[1;31mNameError\u001b[0m: name 'rowcounter' is not defined"
     ]
    }
   ],
   "source": [
    "\n",
    "\n",
    "#rowcounter=-1\n",
    "for i in times:\n",
    "    rowcounter+=1\n",
    "    temphead = headobj.get_data(totim=i) #append heads to head list for each stress per\n",
    "    headarray[i,:,:] = temphead\n",
    "    tempfrf = np.squeeze(budgobj.get_data(text='flow right face',totim=i))\n",
    "    # print(tempfrf)\n",
    "    frf[:,:,:] = tempfrf\n",
    "    tempfff = np.squeeze(budgobj.get_data(text='FLOW FRONT FACE',totim=i))\n",
    "    fff[rowcounter,:,:] = tempfff\n",
    "\n",
    "'''headarray2=np.zeros((len(time_yr),ncol,nrow))\n",
    "rowcounters=-1\n",
    "for i in time_yr:\n",
    "    rowcounters+=1\n",
    "    temphead2 = headobjs.get_data(totim=i) #append heads to head list for each stress per\n",
    "    headarray2[rowcounters,:,:] = temphead2'''\n",
    "    \n",
    "# extract and plot head time series at specific points\n",
    "time_series1 = headarray[:,domain_centerpt[1],domain_centerpt[2]]\n",
    "time_series2 = headarray[well_loc[0],well_loc[1],well_loc[2]]\n",
    "\n",
    "'''time_series_1 = headarray2[:,domain_centerpt[1],domain_centerpt[2]]\n",
    "time_series_2 = headarray2[:,well_loc[1],well_loc[2]]\n",
    "'''\n",
    "\n",
    "plt.subplot(1,2,1)\n",
    "plt.title(\"Head at well\",fontweight='bold')\n",
    "plt.xlabel('time (years)',fontweight='bold')\n",
    "plt.ylabel('head (m)',fontweight='bold')\n",
    "plt.xticks([0,20,40,60,80,100], ['0', '20', '40','60','80','100'])\n",
    "plt.plot(elyears, time_series2, 'r-') #plot the time series with points at each record\n",
    "plt.rcParams[\"figure.figsize\"] = (13,4)\n",
    "plt.plot(time_series2.mean(), 'bo')\n",
    "\n",
    "plt.subplot(1, 2, 2)\n",
    "plt.title(\"Head at midpoint\",fontweight='bold')\n",
    "plt.xlabel('time (years)',fontweight='bold')\n",
    "plt.ylabel('head (m)',fontweight='bold')\n",
    "plt.xticks([0,20,40,60,80,100], ['0', '20', '40','60','80','100'])\n",
    "plt.plot(elyears, time_series1, 'r-') #plot the time series with points at each record\n",
    "plt.plot(time_series1.mean(), 'bo')\n",
    "#plt.tight_layout()"
   ]
  },
  {
   "cell_type": "code",
   "execution_count": 30,
   "id": "prescribed-wrestling",
   "metadata": {},
   "outputs": [
    {
     "data": {
      "text/plain": [
       "<matplotlib.legend.Legend at 0x20f0dfd5f40>"
      ]
     },
     "execution_count": 30,
     "metadata": {},
     "output_type": "execute_result"
    },
    {
     "data": {
      "image/png": "[encoded data removed]",
      "text/plain": [
       "<Figure size 432x288 with 1 Axes>"
      ]
     },
     "metadata": {
      "needs_background": "light"
     },
     "output_type": "display_data"
    }
   ],
   "source": [
    "#plot head distribution at years 0, half of sim time, end of sim time\n",
    "linx = [50,0]\n",
    "liny = [40,50]\n",
    "plt.plot(linx,liny)\n",
    "plt.plot(np.arange(nrow),temphead[0,20,:],'r',label='layer1')\n",
    "plt.plot(np.arange(nrow),temphead[1,20,:],'b',label='layer2')\n",
    "plt.plot(np.arange(nrow),temphead[2,25,:],'g',label='layer3')\n",
    "plt.xlabel('Column number')\n",
    "plt.ylabel('Head (m)')\n",
    "plt.title(\"Head Across Transect\",fontweight='bold')\n",
    "plt.legend()"
   ]
  },
  {
   "cell_type": "code",
   "execution_count": null,
   "id": "equipped-reform",
   "metadata": {},
   "outputs": [],
   "source": [
    "# 3d plot\n",
    "\n",
    "#create 3d figure\n",
    "fig_3d = plt.figure(figsize=(12,5))\n",
    "ax = fig_3d.gca(projection='3d')\n",
    "\n",
    "#set X, Y, Z variables for 3d plot to be our model domain and head solution\n",
    "X = np.arange(0,Lx,dx)\n",
    "Y = np.arange(0,Ly,dy)\n",
    "X, Y = np.meshgrid(X, Y)\n",
    "Z = np.flipud(temphead[2])\n",
    "\n",
    "#create surface and labels\n",
    "surf = ax.plot_surface(X,Y,Z, cmap = 'viridis', linewidth=0, label='head')\n",
    "fig_3d.colorbar(surf,shrink=0.5,aspect=5).set_label('Head (ft)',fontsize=10,fontweight='bold')\n",
    "ax.set_xlabel('Lx (m)', fontsize=15, fontweight='bold')\n",
    "ax.set_ylabel('Ly (m)', fontsize=15, fontweight='bold')\n",
    "ax.set_title(('3D Heads, Layer '+'3'), fontsize=15, fontweight='bold')\n",
    "ax.view_init(10,270)\n",
    "plt.show(surf)"
   ]
  },
  {
   "cell_type": "code",
   "execution_count": null,
   "id": "understanding-heading",
   "metadata": {},
   "outputs": [],
   "source": [
    "row = 20\n",
    "xsec = flopy.plot.PlotCrossSection(model= m, line={\"row\":row})\n",
    "# assign key \"row\" or \"column\"\n",
    "#river_plot = xsec.plot_bc(ftype='RIV')\n",
    "grid_plot = xsec.plot_grid()\n",
    "patches = xsec.plot_bc('WEL', color='red')\n",
    "plt.title(\"Row: \" + str(row))"
   ]
  },
  {
   "cell_type": "code",
   "execution_count": null,
   "id": "southern-kruger",
   "metadata": {},
   "outputs": [],
   "source": []
  },
  {
   "cell_type": "code",
   "execution_count": 31,
   "id": "cleared-rebel",
   "metadata": {},
   "outputs": [],
   "source": [
    "#moddirmp=r\"C:\\Users\\Dalia\\OneDrive\\Documents\\SPRING21\\582-GWMod\\hws-PortilloD\\Assignment\\HW8 ReverseMidterm\\mpath7\"\n",
    "moddirmp=r\"C:\\Users\\Quilson2\\OneDrive\\Documents\\SPRING21\\582-GWMod\\hws-PortilloD\\Assignment\\HW8 ReverseMidterm\\mpath7\""
   ]
  },
  {
   "cell_type": "code",
   "execution_count": null,
   "id": "satellite-measure",
   "metadata": {},
   "outputs": [],
   "source": [
    "'''# MODPATH zones\n",
    "zone3 = np.ones((nrow, ncol), dtype=np.int32)\n",
    "zone3[well_loc[1:]] = 2\n",
    "zones = [1, 1, zone3]\n",
    "\n",
    "# create particles\n",
    "# particle group 1\n",
    "plocs = []\n",
    "pids = []\n",
    "for idx in range(nrow):\n",
    "    plocs.append((0, idx, 2))\n",
    "    pids.append(idx)\n",
    "part0 = flopy.modpath.ParticleData(plocs, drape=0, structured=True, particleids=pids)\n",
    "pg0 = flopy.modpath.ParticleGroup(particlegroupname='PG1', particledata=part0,\n",
    "                                  filename='ex01a.pg1.sloc')\n",
    "\n",
    "# particle group 2\n",
    "v = [(2, 0, 0), (0, 20, 0)]\n",
    "part1 = flopy.modpath.ParticleData(v, drape=1, structured=True, particleids=[1000, 1001])\n",
    "pg1 = flopy.modpath.ParticleGroup(particlegroupname='PG2', particledata=part1,\n",
    "                                  filename='ex01a.pg2.sloc')'''"
   ]
  },
  {
   "cell_type": "code",
   "execution_count": 32,
   "id": "hydraulic-minister",
   "metadata": {},
   "outputs": [
    {
     "name": "stdout",
     "output_type": "stream",
     "text": [
      "TestHW8_mp\n",
      "FloPy is using the following  executable to run the model: C:\\Users\\Quilson2\\OneDrive\\Documents\\SPRING21\\582-GWMod\\hws-PortilloD\\Assignment\\HW8 ReverseMidterm\\mpath7.exe\n",
      "\n",
      "MODPATH Version 7.2.001   \n",
      "Program compiled Dec 22 2017 11:11:36 with IFORT compiler (ver. 16.0.0)         \n",
      " \n",
      " \n",
      "Run particle tracking simulation ...\n",
      "Processing Time Step     1 Period     1.  Time =  1.00000E+00  Steady-state flow                                                    \n",
      "Processing Time Step     1 Period     2.  Time =  2.00000E+00  Steady-state flow                                                    \n",
      "Processing Time Step     1 Period     3.  Time =  3.00000E+00  Steady-state flow                                                    \n",
      "Processing Time Step     1 Period     4.  Time =  4.00000E+00  Steady-state flow                                                    \n",
      "Processing Time Step     1 Period     5.  Time =  5.00000E+00  Steady-state flow                                                    \n",
      "Processing Time Step     1 Period     6.  Time =  6.00000E+00  Steady-state flow                                                    \n",
      "Processing Time Step     1 Period     7.  Time =  7.00000E+00  Steady-state flow                                                    \n",
      "Processing Time Step     1 Period     8.  Time =  8.00000E+00  Steady-state flow                                                    \n",
      "Processing Time Step     1 Period     9.  Time =  9.00000E+00  Steady-state flow                                                    \n",
      "Processing Time Step     1 Period    10.  Time =  1.00000E+01  Steady-state flow                                                    \n",
      "Processing Time Step     1 Period    11.  Time =  1.10000E+01  Steady-state flow                                                    \n",
      "Processing Time Step     1 Period    12.  Time =  1.20000E+01  Steady-state flow                                                    \n",
      "Processing Time Step     1 Period    13.  Time =  1.30000E+01  Steady-state flow                                                    \n",
      "Processing Time Step     1 Period    14.  Time =  1.40000E+01  Steady-state flow                                                    \n",
      "Processing Time Step     1 Period    15.  Time =  1.50000E+01  Steady-state flow                                                    \n",
      "Processing Time Step     1 Period    16.  Time =  1.60000E+01  Steady-state flow                                                    \n",
      "Processing Time Step     1 Period    17.  Time =  1.70000E+01  Steady-state flow                                                    \n",
      "Processing Time Step     1 Period    18.  Time =  1.80000E+01  Steady-state flow                                                    \n",
      "Processing Time Step     1 Period    19.  Time =  1.90000E+01  Steady-state flow                                                    \n",
      "Processing Time Step     1 Period    20.  Time =  2.00000E+01  Steady-state flow                                                    \n",
      "Processing Time Step     1 Period    21.  Time =  2.10000E+01  Steady-state flow                                                    \n",
      "Processing Time Step     1 Period    22.  Time =  2.20000E+01  Steady-state flow                                                    \n",
      "Processing Time Step     1 Period    23.  Time =  2.30000E+01  Steady-state flow                                                    \n",
      "Processing Time Step     1 Period    24.  Time =  2.40000E+01  Steady-state flow                                                    \n",
      "Processing Time Step     1 Period    25.  Time =  2.50000E+01  Steady-state flow                                                    \n",
      "Processing Time Step     1 Period    26.  Time =  2.60000E+01  Steady-state flow                                                    \n",
      "Processing Time Step     1 Period    27.  Time =  2.70000E+01  Steady-state flow                                                    \n",
      "Processing Time Step     1 Period    28.  Time =  2.80000E+01  Steady-state flow                                                    \n",
      "Processing Time Step     1 Period    29.  Time =  2.90000E+01  Steady-state flow                                                    \n",
      "Processing Time Step     1 Period    30.  Time =  3.00000E+01  Steady-state flow                                                    \n",
      "Processing Time Step     1 Period    31.  Time =  3.10000E+01  Steady-state flow                                                    \n",
      "Processing Time Step     1 Period    32.  Time =  3.20000E+01  Steady-state flow                                                    \n",
      "Processing Time Step     1 Period    33.  Time =  3.30000E+01  Steady-state flow                                                    \n",
      "Processing Time Step     1 Period    34.  Time =  3.40000E+01  Steady-state flow                                                    \n",
      "Processing Time Step     1 Period    35.  Time =  3.50000E+01  Steady-state flow                                                    \n",
      "Processing Time Step     1 Period    36.  Time =  3.60000E+01  Steady-state flow                                                    \n",
      "Processing Time Step     1 Period    37.  Time =  3.70000E+01  Steady-state flow                                                    \n",
      "Processing Time Step     1 Period    38.  Time =  3.80000E+01  Steady-state flow                                                    \n",
      "Processing Time Step     1 Period    39.  Time =  3.90000E+01  Steady-state flow                                                    \n",
      "Processing Time Step     1 Period    40.  Time =  4.00000E+01  Steady-state flow                                                    \n",
      "Processing Time Step     1 Period    41.  Time =  4.10000E+01  Steady-state flow                                                    \n",
      "Processing Time Step     1 Period    42.  Time =  4.20000E+01  Steady-state flow                                                    \n",
      "Processing Time Step     1 Period    43.  Time =  4.30000E+01  Steady-state flow                                                    \n",
      "Processing Time Step     1 Period    44.  Time =  4.40000E+01  Steady-state flow                                                    \n",
      "Processing Time Step     1 Period    45.  Time =  4.50000E+01  Steady-state flow                                                    \n",
      "Processing Time Step     1 Period    46.  Time =  4.60000E+01  Steady-state flow                                                    \n",
      "Processing Time Step     1 Period    47.  Time =  4.70000E+01  Steady-state flow                                                    \n",
      "Processing Time Step     1 Period    48.  Time =  4.80000E+01  Steady-state flow                                                    \n",
      "Processing Time Step     1 Period    49.  Time =  4.90000E+01  Steady-state flow                                                    \n",
      "Processing Time Step     1 Period    50.  Time =  5.00000E+01  Steady-state flow                                                    \n",
      "Processing Time Step     1 Period    51.  Time =  5.10000E+01  Steady-state flow                                                    \n",
      "Processing Time Step     1 Period    52.  Time =  5.20000E+01  Steady-state flow                                                    \n",
      "Processing Time Step     1 Period    53.  Time =  5.30000E+01  Steady-state flow                                                    \n",
      "Processing Time Step     1 Period    54.  Time =  5.40000E+01  Steady-state flow                                                    \n",
      "Processing Time Step     1 Period    55.  Time =  5.50000E+01  Steady-state flow                                                    \n",
      "Processing Time Step     1 Period    56.  Time =  5.60000E+01  Steady-state flow                                                    \n",
      "Processing Time Step     1 Period    57.  Time =  5.70000E+01  Steady-state flow                                                    \n",
      "Processing Time Step     1 Period    58.  Time =  5.80000E+01  Steady-state flow                                                    \n",
      "Processing Time Step     1 Period    59.  Time =  5.90000E+01  Steady-state flow                                                    \n",
      "Processing Time Step     1 Period    60.  Time =  6.00000E+01  Steady-state flow                                                    \n",
      "Processing Time Step     1 Period    61.  Time =  6.10000E+01  Steady-state flow                                                    \n",
      "Processing Time Step     1 Period    62.  Time =  6.20000E+01  Steady-state flow                                                    \n",
      "Processing Time Step     1 Period    63.  Time =  6.30000E+01  Steady-state flow                                                    \n",
      "Processing Time Step     1 Period    64.  Time =  6.40000E+01  Steady-state flow                                                    \n",
      "Processing Time Step     1 Period    65.  Time =  6.50000E+01  Steady-state flow                                                    \n",
      "Processing Time Step     1 Period    66.  Time =  6.60000E+01  Steady-state flow                                                    \n",
      "Processing Time Step     1 Period    67.  Time =  6.70000E+01  Steady-state flow                                                    \n",
      "Processing Time Step     1 Period    68.  Time =  6.80000E+01  Steady-state flow                                                    \n",
      "Processing Time Step     1 Period    69.  Time =  6.90000E+01  Steady-state flow                                                    \n",
      "Processing Time Step     1 Period    70.  Time =  7.00000E+01  Steady-state flow                                                    \n",
      "Processing Time Step     1 Period    71.  Time =  7.10000E+01  Steady-state flow                                                    \n",
      "Processing Time Step     1 Period    72.  Time =  7.20000E+01  Steady-state flow                                                    \n",
      "Processing Time Step     1 Period    73.  Time =  7.30000E+01  Steady-state flow                                                    \n",
      "Processing Time Step     1 Period    74.  Time =  7.40000E+01  Steady-state flow                                                    \n",
      "Processing Time Step     1 Period    75.  Time =  7.50000E+01  Steady-state flow                                                    \n",
      "Processing Time Step     1 Period    76.  Time =  7.60000E+01  Steady-state flow                                                    \n",
      "Processing Time Step     1 Period    77.  Time =  7.70000E+01  Steady-state flow                                                    \n",
      "Processing Time Step     1 Period    78.  Time =  7.80000E+01  Steady-state flow                                                    \n",
      "Processing Time Step     1 Period    79.  Time =  7.90000E+01  Steady-state flow                                                    \n",
      "Processing Time Step     1 Period    80.  Time =  8.00000E+01  Steady-state flow                                                    \n",
      "Processing Time Step     1 Period    81.  Time =  8.10000E+01  Steady-state flow                                                    \n",
      "Processing Time Step     1 Period    82.  Time =  8.20000E+01  Steady-state flow                                                    \n",
      "Processing Time Step     1 Period    83.  Time =  8.30000E+01  Steady-state flow                                                    \n",
      "Processing Time Step     1 Period    84.  Time =  8.40000E+01  Steady-state flow                                                    \n",
      "Processing Time Step     1 Period    85.  Time =  8.50000E+01  Steady-state flow                                                    \n",
      "Processing Time Step     1 Period    86.  Time =  8.60000E+01  Steady-state flow                                                    \n",
      "Processing Time Step     1 Period    87.  Time =  8.70000E+01  Steady-state flow                                                    \n",
      "Processing Time Step     1 Period    88.  Time =  8.80000E+01  Steady-state flow                                                    \n",
      "Processing Time Step     1 Period    89.  Time =  8.90000E+01  Steady-state flow                                                    \n",
      "Processing Time Step     1 Period    90.  Time =  9.00000E+01  Steady-state flow                                                    \n",
      "Processing Time Step     1 Period    91.  Time =  9.10000E+01  Steady-state flow                                                    \n",
      "Processing Time Step     1 Period    92.  Time =  9.20000E+01  Steady-state flow                                                    \n",
      "Processing Time Step     1 Period    93.  Time =  9.30000E+01  Steady-state flow                                                    \n",
      "Processing Time Step     1 Period    94.  Time =  9.40000E+01  Steady-state flow                                                    \n",
      "Processing Time Step     1 Period    95.  Time =  9.50000E+01  Steady-state flow                                                    \n",
      "Processing Time Step     1 Period    96.  Time =  9.60000E+01  Steady-state flow                                                    \n",
      "Processing Time Step     1 Period    97.  Time =  9.70000E+01  Steady-state flow                                                    \n",
      "Processing Time Step     1 Period    98.  Time =  9.80000E+01  Steady-state flow                                                    \n",
      "Processing Time Step     1 Period    99.  Time =  9.90000E+01  Steady-state flow                                                    \n",
      "Processing Time Step     1 Period   100.  Time =  1.00000E+02  Steady-state flow                                                    \n",
      "Processing Time Step     1 Period   101.  Time =  1.01000E+02  Steady-state flow                                                    \n",
      "\n",
      "Particle Summary:\n",
      "         0 particles are pending release.\n",
      "      4509 particles remain active.\n",
      "         0 particles terminated at boundary faces.\n",
      "         0 particles terminated at weak sink cells.\n",
      "         0 particles terminated at weak source cells.\n",
      "       252 particles terminated at strong source/sink cells.\n",
      "         0 particles terminated in cells with a specified zone number.\n",
      "         0 particles were stranded in inactive or dry cells.\n",
      "         0 particles were unreleased.\n",
      "         0 particles have an unknown status.\n",
      " \n",
      "Normal termination.                                                        \n"
     ]
    },
    {
     "data": {
      "text/plain": [
       "['MPBAS', 'MPSIM', 'RCH']"
      ]
     },
     "execution_count": 32,
     "metadata": {},
     "output_type": "execute_result"
    }
   ],
   "source": [
    "#Set the range of cell to add particles to \n",
    "# [layerstart, rowstart, colstart,  layerend, rowend,  colend]\n",
    "locsb = [[2, 0, 0, 2, 22, 22]]\n",
    "sd = flopy.modpath.CellDataType(drape=0, columncelldivisions=3, \n",
    "                                rowcelldivisions=3, layercelldivisions=1) #Number of part per cell\n",
    "#setup theparticles\n",
    "p = flopy.modpath.LRCParticleData(subdivisiondata=[sd], lrcregions=[locsb])\n",
    "pg1 = flopy.modpath.ParticleGroupLRCTemplate(particlegroupname='PG1',particledata=p,filename='test.pg1.sloc')\n",
    "particlegroups = [pg1]\n",
    "\n",
    "defaultiface = {'RECHARGE': 6, 'ET': 6}\n",
    "\n",
    "mpname3=os.path.join(modelname + '_mp')\n",
    "print(mpname3)\n",
    "mp3 = flopy.modpath.Modpath7(modelname=modelname + '_mp', flowmodel=m, exe_name=moddirmp)\n",
    "mpbas = flopy.modpath.Modpath7Bas(mp3, porosity=n, defaultiface=defaultiface)\n",
    "mpsim = flopy.modpath.Modpath7Sim(mp3, simulationtype='combined',\n",
    "                                  trackingdirection='forward',\n",
    "                                  weaksinkoption='pass_through',\n",
    "                                  weaksourceoption='pass_through',\n",
    "                                  budgetoutputoption='summary',\n",
    "                                  stoptimeoption='specified', \n",
    "                                  particlegroups= particlegroups)\n",
    "\n",
    "\n",
    "mp3.add_package(rch)\n",
    "mp3.write_input()\n",
    "mp3.run_model()\n",
    "mp3.get_package_list()"
   ]
  },
  {
   "cell_type": "code",
   "execution_count": 33,
   "id": "approximate-population",
   "metadata": {},
   "outputs": [],
   "source": [
    "# obtain heads from model\n",
    "headobj3 = bf.HeadFile(modelname+'.hds')      #reads the binary head file\n",
    "times = headobj3.get_times()                   #returns a list of timesteps\n",
    "head3 = headobj3.get_data(totim=times[-1])     #returns a numpy array of heads for specified time (last timestep)"
   ]
  },
  {
   "cell_type": "code",
   "execution_count": 34,
   "id": "popular-stanford",
   "metadata": {},
   "outputs": [
    {
     "name": "stdout",
     "output_type": "stream",
     "text": [
      "TestHW8_mp.mppth\n"
     ]
    }
   ],
   "source": [
    "#Particle pathlines\n",
    "fpth = os.path.join(mpname3 + '.mppth')\n",
    "print(fpth)\n",
    "pthobj = flopy.utils.PathlineFile('TestHW8_mp.mppth')\n",
    "#p3 = flopy.utils.PathlineFile(fpth.strip(\"\" \"\" ))"
   ]
  },
  {
   "cell_type": "code",
   "execution_count": null,
   "id": "changed-vertex",
   "metadata": {},
   "outputs": [],
   "source": [
    "#Particle endpoints\n",
    "fpth3 = os.path.join(mpname3 + '.mpend')\n",
    "e3 = flopy.utils.EndpointFile(fpth3, verbose=False)\n",
    "\n",
    "#make a subset which is all the particles\n",
    "pall3 = pthobj.get_alldata()  \n",
    "eall3 = e3.get_alldata()\n",
    "        \n",
    "#make a subset which is particles ending in the well\n",
    "nodewell3 = m.dis.get_node([(2,well_loc[1], well_loc[2])])\n",
    "print(nodewell3)\n",
    "pwell3 = pthobj.get_destination_pathline_data(dest_cells=nodewell3)\n",
    "ewell3 = e3.get_destination_endpoint_data(dest_cells=nodewell3)"
   ]
  },
  {
   "cell_type": "code",
   "execution_count": null,
   "id": "authentic-suspect",
   "metadata": {},
   "outputs": [],
   "source": [
    "#f, axes = plt.plot(figsize=(10, 5))\n",
    "\n",
    "'''ax = axes[0]\n",
    "#fig = plt.figure(figsize=(10, 10))\n",
    "#ax = fig.add_subplot(1, 1, 1)\n",
    "\n",
    "ax.set_aspect('equal')\n",
    "ax.set_title('1 Layer Scenario Flowlines')\n",
    "mm = flopy.plot.PlotMapView(model=m1, ax=ax)\n",
    "mm.plot_grid(lw=0.5)\n",
    "mm.plot_pathline(pall1, layer='all', color='blue', lw=0.5, linestyle=':', label='not captured by well') #,marker='o', markercolor='black', markersize=3, markerevery=5)\n",
    "mm.plot_pathline(pwell1, layer='all', color='orange', lw=0.5, linestyle=':', label='captured') # ,marker='o', markercolor='black', markersize=3, markerevery=5)\n",
    "mm.ax.legend();'''\n",
    "mm = flopy.plot.PlotMapView(model=m)\n",
    "#ax = axes\n",
    "#fig = plt.figure(figsize=(10, 10))\n",
    "#ax = fig.add_subplot(1, 1, 1)\n",
    "\n",
    "\n",
    "#mm.plot.title('3 Layer Scenario Flowlines')\n",
    "mm.plot_grid(lw=0.5)\n",
    "mm.plot_pathline(pall3, layer='all', color='blue', lw=0.5, linestyle=':', label='not captured by well') #,marker='o', markercolor='black', markersize=3, markerevery=5)\n",
    "mm.plot_pathline(pwell3, layer='all', color='orange', lw=0.5, linestyle=':', label='captured') # ,marker='o', markercolor='black', markersize=3, markerevery=5)\n",
    "mm.ax.legend();\n",
    "mm.plot_endpoint(ewell3, direction='starting', colorbar=True)\n",
    "mm.plot_pathline(ewell3, layer='all', color='orange', lw=0.5, linestyle=':', label='3 layer') # ,marker='o', markercolor='black', markersize=3, markerevery=5)\n",
    "plt.yticks([1, 100, 200, 300, 400,500], ['500', '400', '300','200','100','0'])\n",
    "#plt.tight_layout();\n",
    "#plt.savefig('Pathlines.png')"
   ]
  },
  {
   "cell_type": "code",
   "execution_count": null,
   "id": "ceramic-valve",
   "metadata": {},
   "outputs": [],
   "source": []
  },
  {
   "cell_type": "code",
   "execution_count": null,
   "id": "alpha-indie",
   "metadata": {},
   "outputs": [],
   "source": []
  },
  {
   "cell_type": "code",
   "execution_count": null,
   "id": "alpine-interview",
   "metadata": {},
   "outputs": [],
   "source": []
  }
 ],
 "metadata": {
  "kernelspec": {
   "display_name": "Python 3",
   "language": "python",
   "name": "python3"
  },
  "language_info": {
   "codemirror_mode": {
    "name": "ipython",
    "version": 3
   },
   "file_extension": ".py",
   "mimetype": "text/x-python",
   "name": "python",
   "nbconvert_exporter": "python",
   "pygments_lexer": "ipython3",
   "version": "3.8.5"
  }
 },
 "nbformat": 4,
 "nbformat_minor": 5
}
