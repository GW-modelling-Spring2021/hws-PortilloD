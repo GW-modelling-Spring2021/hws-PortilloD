{
 "cells": [
  {
   "cell_type": "markdown",
   "id": "impaired-teach",
   "metadata": {},
   "source": [
    "# Transient"
   ]
  },
  {
   "cell_type": "markdown",
   "id": "dietary-parish",
   "metadata": {},
   "source": [
    "#### Dimensions:\n",
    "50 by 50 by 1\n",
    "dx = dy = 10 m\n",
    "dz = 50 m\n",
    "the model is unconfined\n",
    "\n",
    "#### Subsurface Properties:\n",
    "Heterogeneous\n",
    "K = 1.0 m/day in x, y and z\n",
    "\n",
    "\n",
    "3 LAYERS \n",
    "- TOP: 20M UNCONFINED SAND\n",
    "- MIDDLE 10M CONFINED SILT\n",
    "- BOTTOM UNCONFINED SAND\n",
    "\n",
    "- poron1 = 0.35\n",
    "- poron2 = 0.12\n",
    "- poron3 = 0.35\n",
    "\n",
    "Specific yield = 0.3\n",
    "Storage coefficient=0.001\n",
    "\n",
    "#### Boundary Conditions:\n",
    "Right boundary is a constant head of 40 m relative to the datum, which is located at the bottom of the domain.\n",
    "Left boundary is a constant head of 50 m relative to the datum, which is located at the bottom of the domain.\n",
    "Recharge occurs at a rate of 1E-4 m/d uniformly across the domain\n",
    "There is no ET in the domain\n"
   ]
  },
  {
   "cell_type": "markdown",
   "id": "naked-decision",
   "metadata": {},
   "source": [
    "#### Initial Conditions:\n",
    "Set the initial head to 50 everywhere, which will be replaced by the initial steady state solution\n",
    "#### Pumping\n",
    "Well located at row, column 20,20\n",
    "Run your equivalent steady state model (annualized pumping rate) model. Use particles to track the time capture zone for the well after 25, 50, 75, 100 years of pumping. Bonus, see if you can use color to show captured particles!\n",
    "\n",
    "### The Challenges\n",
    "a) How does the capture zone evolve in time? Where does the early time capture zone get its water?\n",
    "\n",
    "b) Where does the 'infinite time' capture zone get its water?\n",
    "\n",
    "c) How does the extent of the capture zone change when layers are considered? Can you still define a 2D capture zone??\n",
    "\n",
    "d) How does the extent of the 'infinite time' capture zone change when layers are added? Explain any difference in the lateral extent of the capture zone along the left boundary.\n",
    "\n",
    "Add Particle tracking to the code\n",
    "- show the time capture after 25, 50, 75, 100 years pumping\n",
    "- show the infinite time capture zone\n",
    "- use forward particles starting at the left boundary USE COLOR\n",
    "\n"
   ]
  },
  {
   "cell_type": "markdown",
   "id": "neutral-joshua",
   "metadata": {},
   "source": [
    "### 1. Setup the environment"
   ]
  },
  {
   "cell_type": "code",
   "execution_count": 1,
   "id": "taken-emergency",
   "metadata": {},
   "outputs": [],
   "source": [
    "#import the basics\n",
    "import flopy\n",
    "import numpy as np\n",
    "import matplotlib as mp\n",
    "import os\n",
    "import pandas as pd\n",
    "\n",
    "#additional analysis tools\n",
    "import flopy.utils.binaryfile as bf\n",
    "from mpl_toolkits.mplot3d import Axes3D\n",
    "import matplotlib.pyplot as plt\n",
    "from matplotlib import cm\n",
    "from matplotlib.ticker import LinearLocator, FormatStrFormatter\n",
    "import csv\n",
    "\n",
    "#jupyter specific--included to show plots in notebook\n",
    "%matplotlib inline"
   ]
  },
  {
   "cell_type": "markdown",
   "id": "continental-situation",
   "metadata": {},
   "source": [
    "### 2. Create the model object"
   ]
  },
  {
   "cell_type": "code",
   "execution_count": 2,
   "id": "guilty-blast",
   "metadata": {},
   "outputs": [],
   "source": [
    "modelname = \"Transient\"\n",
    "moddir=r\"C:\\Users\\Quilson2\\OneDrive\\Documents\\SPRING21\\582-GWMod\\Course_Materials\\Assignments\\mf2005\"\n",
    "m = flopy.modflow.Modflow(modelname, exe_name = moddir)"
   ]
  },
  {
   "cell_type": "code",
   "execution_count": 3,
   "id": "minor-closure",
   "metadata": {},
   "outputs": [],
   "source": [
    "modelname2 = \"Transient_test\"\n",
    "moddir=r\"C:\\Users\\Quilson2\\OneDrive\\Documents\\SPRING21\\582-GWMod\\Course_Materials\\Assignments\\mf2005\"\n",
    "m2 = flopy.modflow.Modflow(modelname2, exe_name = moddir)"
   ]
  },
  {
   "cell_type": "code",
   "execution_count": 4,
   "id": "portuguese-threat",
   "metadata": {},
   "outputs": [],
   "source": [
    "#optional delete old run files\n",
    "run = 'n'\n",
    "if run == 'y':\n",
    "    # file_extensions = ['.dis','.bas','.lpf','.oc','.pcg','.wel']\n",
    "    file_extensions = ['.dis','.bas','.bcf','.oc','.pcg', '.wel', 'rch','evt']\n",
    "    for ext in file_extensions:\n",
    "        os.remove(modelname + ext)\n",
    "        os.remove(modelname2 + ext)"
   ]
  },
  {
   "cell_type": "markdown",
   "id": "loved-prediction",
   "metadata": {},
   "source": [
    "### 3. Setup the discretization (DIS package)\n",
    "For more details on DIS package inputs refer to : https://flopy.readthedocs.io/en/3.3.2/source/flopy.modflow.mfdis.html\n",
    "\n",
    "##### 3.1 Spatial discretization"
   ]
  },
  {
   "cell_type": "code",
   "execution_count": 5,
   "id": "numerous-audio",
   "metadata": {},
   "outputs": [],
   "source": [
    "\n",
    "nrow = 50 #number of rows\n",
    "ncol = 50 #number of columns\n",
    "nlay = 1  #number of layers\n",
    "\n",
    "dx= 10 #width of grid cells in x direction \n",
    "dy= 10 #width of grid cells in y direction \n",
    "\n",
    "Lx = ncol*dx  #width of domain in x\n",
    "Ly = nrow*dy #width of domain in y\n",
    "ztop = 50.    #top elevation \n",
    "zbot = 0.     #bottom elevation\n",
    "\n",
    "dz = (ztop - zbot) / nlay #cell height in z direction\n",
    "\n",
    "domain_centerpt = (0, int(nrow/2), int(ncol/2))   # used for plotting"
   ]
  },
  {
   "cell_type": "markdown",
   "id": "otherwise-aurora",
   "metadata": {},
   "source": [
    "##### 3.2 Temporal discretization"
   ]
  },
  {
   "cell_type": "code",
   "execution_count": 6,
   "id": "intellectual-arthur",
   "metadata": {},
   "outputs": [],
   "source": [
    "nper = 1 #number of stress periods \n",
    "nper0 = 0\n",
    "steady = [True] #list noting the stress period type\n",
    "\n",
    "\n",
    "sp_peryr = 2                            # periods for seasonality (two stress periods per year)\n",
    "sp1_len = 90                            # Length of stress period 1 in days\n",
    "sp2_len = 360-sp1_len                   # Length of stress period 2 in days\n",
    "sim_years = 100                         # number of years for transient simulation \n",
    "nper = int(sp_peryr*sim_years + 1)      # total number of stress periods the +1 is for the steady state start\n",
    "\n",
    "#setup the steady state array\n",
    "steady = np.ones(nper, dtype=bool)*False     # steady-state or transient flag for each stress period (boolean array)\n",
    "steady[0] = True                 # initial stress period is steady-state\n",
    "\n",
    "#make an array of period lengths\n",
    "perlen=np.tile([sp1_len, sp2_len],sim_years)\n",
    "perlen=np.append(10,perlen) #add a period of length 10 at the start for the steady state simulation\n",
    "\n",
    "nstp=perlen/30       # set monthly time steps per stress period to get monthly results\n",
    "nstp[0]=1            #for the steady state solution we just want one output\n",
    "nstp = nstp.astype(int)\n",
    "\n",
    "elyears = (np.cumsum(perlen)-perlen[0])/360"
   ]
  },
  {
   "cell_type": "markdown",
   "id": "acquired-sleeve",
   "metadata": {},
   "source": [
    "##### 3.3 Create DIS object"
   ]
  },
  {
   "cell_type": "code",
   "execution_count": 7,
   "id": "obvious-botswana",
   "metadata": {},
   "outputs": [],
   "source": [
    "#create flopy discretization object, length and time are meters (2) and days (4)\n",
    "dis = flopy.modflow.ModflowDis(model=m, nlay=nlay, nrow=nrow, ncol=ncol, \n",
    "                               delr=dx, delc=dy, top=ztop, botm=zbot, \n",
    "                               itmuni = 4, lenuni = 2, \n",
    "                               nper=nper, steady=steady)"
   ]
  },
  {
   "cell_type": "code",
   "execution_count": 8,
   "id": "desirable-apartment",
   "metadata": {},
   "outputs": [],
   "source": [
    "dis2 = flopy.modflow.ModflowDis(model=m2, nlay=nlay, nrow=nrow, ncol=ncol, \n",
    "                               delr=dx, delc=dy, top=ztop, botm=zbot, \n",
    "                               itmuni = 4, lenuni = 2, \n",
    "                               nper=nper, steady=steady)"
   ]
  },
  {
   "cell_type": "markdown",
   "id": "aboriginal-bonus",
   "metadata": {},
   "source": [
    "##### 3.4 Plot the grid\n",
    "For help on this function see: https://flopy.readthedocs.io/en/3.3.2/source/flopy.plot.plotutil.html"
   ]
  },
  {
   "cell_type": "code",
   "execution_count": 9,
   "id": "going-blackjack",
   "metadata": {},
   "outputs": [
    {
     "data": {
      "image/png": "[encoded data removed]",
      "text/plain": [
       "<Figure size 432x288 with 1 Axes>"
      ]
     },
     "metadata": {
      "needs_background": "light"
     },
     "output_type": "display_data"
    }
   ],
   "source": [
    "#use flopy to plot the grid of model 'm'\n",
    "modelmap = flopy.plot.PlotMapView(model=m, layer=0)\n",
    "grid = modelmap.plot_grid() \n",
    "plt.xlabel('Lx (m)',fontsize = 14)\n",
    "plt.ylabel('Ly (m)',fontsize = 14)\n",
    "plt.title('Grid', fontsize = 15, fontweight = 'bold')\n",
    "plt.show()"
   ]
  },
  {
   "cell_type": "markdown",
   "id": "significant-justice",
   "metadata": {},
   "source": [
    "\n",
    "### 4. Setup constant head boundaries, active cells and initial heads (BAS Package)\n",
    "For more details on the BAS package see: https://flopy.readthedocs.io/en/3.3.2/source/flopy.modflow.mfbas.html\n",
    "\n",
    "##### 4.1 Define cell activity: IBOUND"
   ]
  },
  {
   "cell_type": "code",
   "execution_count": 10,
   "id": "intended-harvard",
   "metadata": {},
   "outputs": [],
   "source": [
    "#create ibound as array of ints = 1\n",
    "ibound = np.ones((nlay, nrow, ncol), dtype=np.int32) #integer array of dim (z,y,x), makes all cells active     \n",
    "ibound2 = np.ones((nlay, nrow, ncol), dtype=np.int32)\n",
    "\n",
    "#set constant head boundary on the left\n",
    "ibound[:,:,0] = -1          #replace leftmost column (all zs, all ys, first x) with -1 to indicate constant head \n",
    "ibound[:,:,-1] = -1          #replace leftmost column (all zs, all ys, first x) with -1 to indicate constant head"
   ]
  },
  {
   "cell_type": "markdown",
   "id": "ceramic-fourth",
   "metadata": {},
   "source": [
    "##### 4.2 Define starting head"
   ]
  },
  {
   "cell_type": "code",
   "execution_count": 11,
   "id": "varying-disaster",
   "metadata": {},
   "outputs": [],
   "source": [
    "#setup initial heads as 70 everywhere, this value will be preserved on constant head boundaries  \n",
    "H_init = np.ones((nlay, nrow, ncol), dtype=np.float32)  #float array (i.e. decimal), sets all heads to 1.0\n",
    "H_init[:, :, :] = 50    # set all values to uniform initial condition\n",
    "H_init[:, :, -1] = 30    #replace last (left) col with desired head value"
   ]
  },
  {
   "cell_type": "markdown",
   "id": "great-capitol",
   "metadata": {},
   "source": [
    "##### 4.3 Create BAS object"
   ]
  },
  {
   "cell_type": "code",
   "execution_count": 12,
   "id": "voluntary-socket",
   "metadata": {},
   "outputs": [],
   "source": [
    "#create flopy bas object\n",
    "bas = flopy.modflow.ModflowBas(m, ibound=ibound, strt=H_init)\n",
    "bas2 = flopy.modflow.ModflowBas(m2, ibound=ibound, strt=H_init)"
   ]
  },
  {
   "cell_type": "code",
   "execution_count": 13,
   "id": "social-double",
   "metadata": {},
   "outputs": [
    {
     "data": {
      "image/png": "[encoded data removed]",
      "text/plain": [
       "<Figure size 432x288 with 1 Axes>"
      ]
     },
     "metadata": {
      "needs_background": "light"
     },
     "output_type": "display_data"
    }
   ],
   "source": [
    "#plot grid and ibound\n",
    "modelmap = flopy.plot.PlotMapView(model=m, layer=0)\n",
    "grid = modelmap.plot_grid()\n",
    "ib = modelmap.plot_ibound()\n",
    "#add labels and legend\n",
    "plt.xlabel('Lx (m)',fontsize = 14)\n",
    "plt.ylabel('Ly (m)',fontsize = 14)\n",
    "plt.title('Ibound', fontsize = 15, fontweight = 'bold')\n",
    "plt.legend(handles=[mp.patches.Patch(color='blue',label='Const. Head',ec='black'),\n",
    "                   mp.patches.Patch(color='white',label='Active Cell',ec='black'),\n",
    "                   mp.patches.Patch(color='black',label='Inactive Cell',ec='black')],\n",
    "                   bbox_to_anchor=(1.5,1.0))\n",
    "plt.show(modelmap)\n",
    "\n",
    "\n",
    "# I'm not sure why this stopped working!  Can someone figure out why the right boundary doesn't show up as constant head??"
   ]
  },
  {
   "cell_type": "markdown",
   "id": "psychological-input",
   "metadata": {},
   "source": [
    "### 5. Setup Layer Properties (LPF Package)\n",
    "For more details on LPF package see: https://flopy.readthedocs.io/en/3.3.2/source/flopy.modflow.mflpf.html\n",
    "\n",
    "##### 5.1 Set layer properties"
   ]
  },
  {
   "cell_type": "code",
   "execution_count": 14,
   "id": "deadly-immune",
   "metadata": {},
   "outputs": [],
   "source": [
    "K_horiz = .1    #horizontal hydraulic conductivity \n",
    "K_vert = .1     #assign vertical hydraulic conductivity (along z axis)\n",
    "n = 0.35        #assign porosity\n",
    "Ss = 0.001      #assign storage coefficient\n",
    "Sy = 0.03       #assign specific yield\n",
    "uncnf = 0       #0=confined, >0 = unconfined"
   ]
  },
  {
   "cell_type": "markdown",
   "id": "loaded-movement",
   "metadata": {},
   "source": [
    "##### 5.2 Make LPF object"
   ]
  },
  {
   "cell_type": "code",
   "execution_count": 15,
   "id": "square-toolbox",
   "metadata": {},
   "outputs": [],
   "source": [
    "\n",
    "# kept in case you want to use it later\n",
    "\n",
    "#assigns horizontal and vertical Ks and saves cell-by-cell budget data\n",
    "# lpf = flopy.modflow.ModflowLpf(m, laytyp=uncnf, hk=K_horiz, \n",
    "#                                vka=K_vert, ss=Ss,\n",
    "#                                sy=Sy,storagecoefficient=True, ipakcb=53)"
   ]
  },
  {
   "cell_type": "markdown",
   "id": "renewable-person",
   "metadata": {},
   "source": [
    "### 5b. Setup Cell-byCell Properties (BCF Package)\n",
    "For more details on LPF package see: https://flopy.readthedocs.io/en/3.3.2/source/flopy.modflow.mfbcf.html\n",
    "\n",
    "##### 5b.1 Set cell properties and show K in top layer"
   ]
  },
  {
   "cell_type": "code",
   "execution_count": 16,
   "id": "congressional-bearing",
   "metadata": {},
   "outputs": [
    {
     "data": {
      "image/png": "[encoded data removed]",
      "text/plain": [
       "<Figure size 720x720 with 2 Axes>"
      ]
     },
     "metadata": {
      "needs_background": "light"
     },
     "output_type": "display_data"
    }
   ],
   "source": [
    "K_vals = np.zeros((ncol,nrow,nlay))\n",
    "K_vals[:,:,:] = 1             # homoogeneous background hydraulic conductivity \n",
    "#K_vals[10:15,10:15,:] = 0.1   # low K inclusion\n",
    "\n",
    "#plot K values in top layer\n",
    "fig1 = plt.figure(figsize=(10,10)) #create 10 x 10 figure\n",
    "plt.xlabel('Lx (m)',fontsize = 14)\n",
    "plt.ylabel('Ly (m)',fontsize = 14)\n",
    "plt.title('K in top layer', fontsize = 15, fontweight = 'bold')\n",
    "plt.contourf(K_vals[:,:,0])\n",
    "plt.colorbar()\n",
    "plt.show()"
   ]
  },
  {
   "cell_type": "markdown",
   "id": "careful-matthew",
   "metadata": {},
   "source": [
    "##### 5b.2 Make BCF object"
   ]
  },
  {
   "cell_type": "code",
   "execution_count": 17,
   "id": "every-marriage",
   "metadata": {},
   "outputs": [],
   "source": [
    "#assigns horizontal and vertical Ks and saves cell-by-cell budget data\n",
    "bcf = flopy.modflow.ModflowBcf(m, ipakcb=53, intercellt=0, laycon=3, trpy=1.0, hdry=-1e+30, iwdflg=0, wetfct=0.1, iwetit=1, ihdwet=0, tran=1.0, hy=K_vals[:,:,0], vcont=1.0, sf1=Ss, sf2=Sy, wetdry=-0.01, extension='bcf', unitnumber=None, filenames=None)\n",
    "bcf2 = flopy.modflow.ModflowBcf(m2, ipakcb=53, intercellt=0, laycon=3, trpy=1.0, hdry=-1e+30, iwdflg=0, wetfct=0.1, iwetit=1, ihdwet=0, tran=1.0, hy=K_vals[:,:,0], vcont=1.0, sf1=Ss, sf2=Sy, wetdry=-0.01, extension='bcf', unitnumber=None, filenames=None)"
   ]
  },
  {
   "cell_type": "markdown",
   "id": "becoming-shore",
   "metadata": {},
   "source": [
    "### 6. Setup outputs by stress period (OC Package)\n",
    "For more details on OC Package: https://flopy.readthedocs.io/en/3.3.2/source/flopy.modflow.mfoc.html\n",
    "\n",
    "##### 6.1 Setup outputs"
   ]
  },
  {
   "cell_type": "code",
   "execution_count": 18,
   "id": "printable-lesson",
   "metadata": {},
   "outputs": [],
   "source": [
    "#create oc stress period data - save for each time step in each stress period. \n",
    "oc_spd = {}\n",
    "for kper in range(nper):  \n",
    "    for kstp in range(nstp[kper]):\n",
    "        #print(kstp)\n",
    "        oc_spd[(kper, kstp)] = ['save head','save drawdown','save budget','print head','print budget']"
   ]
  },
  {
   "cell_type": "markdown",
   "id": "limited-source",
   "metadata": {},
   "source": [
    "##### 6.2 Make OC object"
   ]
  },
  {
   "cell_type": "code",
   "execution_count": 19,
   "id": "emerging-illustration",
   "metadata": {},
   "outputs": [],
   "source": [
    "oc = flopy.modflow.ModflowOc(model=m, stress_period_data=oc_spd, compact=True)\n",
    "oc2 = flopy.modflow.ModflowOc(model=m2, stress_period_data=oc_spd, compact=True)"
   ]
  },
  {
   "cell_type": "markdown",
   "id": "female-signature",
   "metadata": {},
   "source": [
    "### 7. Set the numerical solver (PCG Package)\n",
    "We are using the Preconditioned Conjugate Gradient package:\n",
    "\n",
    "Additionally, MODFLOW online describes these solvers: https://water.usgs.gov/ogw/modflow/MODFLOW-2005-Guide/index.html?oc.htm\n",
    "\n",
    "And Flopy documents its communication with the PCG MODFLOW package: http://modflowpy.github.io/flopydoc/mfpcg.html\n",
    "\n",
    "##### 7.1 Make the PCG object"
   ]
  },
  {
   "cell_type": "code",
   "execution_count": 20,
   "id": "sealed-tobago",
   "metadata": {},
   "outputs": [],
   "source": [
    "pcg = flopy.modflow.ModflowPcg(model=m)\n",
    "pcg2 = flopy.modflow.ModflowPcg(model=m2)"
   ]
  },
  {
   "cell_type": "markdown",
   "id": "polyphonic-enlargement",
   "metadata": {},
   "source": [
    "### 8. Add wells for the constant flux boundary (WEL Package)\n",
    "For more details on the WEL package see: http://modflowpy.github.io/flopydoc/mfwel.html\n",
    "\n",
    "##### 8.1 Setup the well parameters (use this to set a defined flux boundary)"
   ]
  },
  {
   "cell_type": "code",
   "execution_count": 21,
   "id": "incredible-chair",
   "metadata": {},
   "outputs": [],
   "source": [
    "#Setup alternating pumping values\n",
    "well_loc = [0, 20, 20]\n",
    "Q1 = 0\n",
    "Q2 = -500\n",
    "Q_val=np.tile([Q2, Q1],sim_years)\n",
    "Q_val=np.append(0,Q_val) # add a period of length 10 at the start for the steady state simulation\n",
    "                      \n",
    "Q = {}\n",
    "for p in range(0,nper):    #loop over stress periods\n",
    "    Q[p]=Q_val[p]\n",
    "\n",
    "well_spd = {}                                                                  # create empty dictionary for well info\n",
    "for per in range(nper):                                                        # transient models, iterate over stress periods to assign well stresses\n",
    "    well_spd[per] = [[well_loc[0], well_loc[1], well_loc[2], Q_val[per]]]      # assign well coord & pump rate for each stress period\n",
    "    \n",
    "    \n",
    "Q3 = -225\n",
    "#Q3_val=np.tile(Q3,sim_years)\n",
    "                        #total flow crossing right boundary (m3/day)\n",
    "'''fluxes = [0,20,20,Q3]\n",
    "\n",
    "sp_fluxes = {0: fluxes}              #create a dictionary with entries for each stress period\n",
    "'''\n",
    "\n",
    "Q3_val=np.tile(Q3,sim_years)\n",
    "Q3_val=np.append(0,Q3_val) # add a period of length 10 at the start for the steady state simulation\n",
    "                      \n",
    "Q3 = {}\n",
    "for p in range(0,1):    #loop over stress periods\n",
    "    Q3[p]=Q3_val[p]\n",
    "\n",
    "well_spd2 = {}                                                                  # create empty dictionary for well info\n",
    "for per in range(0,1):                                                        # transient models, iterate over stress periods to assign well stresses\n",
    "    well_spd2[per] = [[well_loc[0], well_loc[1], well_loc[2], Q3_val[per]]]   "
   ]
  },
  {
   "cell_type": "markdown",
   "id": "forbidden-wrist",
   "metadata": {},
   "source": [
    "##### 8.2 Make the WEL object"
   ]
  },
  {
   "cell_type": "code",
   "execution_count": 22,
   "id": "consecutive-spanking",
   "metadata": {},
   "outputs": [],
   "source": [
    "wel = flopy.modflow.mfwel.ModflowWel(m, stress_period_data=well_spd)  #create object for WEL package\n",
    "wel2 = flopy.modflow.mfwel.ModflowWel(m2, stress_period_data=well_spd2)"
   ]
  },
  {
   "cell_type": "markdown",
   "id": "instrumental-coverage",
   "metadata": {},
   "source": [
    "### 9. Add recharge (RCH Package)\n",
    "For more details on the WEL package see: http://modflowpy.github.io/flopydoc/mfrch.html\n",
    "\n",
    "##### 9.1 Setup recharge value"
   ]
  },
  {
   "cell_type": "code",
   "execution_count": 23,
   "id": "organizational-chinese",
   "metadata": {},
   "outputs": [],
   "source": [
    "#Recharge \n",
    "rech_zone = np.zeros((nrow,ncol))               #define an array of zeros of dim (nrow,ncol) - backgroun ET is zero everywhere\n",
    "recharge = 5e-4 #m/day                          \n",
    "#rech_zone[10:20,10:20] = recharge\n",
    "\n",
    "\n",
    "rch = flopy.modflow.mfrch.ModflowRch(model=m, rech=rech_zone, ipakcb=53)     #create rch object\n",
    "rch2 = flopy.modflow.mfrch.ModflowRch(model=m2, rech=rech_zone, ipakcb=53)     #create rch object"
   ]
  },
  {
   "cell_type": "markdown",
   "id": "surrounded-combining",
   "metadata": {},
   "source": [
    "#####  9.2 Add evapotranspiration"
   ]
  },
  {
   "cell_type": "code",
   "execution_count": 24,
   "id": "earlier-numbers",
   "metadata": {},
   "outputs": [
    {
     "data": {
      "text/plain": [
       "'# ET - this is set up to show how you would add time-varying recharge in a localized area\\nET_val1 = 0 #m/day\\nET_val2 = 0.01 #m/day\\nET_locxy=[[400, 900], [1500, 1600]] #lower left and upper right corners of ET in xy coordinate\\nextinction_depth = 50\\n\\nET_rows=(np.floor(nrow-ET_locxy[1][1]/dy),np.floor(nrow-ET_locxy[0][1]/dy)) #convert the y locations to rows\\nET_cols=(np.floor(ET_locxy[0][0]/dx),np.floor(ET_locxy[1][0]/dx)) #convert the y locations to rows\\nET_centerpt=(0, int(np.mean(ET_rows)),int(np.mean(ET_cols)))\\nET_zone = np.zeros((nlay,nrow,ncol))     # define an array of zeroes the size of the model grid\\nET_zone[0,int(ET_rows[0]):int(ET_rows[1]), int(ET_cols[0]):int(ET_cols[1])] = ET_val2  # assign ET rate to the ET zone\\n\\n#Setup alternating ET values\\nET_val=np.tile([ET_val1, ET_val2],sim_years)\\nET_val=np.append(ET_val1,ET_val) # add a period of length 10 at the start for the steady state simulation\\n                      \\nET = {}\\nfor p in range(0,nper):    #loop over stress periods\\n    ET[p]=ET_zone*ET_val[p]\\n\\nevt = flopy.modflow.mfevt.ModflowEvt(m, surf=ztop, evtr=ET, exdp=extinction_depth, ipakcb=53)'"
      ]
     },
     "execution_count": 24,
     "metadata": {},
     "output_type": "execute_result"
    }
   ],
   "source": [
    "'''# ET - this is set up to show how you would add time-varying recharge in a localized area\n",
    "ET_val1 = 0 #m/day\n",
    "ET_val2 = 0.01 #m/day\n",
    "ET_locxy=[[400, 900], [1500, 1600]] #lower left and upper right corners of ET in xy coordinate\n",
    "extinction_depth = 50\n",
    "\n",
    "ET_rows=(np.floor(nrow-ET_locxy[1][1]/dy),np.floor(nrow-ET_locxy[0][1]/dy)) #convert the y locations to rows\n",
    "ET_cols=(np.floor(ET_locxy[0][0]/dx),np.floor(ET_locxy[1][0]/dx)) #convert the y locations to rows\n",
    "ET_centerpt=(0, int(np.mean(ET_rows)),int(np.mean(ET_cols)))\n",
    "ET_zone = np.zeros((nlay,nrow,ncol))     # define an array of zeroes the size of the model grid\n",
    "ET_zone[0,int(ET_rows[0]):int(ET_rows[1]), int(ET_cols[0]):int(ET_cols[1])] = ET_val2  # assign ET rate to the ET zone\n",
    "\n",
    "#Setup alternating ET values\n",
    "ET_val=np.tile([ET_val1, ET_val2],sim_years)\n",
    "ET_val=np.append(ET_val1,ET_val) # add a period of length 10 at the start for the steady state simulation\n",
    "                      \n",
    "ET = {}\n",
    "for p in range(0,nper):    #loop over stress periods\n",
    "    ET[p]=ET_zone*ET_val[p]\n",
    "\n",
    "evt = flopy.modflow.mfevt.ModflowEvt(m, surf=ztop, evtr=ET, exdp=extinction_depth, ipakcb=53)'''"
   ]
  },
  {
   "cell_type": "markdown",
   "id": "tired-playing",
   "metadata": {},
   "source": [
    "### 10. Write inputs and run the model\n",
    "##### 10.1 Write Inputs"
   ]
  },
  {
   "cell_type": "code",
   "execution_count": 25,
   "id": "indirect-mayor",
   "metadata": {},
   "outputs": [],
   "source": [
    "m.write_input()    #uses the package objects created above to actually write the text files, \n",
    "                    #and saves to folder that this script is in\n",
    "                    #after this step you should see the files appear in your folder\n",
    "        \n",
    "m2.write_input()"
   ]
  },
  {
   "cell_type": "markdown",
   "id": "after-religious",
   "metadata": {},
   "source": [
    "##### 10.2 Run the model"
   ]
  },
  {
   "cell_type": "code",
   "execution_count": 26,
   "id": "straight-teach",
   "metadata": {},
   "outputs": [
    {
     "name": "stdout",
     "output_type": "stream",
     "text": [
      "FloPy is using the following  executable to run the model: C:\\Users\\Quilson2\\OneDrive\\Documents\\SPRING21\\582-GWMod\\Course_Materials\\Assignments\\mf2005.exe\n",
      "\n",
      "                                  MODFLOW-2005     \n",
      "    U.S. GEOLOGICAL SURVEY MODULAR FINITE-DIFFERENCE GROUND-WATER FLOW MODEL\n",
      "                             Version 1.11.00 8/8/2013                        \n",
      "\n",
      " Using NAME file: Transient.nam \n",
      " Run start date and time (yyyy/mm/dd hh:mm:ss): 2021/03/19 12:45:02\n",
      "\n",
      " Solving:  Stress period:     1    Time step:     1    Ground-Water Flow Eqn.\n",
      " Solving:  Stress period:     2    Time step:     1    Ground-Water Flow Eqn.\n",
      " Solving:  Stress period:     3    Time step:     1    Ground-Water Flow Eqn.\n",
      " Solving:  Stress period:     4    Time step:     1    Ground-Water Flow Eqn.\n",
      " Solving:  Stress period:     5    Time step:     1    Ground-Water Flow Eqn.\n",
      " Solving:  Stress period:     6    Time step:     1    Ground-Water Flow Eqn.\n",
      " Solving:  Stress period:     7    Time step:     1    Ground-Water Flow Eqn.\n",
      " Solving:  Stress period:     8    Time step:     1    Ground-Water Flow Eqn.\n",
      " Solving:  Stress period:     9    Time step:     1    Ground-Water Flow Eqn.\n",
      " Solving:  Stress period:    10    Time step:     1    Ground-Water Flow Eqn.\n",
      " Solving:  Stress period:    11    Time step:     1    Ground-Water Flow Eqn.\n",
      " Solving:  Stress period:    12    Time step:     1    Ground-Water Flow Eqn.\n",
      " Solving:  Stress period:    13    Time step:     1    Ground-Water Flow Eqn.\n",
      " Solving:  Stress period:    14    Time step:     1    Ground-Water Flow Eqn.\n",
      " Solving:  Stress period:    15    Time step:     1    Ground-Water Flow Eqn.\n",
      " Solving:  Stress period:    16    Time step:     1    Ground-Water Flow Eqn.\n",
      " Solving:  Stress period:    17    Time step:     1    Ground-Water Flow Eqn.\n",
      " Solving:  Stress period:    18    Time step:     1    Ground-Water Flow Eqn.\n",
      " Solving:  Stress period:    19    Time step:     1    Ground-Water Flow Eqn.\n",
      " Solving:  Stress period:    20    Time step:     1    Ground-Water Flow Eqn.\n",
      " Solving:  Stress period:    21    Time step:     1    Ground-Water Flow Eqn.\n",
      " Solving:  Stress period:    22    Time step:     1    Ground-Water Flow Eqn.\n",
      " Solving:  Stress period:    23    Time step:     1    Ground-Water Flow Eqn.\n",
      " Solving:  Stress period:    24    Time step:     1    Ground-Water Flow Eqn.\n",
      " Solving:  Stress period:    25    Time step:     1    Ground-Water Flow Eqn.\n",
      " Solving:  Stress period:    26    Time step:     1    Ground-Water Flow Eqn.\n",
      " Solving:  Stress period:    27    Time step:     1    Ground-Water Flow Eqn.\n",
      " Solving:  Stress period:    28    Time step:     1    Ground-Water Flow Eqn.\n",
      " Solving:  Stress period:    29    Time step:     1    Ground-Water Flow Eqn.\n",
      " Solving:  Stress period:    30    Time step:     1    Ground-Water Flow Eqn.\n",
      " Solving:  Stress period:    31    Time step:     1    Ground-Water Flow Eqn.\n",
      " Solving:  Stress period:    32    Time step:     1    Ground-Water Flow Eqn.\n",
      " Solving:  Stress period:    33    Time step:     1    Ground-Water Flow Eqn.\n",
      " Solving:  Stress period:    34    Time step:     1    Ground-Water Flow Eqn.\n",
      " Solving:  Stress period:    35    Time step:     1    Ground-Water Flow Eqn.\n",
      " Solving:  Stress period:    36    Time step:     1    Ground-Water Flow Eqn.\n",
      " Solving:  Stress period:    37    Time step:     1    Ground-Water Flow Eqn.\n",
      " Solving:  Stress period:    38    Time step:     1    Ground-Water Flow Eqn.\n",
      " Solving:  Stress period:    39    Time step:     1    Ground-Water Flow Eqn.\n",
      " Solving:  Stress period:    40    Time step:     1    Ground-Water Flow Eqn.\n",
      " Solving:  Stress period:    41    Time step:     1    Ground-Water Flow Eqn.\n",
      " Solving:  Stress period:    42    Time step:     1    Ground-Water Flow Eqn.\n",
      " Solving:  Stress period:    43    Time step:     1    Ground-Water Flow Eqn.\n",
      " Solving:  Stress period:    44    Time step:     1    Ground-Water Flow Eqn.\n",
      " Solving:  Stress period:    45    Time step:     1    Ground-Water Flow Eqn.\n",
      " Solving:  Stress period:    46    Time step:     1    Ground-Water Flow Eqn.\n",
      " Solving:  Stress period:    47    Time step:     1    Ground-Water Flow Eqn.\n",
      " Solving:  Stress period:    48    Time step:     1    Ground-Water Flow Eqn.\n",
      " Solving:  Stress period:    49    Time step:     1    Ground-Water Flow Eqn.\n",
      " Solving:  Stress period:    50    Time step:     1    Ground-Water Flow Eqn.\n",
      " Solving:  Stress period:    51    Time step:     1    Ground-Water Flow Eqn.\n",
      " Solving:  Stress period:    52    Time step:     1    Ground-Water Flow Eqn.\n",
      " Solving:  Stress period:    53    Time step:     1    Ground-Water Flow Eqn.\n",
      " Solving:  Stress period:    54    Time step:     1    Ground-Water Flow Eqn.\n",
      " Solving:  Stress period:    55    Time step:     1    Ground-Water Flow Eqn.\n",
      " Solving:  Stress period:    56    Time step:     1    Ground-Water Flow Eqn.\n",
      " Solving:  Stress period:    57    Time step:     1    Ground-Water Flow Eqn.\n",
      " Solving:  Stress period:    58    Time step:     1    Ground-Water Flow Eqn.\n",
      " Solving:  Stress period:    59    Time step:     1    Ground-Water Flow Eqn.\n",
      " Solving:  Stress period:    60    Time step:     1    Ground-Water Flow Eqn.\n",
      " Solving:  Stress period:    61    Time step:     1    Ground-Water Flow Eqn.\n",
      " Solving:  Stress period:    62    Time step:     1    Ground-Water Flow Eqn.\n",
      " Solving:  Stress period:    63    Time step:     1    Ground-Water Flow Eqn.\n",
      " Solving:  Stress period:    64    Time step:     1    Ground-Water Flow Eqn.\n",
      " Solving:  Stress period:    65    Time step:     1    Ground-Water Flow Eqn.\n",
      " Solving:  Stress period:    66    Time step:     1    Ground-Water Flow Eqn.\n",
      " Solving:  Stress period:    67    Time step:     1    Ground-Water Flow Eqn.\n",
      " Solving:  Stress period:    68    Time step:     1    Ground-Water Flow Eqn.\n",
      " Solving:  Stress period:    69    Time step:     1    Ground-Water Flow Eqn.\n",
      " Solving:  Stress period:    70    Time step:     1    Ground-Water Flow Eqn.\n",
      " Solving:  Stress period:    71    Time step:     1    Ground-Water Flow Eqn.\n",
      " Solving:  Stress period:    72    Time step:     1    Ground-Water Flow Eqn.\n",
      " Solving:  Stress period:    73    Time step:     1    Ground-Water Flow Eqn.\n",
      " Solving:  Stress period:    74    Time step:     1    Ground-Water Flow Eqn.\n",
      " Solving:  Stress period:    75    Time step:     1    Ground-Water Flow Eqn.\n",
      " Solving:  Stress period:    76    Time step:     1    Ground-Water Flow Eqn.\n",
      " Solving:  Stress period:    77    Time step:     1    Ground-Water Flow Eqn.\n",
      " Solving:  Stress period:    78    Time step:     1    Ground-Water Flow Eqn.\n",
      " Solving:  Stress period:    79    Time step:     1    Ground-Water Flow Eqn.\n",
      " Solving:  Stress period:    80    Time step:     1    Ground-Water Flow Eqn.\n",
      " Solving:  Stress period:    81    Time step:     1    Ground-Water Flow Eqn.\n",
      " Solving:  Stress period:    82    Time step:     1    Ground-Water Flow Eqn.\n",
      " Solving:  Stress period:    83    Time step:     1    Ground-Water Flow Eqn.\n",
      " Solving:  Stress period:    84    Time step:     1    Ground-Water Flow Eqn.\n",
      " Solving:  Stress period:    85    Time step:     1    Ground-Water Flow Eqn.\n",
      " Solving:  Stress period:    86    Time step:     1    Ground-Water Flow Eqn.\n",
      " Solving:  Stress period:    87    Time step:     1    Ground-Water Flow Eqn.\n",
      " Solving:  Stress period:    88    Time step:     1    Ground-Water Flow Eqn.\n",
      " Solving:  Stress period:    89    Time step:     1    Ground-Water Flow Eqn.\n",
      " Solving:  Stress period:    90    Time step:     1    Ground-Water Flow Eqn.\n",
      " Solving:  Stress period:    91    Time step:     1    Ground-Water Flow Eqn.\n",
      " Solving:  Stress period:    92    Time step:     1    Ground-Water Flow Eqn.\n",
      " Solving:  Stress period:    93    Time step:     1    Ground-Water Flow Eqn.\n",
      " Solving:  Stress period:    94    Time step:     1    Ground-Water Flow Eqn.\n",
      " Solving:  Stress period:    95    Time step:     1    Ground-Water Flow Eqn.\n",
      " Solving:  Stress period:    96    Time step:     1    Ground-Water Flow Eqn.\n",
      " Solving:  Stress period:    97    Time step:     1    Ground-Water Flow Eqn.\n",
      " Solving:  Stress period:    98    Time step:     1    Ground-Water Flow Eqn.\n",
      " Solving:  Stress period:    99    Time step:     1    Ground-Water Flow Eqn.\n",
      " Solving:  Stress period:   100    Time step:     1    Ground-Water Flow Eqn.\n",
      " Solving:  Stress period:   101    Time step:     1    Ground-Water Flow Eqn.\n",
      " Solving:  Stress period:   102    Time step:     1    Ground-Water Flow Eqn.\n",
      " Solving:  Stress period:   103    Time step:     1    Ground-Water Flow Eqn.\n",
      " Solving:  Stress period:   104    Time step:     1    Ground-Water Flow Eqn.\n",
      " Solving:  Stress period:   105    Time step:     1    Ground-Water Flow Eqn.\n",
      " Solving:  Stress period:   106    Time step:     1    Ground-Water Flow Eqn.\n",
      " Solving:  Stress period:   107    Time step:     1    Ground-Water Flow Eqn.\n",
      " Solving:  Stress period:   108    Time step:     1    Ground-Water Flow Eqn.\n",
      " Solving:  Stress period:   109    Time step:     1    Ground-Water Flow Eqn.\n",
      " Solving:  Stress period:   110    Time step:     1    Ground-Water Flow Eqn.\n",
      " Solving:  Stress period:   111    Time step:     1    Ground-Water Flow Eqn.\n",
      " Solving:  Stress period:   112    Time step:     1    Ground-Water Flow Eqn.\n",
      " Solving:  Stress period:   113    Time step:     1    Ground-Water Flow Eqn.\n",
      " Solving:  Stress period:   114    Time step:     1    Ground-Water Flow Eqn.\n",
      " Solving:  Stress period:   115    Time step:     1    Ground-Water Flow Eqn.\n",
      " Solving:  Stress period:   116    Time step:     1    Ground-Water Flow Eqn.\n",
      " Solving:  Stress period:   117    Time step:     1    Ground-Water Flow Eqn.\n",
      " Solving:  Stress period:   118    Time step:     1    Ground-Water Flow Eqn.\n",
      " Solving:  Stress period:   119    Time step:     1    Ground-Water Flow Eqn.\n",
      " Solving:  Stress period:   120    Time step:     1    Ground-Water Flow Eqn.\n",
      " Solving:  Stress period:   121    Time step:     1    Ground-Water Flow Eqn.\n",
      " Solving:  Stress period:   122    Time step:     1    Ground-Water Flow Eqn.\n",
      " Solving:  Stress period:   123    Time step:     1    Ground-Water Flow Eqn.\n",
      " Solving:  Stress period:   124    Time step:     1    Ground-Water Flow Eqn.\n",
      " Solving:  Stress period:   125    Time step:     1    Ground-Water Flow Eqn.\n",
      " Solving:  Stress period:   126    Time step:     1    Ground-Water Flow Eqn.\n",
      " Solving:  Stress period:   127    Time step:     1    Ground-Water Flow Eqn.\n",
      " Solving:  Stress period:   128    Time step:     1    Ground-Water Flow Eqn.\n",
      " Solving:  Stress period:   129    Time step:     1    Ground-Water Flow Eqn.\n",
      " Solving:  Stress period:   130    Time step:     1    Ground-Water Flow Eqn.\n",
      " Solving:  Stress period:   131    Time step:     1    Ground-Water Flow Eqn.\n",
      " Solving:  Stress period:   132    Time step:     1    Ground-Water Flow Eqn.\n",
      " Solving:  Stress period:   133    Time step:     1    Ground-Water Flow Eqn.\n",
      " Solving:  Stress period:   134    Time step:     1    Ground-Water Flow Eqn.\n",
      " Solving:  Stress period:   135    Time step:     1    Ground-Water Flow Eqn.\n",
      " Solving:  Stress period:   136    Time step:     1    Ground-Water Flow Eqn.\n",
      " Solving:  Stress period:   137    Time step:     1    Ground-Water Flow Eqn.\n",
      " Solving:  Stress period:   138    Time step:     1    Ground-Water Flow Eqn.\n",
      " Solving:  Stress period:   139    Time step:     1    Ground-Water Flow Eqn.\n",
      " Solving:  Stress period:   140    Time step:     1    Ground-Water Flow Eqn.\n",
      " Solving:  Stress period:   141    Time step:     1    Ground-Water Flow Eqn.\n",
      " Solving:  Stress period:   142    Time step:     1    Ground-Water Flow Eqn.\n",
      " Solving:  Stress period:   143    Time step:     1    Ground-Water Flow Eqn.\n",
      " Solving:  Stress period:   144    Time step:     1    Ground-Water Flow Eqn.\n",
      " Solving:  Stress period:   145    Time step:     1    Ground-Water Flow Eqn.\n",
      " Solving:  Stress period:   146    Time step:     1    Ground-Water Flow Eqn.\n",
      " Solving:  Stress period:   147    Time step:     1    Ground-Water Flow Eqn.\n",
      " Solving:  Stress period:   148    Time step:     1    Ground-Water Flow Eqn.\n",
      " Solving:  Stress period:   149    Time step:     1    Ground-Water Flow Eqn.\n",
      " Solving:  Stress period:   150    Time step:     1    Ground-Water Flow Eqn.\n",
      " Solving:  Stress period:   151    Time step:     1    Ground-Water Flow Eqn.\n",
      " Solving:  Stress period:   152    Time step:     1    Ground-Water Flow Eqn.\n",
      " Solving:  Stress period:   153    Time step:     1    Ground-Water Flow Eqn.\n",
      " Solving:  Stress period:   154    Time step:     1    Ground-Water Flow Eqn.\n",
      " Solving:  Stress period:   155    Time step:     1    Ground-Water Flow Eqn.\n",
      " Solving:  Stress period:   156    Time step:     1    Ground-Water Flow Eqn.\n",
      " Solving:  Stress period:   157    Time step:     1    Ground-Water Flow Eqn.\n",
      " Solving:  Stress period:   158    Time step:     1    Ground-Water Flow Eqn.\n",
      " Solving:  Stress period:   159    Time step:     1    Ground-Water Flow Eqn.\n",
      " Solving:  Stress period:   160    Time step:     1    Ground-Water Flow Eqn.\n",
      " Solving:  Stress period:   161    Time step:     1    Ground-Water Flow Eqn.\n",
      " Solving:  Stress period:   162    Time step:     1    Ground-Water Flow Eqn.\n",
      " Solving:  Stress period:   163    Time step:     1    Ground-Water Flow Eqn.\n",
      " Solving:  Stress period:   164    Time step:     1    Ground-Water Flow Eqn.\n",
      " Solving:  Stress period:   165    Time step:     1    Ground-Water Flow Eqn.\n",
      " Solving:  Stress period:   166    Time step:     1    Ground-Water Flow Eqn.\n",
      " Solving:  Stress period:   167    Time step:     1    Ground-Water Flow Eqn.\n",
      " Solving:  Stress period:   168    Time step:     1    Ground-Water Flow Eqn.\n",
      " Solving:  Stress period:   169    Time step:     1    Ground-Water Flow Eqn.\n",
      " Solving:  Stress period:   170    Time step:     1    Ground-Water Flow Eqn.\n",
      " Solving:  Stress period:   171    Time step:     1    Ground-Water Flow Eqn.\n",
      " Solving:  Stress period:   172    Time step:     1    Ground-Water Flow Eqn.\n",
      " Solving:  Stress period:   173    Time step:     1    Ground-Water Flow Eqn.\n",
      " Solving:  Stress period:   174    Time step:     1    Ground-Water Flow Eqn.\n",
      " Solving:  Stress period:   175    Time step:     1    Ground-Water Flow Eqn.\n",
      " Solving:  Stress period:   176    Time step:     1    Ground-Water Flow Eqn.\n",
      " Solving:  Stress period:   177    Time step:     1    Ground-Water Flow Eqn.\n",
      " Solving:  Stress period:   178    Time step:     1    Ground-Water Flow Eqn.\n",
      " Solving:  Stress period:   179    Time step:     1    Ground-Water Flow Eqn.\n",
      " Solving:  Stress period:   180    Time step:     1    Ground-Water Flow Eqn.\n",
      " Solving:  Stress period:   181    Time step:     1    Ground-Water Flow Eqn.\n",
      " Solving:  Stress period:   182    Time step:     1    Ground-Water Flow Eqn.\n",
      " Solving:  Stress period:   183    Time step:     1    Ground-Water Flow Eqn.\n",
      " Solving:  Stress period:   184    Time step:     1    Ground-Water Flow Eqn.\n",
      " Solving:  Stress period:   185    Time step:     1    Ground-Water Flow Eqn.\n",
      " Solving:  Stress period:   186    Time step:     1    Ground-Water Flow Eqn.\n",
      " Solving:  Stress period:   187    Time step:     1    Ground-Water Flow Eqn.\n",
      " Solving:  Stress period:   188    Time step:     1    Ground-Water Flow Eqn.\n",
      " Solving:  Stress period:   189    Time step:     1    Ground-Water Flow Eqn.\n",
      " Solving:  Stress period:   190    Time step:     1    Ground-Water Flow Eqn.\n",
      " Solving:  Stress period:   191    Time step:     1    Ground-Water Flow Eqn.\n",
      " Solving:  Stress period:   192    Time step:     1    Ground-Water Flow Eqn.\n",
      " Solving:  Stress period:   193    Time step:     1    Ground-Water Flow Eqn.\n",
      " Solving:  Stress period:   194    Time step:     1    Ground-Water Flow Eqn.\n",
      " Solving:  Stress period:   195    Time step:     1    Ground-Water Flow Eqn.\n",
      " Solving:  Stress period:   196    Time step:     1    Ground-Water Flow Eqn.\n",
      " Solving:  Stress period:   197    Time step:     1    Ground-Water Flow Eqn.\n",
      " Solving:  Stress period:   198    Time step:     1    Ground-Water Flow Eqn.\n",
      " Solving:  Stress period:   199    Time step:     1    Ground-Water Flow Eqn.\n",
      " Solving:  Stress period:   200    Time step:     1    Ground-Water Flow Eqn.\n",
      " Solving:  Stress period:   201    Time step:     1    Ground-Water Flow Eqn.\n",
      " Run end date and time (yyyy/mm/dd hh:mm:ss): 2021/03/19 12:45:04\n",
      " Elapsed run time:  1.983 Seconds\n",
      "\n",
      "  Normal termination of simulation\n"
     ]
    }
   ],
   "source": [
    "success, mfoutput = m.run_model(pause=False, report=True)\n",
    "if not success:\n",
    "    raise Exception('MODFLOW did not terminate normally.')"
   ]
  },
  {
   "cell_type": "code",
   "execution_count": 27,
   "id": "green-playback",
   "metadata": {},
   "outputs": [
    {
     "name": "stdout",
     "output_type": "stream",
     "text": [
      "FloPy is using the following  executable to run the model: C:\\Users\\Quilson2\\OneDrive\\Documents\\SPRING21\\582-GWMod\\Course_Materials\\Assignments\\mf2005.exe\n",
      "\n",
      "                                  MODFLOW-2005     \n",
      "    U.S. GEOLOGICAL SURVEY MODULAR FINITE-DIFFERENCE GROUND-WATER FLOW MODEL\n",
      "                             Version 1.11.00 8/8/2013                        \n",
      "\n",
      " Using NAME file: Transient_test.nam \n",
      " Run start date and time (yyyy/mm/dd hh:mm:ss): 2021/03/19 12:45:04\n",
      "\n",
      " Solving:  Stress period:     1    Time step:     1    Ground-Water Flow Eqn.\n",
      " Solving:  Stress period:     2    Time step:     1    Ground-Water Flow Eqn.\n",
      " Solving:  Stress period:     3    Time step:     1    Ground-Water Flow Eqn.\n",
      " Solving:  Stress period:     4    Time step:     1    Ground-Water Flow Eqn.\n",
      " Solving:  Stress period:     5    Time step:     1    Ground-Water Flow Eqn.\n",
      " Solving:  Stress period:     6    Time step:     1    Ground-Water Flow Eqn.\n",
      " Solving:  Stress period:     7    Time step:     1    Ground-Water Flow Eqn.\n",
      " Solving:  Stress period:     8    Time step:     1    Ground-Water Flow Eqn.\n",
      " Solving:  Stress period:     9    Time step:     1    Ground-Water Flow Eqn.\n",
      " Solving:  Stress period:    10    Time step:     1    Ground-Water Flow Eqn.\n",
      " Solving:  Stress period:    11    Time step:     1    Ground-Water Flow Eqn.\n",
      " Solving:  Stress period:    12    Time step:     1    Ground-Water Flow Eqn.\n",
      " Solving:  Stress period:    13    Time step:     1    Ground-Water Flow Eqn.\n",
      " Solving:  Stress period:    14    Time step:     1    Ground-Water Flow Eqn.\n",
      " Solving:  Stress period:    15    Time step:     1    Ground-Water Flow Eqn.\n",
      " Solving:  Stress period:    16    Time step:     1    Ground-Water Flow Eqn.\n",
      " Solving:  Stress period:    17    Time step:     1    Ground-Water Flow Eqn.\n",
      " Solving:  Stress period:    18    Time step:     1    Ground-Water Flow Eqn.\n",
      " Solving:  Stress period:    19    Time step:     1    Ground-Water Flow Eqn.\n",
      " Solving:  Stress period:    20    Time step:     1    Ground-Water Flow Eqn.\n",
      " Solving:  Stress period:    21    Time step:     1    Ground-Water Flow Eqn.\n",
      " Solving:  Stress period:    22    Time step:     1    Ground-Water Flow Eqn.\n",
      " Solving:  Stress period:    23    Time step:     1    Ground-Water Flow Eqn.\n",
      " Solving:  Stress period:    24    Time step:     1    Ground-Water Flow Eqn.\n",
      " Solving:  Stress period:    25    Time step:     1    Ground-Water Flow Eqn.\n",
      " Solving:  Stress period:    26    Time step:     1    Ground-Water Flow Eqn.\n",
      " Solving:  Stress period:    27    Time step:     1    Ground-Water Flow Eqn.\n",
      " Solving:  Stress period:    28    Time step:     1    Ground-Water Flow Eqn.\n",
      " Solving:  Stress period:    29    Time step:     1    Ground-Water Flow Eqn.\n",
      " Solving:  Stress period:    30    Time step:     1    Ground-Water Flow Eqn.\n",
      " Solving:  Stress period:    31    Time step:     1    Ground-Water Flow Eqn.\n",
      " Solving:  Stress period:    32    Time step:     1    Ground-Water Flow Eqn.\n",
      " Solving:  Stress period:    33    Time step:     1    Ground-Water Flow Eqn.\n",
      " Solving:  Stress period:    34    Time step:     1    Ground-Water Flow Eqn.\n",
      " Solving:  Stress period:    35    Time step:     1    Ground-Water Flow Eqn.\n",
      " Solving:  Stress period:    36    Time step:     1    Ground-Water Flow Eqn.\n",
      " Solving:  Stress period:    37    Time step:     1    Ground-Water Flow Eqn.\n",
      " Solving:  Stress period:    38    Time step:     1    Ground-Water Flow Eqn.\n",
      " Solving:  Stress period:    39    Time step:     1    Ground-Water Flow Eqn.\n",
      " Solving:  Stress period:    40    Time step:     1    Ground-Water Flow Eqn.\n",
      " Solving:  Stress period:    41    Time step:     1    Ground-Water Flow Eqn.\n",
      " Solving:  Stress period:    42    Time step:     1    Ground-Water Flow Eqn.\n",
      " Solving:  Stress period:    43    Time step:     1    Ground-Water Flow Eqn.\n",
      " Solving:  Stress period:    44    Time step:     1    Ground-Water Flow Eqn.\n",
      " Solving:  Stress period:    45    Time step:     1    Ground-Water Flow Eqn.\n",
      " Solving:  Stress period:    46    Time step:     1    Ground-Water Flow Eqn.\n",
      " Solving:  Stress period:    47    Time step:     1    Ground-Water Flow Eqn.\n",
      " Solving:  Stress period:    48    Time step:     1    Ground-Water Flow Eqn.\n",
      " Solving:  Stress period:    49    Time step:     1    Ground-Water Flow Eqn.\n",
      " Solving:  Stress period:    50    Time step:     1    Ground-Water Flow Eqn.\n",
      " Solving:  Stress period:    51    Time step:     1    Ground-Water Flow Eqn.\n",
      " Solving:  Stress period:    52    Time step:     1    Ground-Water Flow Eqn.\n",
      " Solving:  Stress period:    53    Time step:     1    Ground-Water Flow Eqn.\n",
      " Solving:  Stress period:    54    Time step:     1    Ground-Water Flow Eqn.\n",
      " Solving:  Stress period:    55    Time step:     1    Ground-Water Flow Eqn.\n",
      " Solving:  Stress period:    56    Time step:     1    Ground-Water Flow Eqn.\n",
      " Solving:  Stress period:    57    Time step:     1    Ground-Water Flow Eqn.\n",
      " Solving:  Stress period:    58    Time step:     1    Ground-Water Flow Eqn.\n",
      " Solving:  Stress period:    59    Time step:     1    Ground-Water Flow Eqn.\n",
      " Solving:  Stress period:    60    Time step:     1    Ground-Water Flow Eqn.\n",
      " Solving:  Stress period:    61    Time step:     1    Ground-Water Flow Eqn.\n",
      " Solving:  Stress period:    62    Time step:     1    Ground-Water Flow Eqn.\n",
      " Solving:  Stress period:    63    Time step:     1    Ground-Water Flow Eqn.\n",
      " Solving:  Stress period:    64    Time step:     1    Ground-Water Flow Eqn.\n",
      " Solving:  Stress period:    65    Time step:     1    Ground-Water Flow Eqn.\n",
      " Solving:  Stress period:    66    Time step:     1    Ground-Water Flow Eqn.\n",
      " Solving:  Stress period:    67    Time step:     1    Ground-Water Flow Eqn.\n",
      " Solving:  Stress period:    68    Time step:     1    Ground-Water Flow Eqn.\n",
      " Solving:  Stress period:    69    Time step:     1    Ground-Water Flow Eqn.\n",
      " Solving:  Stress period:    70    Time step:     1    Ground-Water Flow Eqn.\n",
      " Solving:  Stress period:    71    Time step:     1    Ground-Water Flow Eqn.\n",
      " Solving:  Stress period:    72    Time step:     1    Ground-Water Flow Eqn.\n",
      " Solving:  Stress period:    73    Time step:     1    Ground-Water Flow Eqn.\n",
      " Solving:  Stress period:    74    Time step:     1    Ground-Water Flow Eqn.\n",
      " Solving:  Stress period:    75    Time step:     1    Ground-Water Flow Eqn.\n",
      " Solving:  Stress period:    76    Time step:     1    Ground-Water Flow Eqn.\n",
      " Solving:  Stress period:    77    Time step:     1    Ground-Water Flow Eqn.\n",
      " Solving:  Stress period:    78    Time step:     1    Ground-Water Flow Eqn.\n",
      " Solving:  Stress period:    79    Time step:     1    Ground-Water Flow Eqn.\n",
      " Solving:  Stress period:    80    Time step:     1    Ground-Water Flow Eqn.\n",
      " Solving:  Stress period:    81    Time step:     1    Ground-Water Flow Eqn.\n",
      " Solving:  Stress period:    82    Time step:     1    Ground-Water Flow Eqn.\n",
      " Solving:  Stress period:    83    Time step:     1    Ground-Water Flow Eqn.\n",
      " Solving:  Stress period:    84    Time step:     1    Ground-Water Flow Eqn.\n",
      " Solving:  Stress period:    85    Time step:     1    Ground-Water Flow Eqn.\n",
      " Solving:  Stress period:    86    Time step:     1    Ground-Water Flow Eqn.\n",
      " Solving:  Stress period:    87    Time step:     1    Ground-Water Flow Eqn.\n",
      " Solving:  Stress period:    88    Time step:     1    Ground-Water Flow Eqn.\n",
      " Solving:  Stress period:    89    Time step:     1    Ground-Water Flow Eqn.\n",
      " Solving:  Stress period:    90    Time step:     1    Ground-Water Flow Eqn.\n",
      " Solving:  Stress period:    91    Time step:     1    Ground-Water Flow Eqn.\n",
      " Solving:  Stress period:    92    Time step:     1    Ground-Water Flow Eqn.\n",
      " Solving:  Stress period:    93    Time step:     1    Ground-Water Flow Eqn.\n",
      " Solving:  Stress period:    94    Time step:     1    Ground-Water Flow Eqn.\n",
      " Solving:  Stress period:    95    Time step:     1    Ground-Water Flow Eqn.\n",
      " Solving:  Stress period:    96    Time step:     1    Ground-Water Flow Eqn.\n",
      " Solving:  Stress period:    97    Time step:     1    Ground-Water Flow Eqn.\n",
      " Solving:  Stress period:    98    Time step:     1    Ground-Water Flow Eqn.\n",
      " Solving:  Stress period:    99    Time step:     1    Ground-Water Flow Eqn.\n",
      " Solving:  Stress period:   100    Time step:     1    Ground-Water Flow Eqn.\n",
      " Solving:  Stress period:   101    Time step:     1    Ground-Water Flow Eqn.\n",
      " Solving:  Stress period:   102    Time step:     1    Ground-Water Flow Eqn.\n",
      " Solving:  Stress period:   103    Time step:     1    Ground-Water Flow Eqn.\n",
      " Solving:  Stress period:   104    Time step:     1    Ground-Water Flow Eqn.\n",
      " Solving:  Stress period:   105    Time step:     1    Ground-Water Flow Eqn.\n",
      " Solving:  Stress period:   106    Time step:     1    Ground-Water Flow Eqn.\n",
      " Solving:  Stress period:   107    Time step:     1    Ground-Water Flow Eqn.\n",
      " Solving:  Stress period:   108    Time step:     1    Ground-Water Flow Eqn.\n",
      " Solving:  Stress period:   109    Time step:     1    Ground-Water Flow Eqn.\n",
      " Solving:  Stress period:   110    Time step:     1    Ground-Water Flow Eqn.\n",
      " Solving:  Stress period:   111    Time step:     1    Ground-Water Flow Eqn.\n",
      " Solving:  Stress period:   112    Time step:     1    Ground-Water Flow Eqn.\n",
      " Solving:  Stress period:   113    Time step:     1    Ground-Water Flow Eqn.\n",
      " Solving:  Stress period:   114    Time step:     1    Ground-Water Flow Eqn.\n",
      " Solving:  Stress period:   115    Time step:     1    Ground-Water Flow Eqn.\n",
      " Solving:  Stress period:   116    Time step:     1    Ground-Water Flow Eqn.\n",
      " Solving:  Stress period:   117    Time step:     1    Ground-Water Flow Eqn.\n",
      " Solving:  Stress period:   118    Time step:     1    Ground-Water Flow Eqn.\n",
      " Solving:  Stress period:   119    Time step:     1    Ground-Water Flow Eqn.\n",
      " Solving:  Stress period:   120    Time step:     1    Ground-Water Flow Eqn.\n",
      " Solving:  Stress period:   121    Time step:     1    Ground-Water Flow Eqn.\n",
      " Solving:  Stress period:   122    Time step:     1    Ground-Water Flow Eqn.\n",
      " Solving:  Stress period:   123    Time step:     1    Ground-Water Flow Eqn.\n",
      " Solving:  Stress period:   124    Time step:     1    Ground-Water Flow Eqn.\n",
      " Solving:  Stress period:   125    Time step:     1    Ground-Water Flow Eqn.\n",
      " Solving:  Stress period:   126    Time step:     1    Ground-Water Flow Eqn.\n",
      " Solving:  Stress period:   127    Time step:     1    Ground-Water Flow Eqn.\n",
      " Solving:  Stress period:   128    Time step:     1    Ground-Water Flow Eqn.\n",
      " Solving:  Stress period:   129    Time step:     1    Ground-Water Flow Eqn.\n",
      " Solving:  Stress period:   130    Time step:     1    Ground-Water Flow Eqn.\n",
      " Solving:  Stress period:   131    Time step:     1    Ground-Water Flow Eqn.\n",
      " Solving:  Stress period:   132    Time step:     1    Ground-Water Flow Eqn.\n",
      " Solving:  Stress period:   133    Time step:     1    Ground-Water Flow Eqn.\n",
      " Solving:  Stress period:   134    Time step:     1    Ground-Water Flow Eqn.\n",
      " Solving:  Stress period:   135    Time step:     1    Ground-Water Flow Eqn.\n",
      " Solving:  Stress period:   136    Time step:     1    Ground-Water Flow Eqn.\n",
      " Solving:  Stress period:   137    Time step:     1    Ground-Water Flow Eqn.\n",
      " Solving:  Stress period:   138    Time step:     1    Ground-Water Flow Eqn.\n",
      " Solving:  Stress period:   139    Time step:     1    Ground-Water Flow Eqn.\n",
      " Solving:  Stress period:   140    Time step:     1    Ground-Water Flow Eqn.\n",
      " Solving:  Stress period:   141    Time step:     1    Ground-Water Flow Eqn.\n",
      " Solving:  Stress period:   142    Time step:     1    Ground-Water Flow Eqn.\n",
      " Solving:  Stress period:   143    Time step:     1    Ground-Water Flow Eqn.\n",
      " Solving:  Stress period:   144    Time step:     1    Ground-Water Flow Eqn.\n",
      " Solving:  Stress period:   145    Time step:     1    Ground-Water Flow Eqn.\n",
      " Solving:  Stress period:   146    Time step:     1    Ground-Water Flow Eqn.\n",
      " Solving:  Stress period:   147    Time step:     1    Ground-Water Flow Eqn.\n",
      " Solving:  Stress period:   148    Time step:     1    Ground-Water Flow Eqn.\n",
      " Solving:  Stress period:   149    Time step:     1    Ground-Water Flow Eqn.\n",
      " Solving:  Stress period:   150    Time step:     1    Ground-Water Flow Eqn.\n",
      " Solving:  Stress period:   151    Time step:     1    Ground-Water Flow Eqn.\n",
      " Solving:  Stress period:   152    Time step:     1    Ground-Water Flow Eqn.\n",
      " Solving:  Stress period:   153    Time step:     1    Ground-Water Flow Eqn.\n",
      " Solving:  Stress period:   154    Time step:     1    Ground-Water Flow Eqn.\n",
      " Solving:  Stress period:   155    Time step:     1    Ground-Water Flow Eqn.\n",
      " Solving:  Stress period:   156    Time step:     1    Ground-Water Flow Eqn.\n",
      " Solving:  Stress period:   157    Time step:     1    Ground-Water Flow Eqn.\n",
      " Solving:  Stress period:   158    Time step:     1    Ground-Water Flow Eqn.\n",
      " Solving:  Stress period:   159    Time step:     1    Ground-Water Flow Eqn.\n",
      " Solving:  Stress period:   160    Time step:     1    Ground-Water Flow Eqn.\n",
      " Solving:  Stress period:   161    Time step:     1    Ground-Water Flow Eqn.\n",
      " Solving:  Stress period:   162    Time step:     1    Ground-Water Flow Eqn.\n",
      " Solving:  Stress period:   163    Time step:     1    Ground-Water Flow Eqn.\n",
      " Solving:  Stress period:   164    Time step:     1    Ground-Water Flow Eqn.\n",
      " Solving:  Stress period:   165    Time step:     1    Ground-Water Flow Eqn.\n",
      " Solving:  Stress period:   166    Time step:     1    Ground-Water Flow Eqn.\n",
      " Solving:  Stress period:   167    Time step:     1    Ground-Water Flow Eqn.\n",
      " Solving:  Stress period:   168    Time step:     1    Ground-Water Flow Eqn.\n",
      " Solving:  Stress period:   169    Time step:     1    Ground-Water Flow Eqn.\n",
      " Solving:  Stress period:   170    Time step:     1    Ground-Water Flow Eqn.\n",
      " Solving:  Stress period:   171    Time step:     1    Ground-Water Flow Eqn.\n",
      " Solving:  Stress period:   172    Time step:     1    Ground-Water Flow Eqn.\n",
      " Solving:  Stress period:   173    Time step:     1    Ground-Water Flow Eqn.\n",
      " Solving:  Stress period:   174    Time step:     1    Ground-Water Flow Eqn.\n",
      " Solving:  Stress period:   175    Time step:     1    Ground-Water Flow Eqn.\n",
      " Solving:  Stress period:   176    Time step:     1    Ground-Water Flow Eqn.\n",
      " Solving:  Stress period:   177    Time step:     1    Ground-Water Flow Eqn.\n",
      " Solving:  Stress period:   178    Time step:     1    Ground-Water Flow Eqn.\n",
      " Solving:  Stress period:   179    Time step:     1    Ground-Water Flow Eqn.\n",
      " Solving:  Stress period:   180    Time step:     1    Ground-Water Flow Eqn.\n",
      " Solving:  Stress period:   181    Time step:     1    Ground-Water Flow Eqn.\n",
      " Solving:  Stress period:   182    Time step:     1    Ground-Water Flow Eqn.\n",
      " Solving:  Stress period:   183    Time step:     1    Ground-Water Flow Eqn.\n",
      " Solving:  Stress period:   184    Time step:     1    Ground-Water Flow Eqn.\n",
      " Solving:  Stress period:   185    Time step:     1    Ground-Water Flow Eqn.\n",
      " Solving:  Stress period:   186    Time step:     1    Ground-Water Flow Eqn.\n",
      " Solving:  Stress period:   187    Time step:     1    Ground-Water Flow Eqn.\n",
      " Solving:  Stress period:   188    Time step:     1    Ground-Water Flow Eqn.\n",
      " Solving:  Stress period:   189    Time step:     1    Ground-Water Flow Eqn.\n",
      " Solving:  Stress period:   190    Time step:     1    Ground-Water Flow Eqn.\n",
      " Solving:  Stress period:   191    Time step:     1    Ground-Water Flow Eqn.\n",
      " Solving:  Stress period:   192    Time step:     1    Ground-Water Flow Eqn.\n",
      " Solving:  Stress period:   193    Time step:     1    Ground-Water Flow Eqn.\n",
      " Solving:  Stress period:   194    Time step:     1    Ground-Water Flow Eqn.\n",
      " Solving:  Stress period:   195    Time step:     1    Ground-Water Flow Eqn.\n",
      " Solving:  Stress period:   196    Time step:     1    Ground-Water Flow Eqn.\n",
      " Solving:  Stress period:   197    Time step:     1    Ground-Water Flow Eqn.\n",
      " Solving:  Stress period:   198    Time step:     1    Ground-Water Flow Eqn.\n",
      " Solving:  Stress period:   199    Time step:     1    Ground-Water Flow Eqn.\n",
      " Solving:  Stress period:   200    Time step:     1    Ground-Water Flow Eqn.\n",
      " Solving:  Stress period:   201    Time step:     1    Ground-Water Flow Eqn.\n",
      " Run end date and time (yyyy/mm/dd hh:mm:ss): 2021/03/19 12:45:05\n",
      " Elapsed run time:  1.144 Seconds\n",
      "\n",
      "  Normal termination of simulation\n"
     ]
    }
   ],
   "source": [
    "success, mfoutput = m2.run_model(pause=False, report=True)\n",
    "if not success:\n",
    "    raise Exception('MODFLOW did not terminate normally.')"
   ]
  },
  {
   "cell_type": "markdown",
   "id": "extensive-internet",
   "metadata": {},
   "source": [
    "### 11. Plot the results\n",
    "#### 11.1 Read in the model outputs\n",
    "For information on binary files see: http://modflowpy.github.io/flopydoc/binaryfile.html\n",
    "\n",
    "For information on flow budget files see: http://modflowpy.github.io/flopydoc/binaryfile.html#flopy.utils.binaryfile.CellBudgetFile"
   ]
  },
  {
   "cell_type": "code",
   "execution_count": 28,
   "id": "global-cisco",
   "metadata": {},
   "outputs": [
    {
     "data": {
      "text/plain": [
       "\"'budgobj = bf.CellBudgetFile(modelname+'.cbc')\\nrec_list = budgobj.list_records() \\n\\nbudgobj2 = bf.CellBudgetFile(modelname2+'.cbc')\\nrec_list2 = budgobj2.list_records() \""
      ]
     },
     "execution_count": 28,
     "metadata": {},
     "output_type": "execute_result"
    }
   ],
   "source": [
    "''''budgobj = bf.CellBudgetFile(modelname+'.cbc')\n",
    "rec_list = budgobj.list_records() \n",
    "\n",
    "budgobj2 = bf.CellBudgetFile(modelname2+'.cbc')\n",
    "rec_list2 = budgobj2.list_records() '''"
   ]
  },
  {
   "cell_type": "code",
   "execution_count": 29,
   "id": "ethical-dominant",
   "metadata": {},
   "outputs": [
    {
     "data": {
      "text/plain": [
       "[<matplotlib.lines.Line2D at 0x2926a709760>]"
      ]
     },
     "execution_count": 29,
     "metadata": {},
     "output_type": "execute_result"
    },
    {
     "data": {
      "image/png": "[encoded data removed]",
      "text/plain": [
       "<Figure size 432x288 with 2 Axes>"
      ]
     },
     "metadata": {
      "needs_background": "light"
     },
     "output_type": "display_data"
    }
   ],
   "source": [
    "# Read the heads \n",
    "headobj = bf.HeadFile(modelname+'.hds')    #reads the binary head file\n",
    "times = headobj.get_times()                #returns a list of timesteps\n",
    "head = headobj.get_data\n",
    "\n",
    "hds_yr = bf.HeadFile(modelname2+'.hds')                   # reads the binary head file\n",
    "time_yr = hds_yr.get_times()                              # returns a list of timesteps\n",
    "head2 = hds_yr.get_data()\n",
    "\n",
    "#extract binary data from head file\n",
    "head = {} #create dictionary to store head data at end of each stress period\n",
    "frf = {} #create dictionary to store flows through right cell face at end of each stress period\n",
    "fff = {} #create dictionary to store flows through front cell face at end of each stress period\n",
    "headobj = flopy.utils.binaryfile.HeadFile(modelname+'.hds') #get head data as python object\n",
    "budgobj = flopy.utils.binaryfile.CellBudgetFile(modelname+'.cbc') #get flow data as python object\n",
    "\n",
    "\n",
    "head2 = {}\n",
    "headobjs = flopy.utils.binaryfile.HeadFile(modelname2+'.hds')\n",
    "\n",
    "#get data from python objects\n",
    "#head2 = []\n",
    "headarray=np.zeros((len(times),ncol,nrow))\n",
    "frf=np.zeros((len(times),ncol,nrow))\n",
    "fff=np.zeros((len(times),ncol,nrow))\n",
    "rowcounter=-1\n",
    "for i in times:\n",
    "    rowcounter+=1\n",
    "    temphead = headobj.get_data(totim=i) #append heads to head list for each stress per\n",
    "    headarray[rowcounter,:,:] = temphead\n",
    "    tempfrf = np.squeeze(budgobj.get_data(text='flow right face',totim=i))\n",
    "    # print(tempfrf)\n",
    "    frf[rowcounter,:,:] = tempfrf\n",
    "    tempfff = np.squeeze(budgobj.get_data(text='FLOW FRONT FACE',totim=i))\n",
    "    fff[rowcounter,:,:] = tempfff\n",
    "\n",
    "headarray2=np.zeros((len(time_yr),ncol,nrow))\n",
    "rowcounters=-1\n",
    "for i in time_yr:\n",
    "    rowcounters+=1\n",
    "    temphead2 = headobjs.get_data(totim=i) #append heads to head list for each stress per\n",
    "    headarray2[rowcounters,:,:] = temphead2\n",
    "    \n",
    "# extract and plot head time series at specific points\n",
    "time_series1 = headarray[:,domain_centerpt[1],domain_centerpt[2]]\n",
    "time_series2 = headarray[:,well_loc[1],well_loc[2]]\n",
    "\n",
    "time_series_1 = headarray2[:,domain_centerpt[1],domain_centerpt[2]]\n",
    "time_series_2 = headarray2[:,well_loc[1],well_loc[2]]\n",
    "\n",
    "\n",
    "plt.subplot(1,2,1)\n",
    "plt.title(\"Head at well\",fontweight='bold')\n",
    "plt.xlabel('time (years)',fontweight='bold')\n",
    "plt.ylabel('head (m)',fontweight='bold')\n",
    "plt.xticks([0,20,40,60,80,100], ['0', '20', '40','60','80','100'])\n",
    "plt.plot(elyears, time_series2, 'r-') #plot the time series with points at each record\n",
    "plt.rcParams[\"figure.figsize\"] = (13,4)\n",
    "plt.plot(time_series2.mean(), 'bo')\n",
    "\n",
    "plt.subplot(1, 2, 2)\n",
    "plt.title(\"Head at midpoint\",fontweight='bold')\n",
    "plt.xlabel('time (years)',fontweight='bold')\n",
    "plt.ylabel('head (m)',fontweight='bold')\n",
    "plt.xticks([0,20,40,60,80,100], ['0', '20', '40','60','80','100'])\n",
    "plt.plot(elyears, time_series1, 'r-') #plot the time series with points at each record\n",
    "plt.plot(time_series1.mean(), 'bo')\n",
    "#plt.tight_layout()"
   ]
  },
  {
   "cell_type": "code",
   "execution_count": 30,
   "id": "swedish-prize",
   "metadata": {},
   "outputs": [
    {
     "data": {
      "text/plain": [
       "[<matplotlib.lines.Line2D at 0x2926a9f6580>]"
      ]
     },
     "execution_count": 30,
     "metadata": {},
     "output_type": "execute_result"
    },
    {
     "data": {
      "image/png": "[encoded data removed]",
      "text/plain": [
       "<Figure size 936x288 with 1 Axes>"
      ]
     },
     "metadata": {
      "needs_background": "light"
     },
     "output_type": "display_data"
    }
   ],
   "source": [
    "#print(len(headarray2))\n",
    "\n",
    "\n",
    "plt.plot(time_series_2)  #,marker='o', color='mediumvioletred', markersize=4, linestyle='--')"
   ]
  },
  {
   "cell_type": "code",
   "execution_count": 31,
   "id": "honest-guide",
   "metadata": {},
   "outputs": [
    {
     "data": {
      "text/plain": [
       "\"def window(size):\\n    return np.ones(size)/float(size)\\n\\nplt.plot(elyears,time_series1,'k.')\\nplt.plot(elyears[39:60],np.convolve(time_series1[39:60],window(2),'same'),'r')\\n#plt.plot(elyears,np.convolve(times,window(100),'same'),'b')\\n#plt.xticks([40,60], ['40','60'])\""
      ]
     },
     "execution_count": 31,
     "metadata": {},
     "output_type": "execute_result"
    }
   ],
   "source": [
    "'''def window(size):\n",
    "    return np.ones(size)/float(size)\n",
    "\n",
    "plt.plot(elyears,time_series1,'k.')\n",
    "plt.plot(elyears[39:60],np.convolve(time_series1[39:60],window(2),'same'),'r')\n",
    "#plt.plot(elyears,np.convolve(times,window(100),'same'),'b')\n",
    "#plt.xticks([40,60], ['40','60'])'''"
   ]
  },
  {
   "cell_type": "code",
   "execution_count": 32,
   "id": "accomplished-nerve",
   "metadata": {},
   "outputs": [
    {
     "data": {
      "text/plain": [
       "[<matplotlib.lines.Line2D at 0x2926cb73940>]"
      ]
     },
     "execution_count": 32,
     "metadata": {},
     "output_type": "execute_result"
    },
    {
     "data": {
      "image/png": "[encoded data removed]",
      "text/plain": [
       "<Figure size 936x288 with 1 Axes>"
      ]
     },
     "metadata": {
      "needs_background": "light"
     },
     "output_type": "display_data"
    }
   ],
   "source": [
    "tstarr = []\n",
    "for i in range(201):\n",
    "    x = time_series2.mean()\n",
    "    tstarr.append(x)\n",
    "\n",
    "plt.plot(elyears, time_series2, 'ro') #plot the time series with points at each record\n",
    "plt.plot(elyears, tstarr, 'b-')"
   ]
  },
  {
   "cell_type": "code",
   "execution_count": 33,
   "id": "surgical-pharmaceutical",
   "metadata": {},
   "outputs": [
    {
     "data": {
      "text/plain": [
       "'\\'plt.title(\"Head at midpoint\",fontweight=\\'bold\\')\\nplt.xlabel(\\'time (years)\\',fontweight=\\'bold\\')\\nplt.ylabel(\\'head (m)\\',fontweight=\\'bold\\')\\nplt.xticks([0,20,40,60,80,100], [\\'0\\', \\'20\\', \\'40\\',\\'60\\',\\'80\\',\\'100\\'])\\nplt.plot(elyears, time_series1, \\'r-\\')\\nplt.plot(elyears, x1)'"
      ]
     },
     "execution_count": 33,
     "metadata": {},
     "output_type": "execute_result"
    }
   ],
   "source": [
    "# find the average at midpoint\n",
    "testavg = []\n",
    "x=[]\n",
    "for i in range(200):\n",
    "    x = ((time_series1[i+1]-time_series1[i])/2)+38.528\n",
    "    testavg.append(x)\n",
    "#print(testavg)\n",
    "\n",
    "x1 = np.append(40,testavg)\n",
    "\n",
    "''''plt.title(\"Head at midpoint\",fontweight='bold')\n",
    "plt.xlabel('time (years)',fontweight='bold')\n",
    "plt.ylabel('head (m)',fontweight='bold')\n",
    "plt.xticks([0,20,40,60,80,100], ['0', '20', '40','60','80','100'])\n",
    "plt.plot(elyears, time_series1, 'r-')\n",
    "plt.plot(elyears, x1)'''"
   ]
  },
  {
   "cell_type": "code",
   "execution_count": 34,
   "id": "knowing-destruction",
   "metadata": {},
   "outputs": [
    {
     "name": "stdout",
     "output_type": "stream",
     "text": [
      "[40.85213979 40.46162033 40.26887639 40.0832456  39.99766668 39.87417857\n",
      " 39.82941437 39.73555628 39.71344884 39.6378212  39.63059362 39.56744258\n",
      " 39.57066091 39.51639938 39.52711995 39.47927984 39.49544398 39.45226669\n",
      " 39.47238413 39.43260066 39.4555982  39.41828283 39.44337463 39.40785726\n",
      " 39.43447622 39.40026855 39.42799632 39.39473979 39.42328008 39.39071655\n",
      " 39.41984431 39.38778814 39.41734187 39.38565445 39.41552226 39.38410187\n",
      " 39.41419601 39.38297145 39.41323217 39.38214874 39.41252899 39.38154856\n",
      " 39.41201782 39.38111369 39.41164398 39.38079453 39.41137314 39.3805631\n",
      " 39.41117605 39.38039525 39.41103236 39.38027191 39.41092809 39.3801829\n",
      " 39.4108518  39.38011805 39.41079458 39.380071   39.41075516 39.38003667\n",
      " 39.41072591 39.38001124 39.41070429 39.37999344 39.41068904 39.37997945\n",
      " 39.41067759]\n"
     ]
    }
   ],
   "source": [
    "tst=[]\n",
    "for i in range(200):\n",
    "    result = np.mean(time_series1.reshape(-1, 3), axis=1)\n",
    "    #tst.append(result)\n",
    "    \n",
    "print(result)"
   ]
  },
  {
   "cell_type": "code",
   "execution_count": 35,
   "id": "athletic-chorus",
   "metadata": {},
   "outputs": [
    {
     "name": "stdout",
     "output_type": "stream",
     "text": [
      "Head Gradient 0.04 m/m\n",
      "Head Gradient 0.039344802856445316 m/m\n",
      "Head Gradient 0.03868525695800781 m/m\n",
      "Head Gradient 0.038021278381347653 m/m\n",
      "Head Gradient 0.03735276794433594 m/m\n",
      "Head Gradient 0.03667962646484375 m/m\n",
      "Head Gradient 0.03600177764892578 m/m\n",
      "Head Gradient 0.03531909942626953 m/m\n",
      "Head Gradient 0.03463150024414063 m/m\n",
      "Head Gradient 0.0339388656616211 m/m\n",
      "Head Gradient 0.0332410888671875 m/m\n",
      "Head Gradient 0.032538047790527345 m/m\n",
      "Head Gradient 0.031829627990722656 m/m\n",
      "Head Gradient 0.031115692138671876 m/m\n",
      "Head Gradient 0.030396125793457032 m/m\n",
      "Head Gradient 0.02967078399658203 m/m\n",
      "Head Gradient 0.02893952178955078 m/m\n",
      "Head Gradient 0.028202194213867188 m/m\n",
      "Head Gradient 0.027458656311035157 m/m\n",
      "Head Gradient 0.026708740234375 m/m\n",
      "Head Gradient 0.025952285766601562 m/m\n",
      "Head Gradient 0.025189109802246094 m/m\n",
      "Head Gradient 0.024419036865234375 m/m\n",
      "Head Gradient 0.023641868591308592 m/m\n",
      "Head Gradient 0.02285741424560547 m/m\n",
      "Head Gradient 0.022065460205078127 m/m\n",
      "Head Gradient 0.021265785217285157 m/m\n",
      "Head Gradient 0.020458160400390626 m/m\n",
      "Head Gradient 0.01964234924316406 m/m\n",
      "Head Gradient 0.018818092346191407 m/m\n",
      "Head Gradient 0.017985130310058595 m/m\n",
      "Head Gradient 0.017143165588378906 m/m\n",
      "Head Gradient 0.016291908264160156 m/m\n",
      "Head Gradient 0.015431045532226562 m/m\n",
      "Head Gradient 0.01456024169921875 m/m\n",
      "Head Gradient 0.013679145812988281 m/m\n",
      "Head Gradient 0.012787384033203125 m/m\n",
      "Head Gradient 0.011884559631347656 m/m\n",
      "Head Gradient 0.010970252990722656 m/m\n",
      "Head Gradient 0.01004400634765625 m/m\n",
      "Head Gradient 0.009105339050292968 m/m\n",
      "Head Gradient 0.00815374755859375 m/m\n",
      "Head Gradient 0.007188674926757813 m/m\n",
      "Head Gradient 0.006209541320800782 m/m\n",
      "Head Gradient 0.0052156982421875 m/m\n",
      "Head Gradient 0.004206474304199219 m/m\n",
      "Head Gradient 0.003181121826171875 m/m\n",
      "Head Gradient 0.0021388511657714844 m/m\n",
      "Head Gradient 0.0010787925720214843 m/m\n",
      "Head Gradient 0.0 m/m\n"
     ]
    }
   ],
   "source": [
    "for i in range(nrow):\n",
    "    hgrad =(headarray[0,25,i]-headarray[0,25,-1])/Lx\n",
    "    print(\"Head Gradient\", hgrad, \"m/m\")\n",
    "    \n"
   ]
  },
  {
   "cell_type": "markdown",
   "id": "latin-activity",
   "metadata": {},
   "source": [
    "### Plot head distributions after initial steady state, after final off pumping period, and at end of simulation"
   ]
  },
  {
   "cell_type": "code",
   "execution_count": 36,
   "id": "interpreted-folder",
   "metadata": {},
   "outputs": [],
   "source": [
    "## Plot head cross section through well after initial steady state, after final off pumping period, and at end of simulation"
   ]
  },
  {
   "cell_type": "code",
   "execution_count": 37,
   "id": "prescription-lebanon",
   "metadata": {},
   "outputs": [
    {
     "data": {
      "text/plain": [
       "<matplotlib.legend.Legend at 0x2926ca57040>"
      ]
     },
     "execution_count": 37,
     "metadata": {},
     "output_type": "execute_result"
    },
    {
     "data": {
      "image/png": "[encoded data removed]",
      "text/plain": [
       "<Figure size 936x288 with 1 Axes>"
      ]
     },
     "metadata": {
      "needs_background": "light"
     },
     "output_type": "display_data"
    }
   ],
   "source": [
    "\n",
    "#plot head distribution at years 0, half of sim time, end of sim time\n",
    "plt.plot(np.arange(nrow),headarray[0,20,:],'r',label='steady state')\n",
    "plt.plot(np.arange(nrow),headarray[-2,20,:],'b',label='final off')\n",
    "plt.plot(np.arange(nrow),headarray[-1,20,:],'g',label='final time')\n",
    "plt.xlabel('Column number')\n",
    "plt.ylabel('Head (m)')\n",
    "plt.title(\"Head Across Transect\",fontweight='bold')\n",
    "plt.legend()"
   ]
  },
  {
   "cell_type": "code",
   "execution_count": 38,
   "id": "effective-personality",
   "metadata": {},
   "outputs": [
    {
     "data": {
      "text/plain": [
       "<matplotlib.legend.Legend at 0x2926caa8100>"
      ]
     },
     "execution_count": 38,
     "metadata": {},
     "output_type": "execute_result"
    },
    {
     "data": {
      "image/png": "[encoded data removed]",
      "text/plain": [
       "<Figure size 936x288 with 1 Axes>"
      ]
     },
     "metadata": {
      "needs_background": "light"
     },
     "output_type": "display_data"
    }
   ],
   "source": [
    "plt.plot(np.arange(nrow),headarray[0,25,:],'r',label='steady state')\n",
    "plt.plot(np.arange(nrow),headarray[-2,25,:],'b',label='final off')\n",
    "plt.plot(np.arange(nrow),headarray[-1,25,:],'g',label='final time')\n",
    "plt.xlabel('Column number')\n",
    "plt.ylabel('Head (m)')\n",
    "plt.title(\"Head Across Center Transect\",fontweight='bold')\n",
    "plt.legend()"
   ]
  },
  {
   "cell_type": "code",
   "execution_count": 39,
   "id": "saving-guest",
   "metadata": {},
   "outputs": [
    {
     "data": {
      "text/plain": [
       "\"#plot head distribution at years 0, half of sim time, end of sim time\\nfig1 = plt.figure(figsize=(10,10)) #create 10 x 10 figure\\nmodelmap = flopy.plot.PlotMapView(model=m, layer=0) #use modelmap to attach plot to model\\n# grid = modelmap.plot_grid() #plot model grid\\nqm = modelmap.plot_ibound()  \\ncontour_levels = np.linspace(headarray[0].min(),headarray[0].max(),11) #set contour levels for contouring head\\nhead_contours = modelmap.contour_array(headarray[0,:,:], levels=contour_levels) #create head contours   \\ntempfrf3 = frf[0,:,:].reshape(1,ncol,nrow)\\ntempfff3 = fff[0,:,:].reshape(1,ncol,nrow)\\ntemphead3 = headarray[0,:,:].reshape(1,ncol,nrow)\\nflows = modelmap.plot_discharge(tempfrf3, tempfff3, head=temphead3) #create discharge arrows\\nplt.xlabel('Lx (m)',fontsize = 14)\\nplt.ylabel('Ly (m)',fontsize = 14)\\nplt.yticks([1, 100, 200, 300, 400,500], ['500', '400', '300','200','100','0'])\\nplt.title('Head (m) at initial steady state', fontsize = 15, fontweight = 'bold')\\nplt.colorbar(head_contours,aspect=5)\\n\\nfig2 = plt.figure(figsize=(10,10)) #create 10 x 10 figure\\nmodelmap = flopy.plot.PlotMapView(model=m, layer=0) #use modelmap to attach plot to model\\n# grid = modelmap.plot_grid() #plot model grid\\nqm = modelmap.plot_ibound()  \\ncontour_levels = np.linspace(headarray[0].min(),headarray[0].max(),11) #set contour levels for contouring head\\nhead_contours = modelmap.contour_array(headarray[-1,:,:], levels=contour_levels) #create head contours   \\ntempfrf1 = frf[-1,:,:].reshape(1,ncol,nrow)\\ntempfff1 = fff[-1,:,:].reshape(1,ncol,nrow)\\ntemphead1 = headarray[-1,:,:].reshape(1,ncol,nrow)\\nflows = modelmap.plot_discharge(tempfrf1, tempfff1, head=temphead1) #create discharge arrows\\nplt.xlabel('Lx (m)',fontsize = 14)\\nplt.ylabel('Ly (m)',fontsize = 14)\\nplt.yticks([1, 100, 200, 300, 400,500], ['500', '400', '300','200','100','0'])\\nplt.title('Head (m) at end of simulation', fontsize = 15, fontweight = 'bold')\\nplt.colorbar(head_contours,aspect=5)\\n\\nfig3 = plt.figure(figsize=(10,10)) #create 10 x 10 figure\\nmodelmap = flopy.plot.PlotMapView(model=m, layer=0) #use modelmap to attach plot to model\\n# grid = modelmap.plot_grid() #plot model grid\\nqm = modelmap.plot_ibound()  \\ncontour_levels = np.linspace(headarray[0].min(),headarray[0].max(),11) #set contour levels for contouring head\\nhead_contours = modelmap.contour_array(headarray[2,:,:], levels=contour_levels) #create head contours   \\ntempfrf2 = frf[2,:,:].reshape(1,ncol,nrow)\\ntempfff2 = fff[2,:,:].reshape(1,ncol,nrow)\\ntemphead2 = headarray[2,:,:].reshape(1,ncol,nrow)\\nflows = modelmap.plot_discharge(tempfrf2, tempfff2, head=temphead2) #create discharge arrows\\nplt.xlabel('Lx (m)',fontsize = 14)\\nplt.ylabel('Ly (m)',fontsize = 14)\\nplt.yticks([1, 100, 200, 300, 400,500], ['500', '400', '300','200','100','0'])\\nplt.title('Head (m) at end of 23 years', fontsize = 15, fontweight = 'bold')\\nplt.colorbar(head_contours,aspect=5)\""
      ]
     },
     "execution_count": 39,
     "metadata": {},
     "output_type": "execute_result"
    }
   ],
   "source": [
    "'''#plot head distribution at years 0, half of sim time, end of sim time\n",
    "fig1 = plt.figure(figsize=(10,10)) #create 10 x 10 figure\n",
    "modelmap = flopy.plot.PlotMapView(model=m, layer=0) #use modelmap to attach plot to model\n",
    "# grid = modelmap.plot_grid() #plot model grid\n",
    "qm = modelmap.plot_ibound()  \n",
    "contour_levels = np.linspace(headarray[0].min(),headarray[0].max(),11) #set contour levels for contouring head\n",
    "head_contours = modelmap.contour_array(headarray[0,:,:], levels=contour_levels) #create head contours   \n",
    "tempfrf3 = frf[0,:,:].reshape(1,ncol,nrow)\n",
    "tempfff3 = fff[0,:,:].reshape(1,ncol,nrow)\n",
    "temphead3 = headarray[0,:,:].reshape(1,ncol,nrow)\n",
    "flows = modelmap.plot_discharge(tempfrf3, tempfff3, head=temphead3) #create discharge arrows\n",
    "plt.xlabel('Lx (m)',fontsize = 14)\n",
    "plt.ylabel('Ly (m)',fontsize = 14)\n",
    "plt.yticks([1, 100, 200, 300, 400,500], ['500', '400', '300','200','100','0'])\n",
    "plt.title('Head (m) at initial steady state', fontsize = 15, fontweight = 'bold')\n",
    "plt.colorbar(head_contours,aspect=5)\n",
    "\n",
    "fig2 = plt.figure(figsize=(10,10)) #create 10 x 10 figure\n",
    "modelmap = flopy.plot.PlotMapView(model=m, layer=0) #use modelmap to attach plot to model\n",
    "# grid = modelmap.plot_grid() #plot model grid\n",
    "qm = modelmap.plot_ibound()  \n",
    "contour_levels = np.linspace(headarray[0].min(),headarray[0].max(),11) #set contour levels for contouring head\n",
    "head_contours = modelmap.contour_array(headarray[-1,:,:], levels=contour_levels) #create head contours   \n",
    "tempfrf1 = frf[-1,:,:].reshape(1,ncol,nrow)\n",
    "tempfff1 = fff[-1,:,:].reshape(1,ncol,nrow)\n",
    "temphead1 = headarray[-1,:,:].reshape(1,ncol,nrow)\n",
    "flows = modelmap.plot_discharge(tempfrf1, tempfff1, head=temphead1) #create discharge arrows\n",
    "plt.xlabel('Lx (m)',fontsize = 14)\n",
    "plt.ylabel('Ly (m)',fontsize = 14)\n",
    "plt.yticks([1, 100, 200, 300, 400,500], ['500', '400', '300','200','100','0'])\n",
    "plt.title('Head (m) at end of simulation', fontsize = 15, fontweight = 'bold')\n",
    "plt.colorbar(head_contours,aspect=5)\n",
    "\n",
    "fig3 = plt.figure(figsize=(10,10)) #create 10 x 10 figure\n",
    "modelmap = flopy.plot.PlotMapView(model=m, layer=0) #use modelmap to attach plot to model\n",
    "# grid = modelmap.plot_grid() #plot model grid\n",
    "qm = modelmap.plot_ibound()  \n",
    "contour_levels = np.linspace(headarray[0].min(),headarray[0].max(),11) #set contour levels for contouring head\n",
    "head_contours = modelmap.contour_array(headarray[2,:,:], levels=contour_levels) #create head contours   \n",
    "tempfrf2 = frf[2,:,:].reshape(1,ncol,nrow)\n",
    "tempfff2 = fff[2,:,:].reshape(1,ncol,nrow)\n",
    "temphead2 = headarray[2,:,:].reshape(1,ncol,nrow)\n",
    "flows = modelmap.plot_discharge(tempfrf2, tempfff2, head=temphead2) #create discharge arrows\n",
    "plt.xlabel('Lx (m)',fontsize = 14)\n",
    "plt.ylabel('Ly (m)',fontsize = 14)\n",
    "plt.yticks([1, 100, 200, 300, 400,500], ['500', '400', '300','200','100','0'])\n",
    "plt.title('Head (m) at end of 23 years', fontsize = 15, fontweight = 'bold')\n",
    "plt.colorbar(head_contours,aspect=5)'''"
   ]
  },
  {
   "cell_type": "markdown",
   "id": "acquired-company",
   "metadata": {},
   "source": [
    "### Plot drawdown"
   ]
  },
  {
   "cell_type": "code",
   "execution_count": 40,
   "id": "flush-switch",
   "metadata": {},
   "outputs": [
    {
     "data": {
      "text/plain": [
       "\"#plot change in head distribution between steady state and final time\\nfig1 = plt.figure(figsize=(10,10)) #create 10 x 10 figure\\nmodelmap = flopy.plot.PlotMapView(model=m, layer=0) #use modelmap to attach plot to model\\n# grid = modelmap.plot_grid() #plot model grid\\nqm = modelmap.plot_ibound()  \\ncontour_min = np.min(headarray[0,:,:]-headarray[-1,:,:])\\ncontour_max = np.max(headarray[0,:,:]-headarray[-1,:,:])\\ncontour_levels = np.linspace(contour_min,contour_max,21) #set contour levels for contouring head\\nhead_contours = modelmap.contour_array(headarray[0,:,:]-headarray[-1,:,:], levels=contour_levels) #create head contours   \\nplt.xlabel('Lx (m)',fontsize = 14)\\nplt.ylabel('Ly (m)',fontsize = 14)\\nplt.yticks([1, 100, 200, 300, 400,500], ['500', '400', '300','200','100','0'])\\n#plt.gca().invert_yaxis()\\nplt.title('Drawdown (m) from steady state to final time', fontsize = 15, fontweight = 'bold')\\nplt.colorbar(head_contours,aspect=5)\\n\\n#plot change in head distribution between steady state and final time\\nfig1 = plt.figure(figsize=(10,10)) #create 10 x 10 figure\\nmodelmap = flopy.plot.PlotMapView(model=m, layer=0) #use modelmap to attach plot to model\\n# grid = modelmap.plot_grid() #plot model grid\\nqm = modelmap.plot_ibound()  \\ncontour_min = np.min(headarray[-2,:,:]-headarray[-1,:,:])\\ncontour_max = np.max(headarray[-2,:,:]-headarray[-1,:,:])\\ncontour_levels = np.linspace(contour_min,contour_max,21) #set contour levels for contouring head\\nhead_contours = modelmap.contour_array(headarray[-2,:,:]-headarray[-1,:,:], levels=contour_levels) #create head contours   \\nplt.xlabel('Lx (m)',fontsize = 14)\\nplt.ylabel('Ly (m)',fontsize = 14)\\nplt.yticks([1, 100, 200, 300, 400,500], ['500', '400', '300','200','100','0'])\\n#plt.gca().invert_yaxis()\\nplt.title('Drawdown (m) from final off to final time', fontsize = 15, fontweight = 'bold')\\nplt.colorbar(head_contours,aspect=5)\""
      ]
     },
     "execution_count": 40,
     "metadata": {},
     "output_type": "execute_result"
    }
   ],
   "source": [
    "'''#plot change in head distribution between steady state and final time\n",
    "fig1 = plt.figure(figsize=(10,10)) #create 10 x 10 figure\n",
    "modelmap = flopy.plot.PlotMapView(model=m, layer=0) #use modelmap to attach plot to model\n",
    "# grid = modelmap.plot_grid() #plot model grid\n",
    "qm = modelmap.plot_ibound()  \n",
    "contour_min = np.min(headarray[0,:,:]-headarray[-1,:,:])\n",
    "contour_max = np.max(headarray[0,:,:]-headarray[-1,:,:])\n",
    "contour_levels = np.linspace(contour_min,contour_max,21) #set contour levels for contouring head\n",
    "head_contours = modelmap.contour_array(headarray[0,:,:]-headarray[-1,:,:], levels=contour_levels) #create head contours   \n",
    "plt.xlabel('Lx (m)',fontsize = 14)\n",
    "plt.ylabel('Ly (m)',fontsize = 14)\n",
    "plt.yticks([1, 100, 200, 300, 400,500], ['500', '400', '300','200','100','0'])\n",
    "#plt.gca().invert_yaxis()\n",
    "plt.title('Drawdown (m) from steady state to final time', fontsize = 15, fontweight = 'bold')\n",
    "plt.colorbar(head_contours,aspect=5)\n",
    "\n",
    "#plot change in head distribution between steady state and final time\n",
    "fig1 = plt.figure(figsize=(10,10)) #create 10 x 10 figure\n",
    "modelmap = flopy.plot.PlotMapView(model=m, layer=0) #use modelmap to attach plot to model\n",
    "# grid = modelmap.plot_grid() #plot model grid\n",
    "qm = modelmap.plot_ibound()  \n",
    "contour_min = np.min(headarray[-2,:,:]-headarray[-1,:,:])\n",
    "contour_max = np.max(headarray[-2,:,:]-headarray[-1,:,:])\n",
    "contour_levels = np.linspace(contour_min,contour_max,21) #set contour levels for contouring head\n",
    "head_contours = modelmap.contour_array(headarray[-2,:,:]-headarray[-1,:,:], levels=contour_levels) #create head contours   \n",
    "plt.xlabel('Lx (m)',fontsize = 14)\n",
    "plt.ylabel('Ly (m)',fontsize = 14)\n",
    "plt.yticks([1, 100, 200, 300, 400,500], ['500', '400', '300','200','100','0'])\n",
    "#plt.gca().invert_yaxis()\n",
    "plt.title('Drawdown (m) from final off to final time', fontsize = 15, fontweight = 'bold')\n",
    "plt.colorbar(head_contours,aspect=5)'''"
   ]
  },
  {
   "cell_type": "code",
   "execution_count": 53,
   "id": "adjustable-hypothetical",
   "metadata": {},
   "outputs": [
    {
     "name": "stdout",
     "output_type": "stream",
     "text": [
      "<flopy.modpath.mp7particledata.CellDataType object at 0x000002926A62D160>\n"
     ]
    }
   ],
   "source": [
    "cd = flopy.modpath.CellDataType()\n",
    "print(cd)\n"
   ]
  },
  {
   "cell_type": "code",
   "execution_count": 54,
   "id": "transparent-component",
   "metadata": {},
   "outputs": [],
   "source": [
    "fd = flopy.modpath.FaceDataType()"
   ]
  },
  {
   "cell_type": "code",
   "execution_count": 55,
   "id": "peripheral-holmes",
   "metadata": {},
   "outputs": [
    {
     "ename": "TypeError",
     "evalue": "LRCParticleData: lrcregions should be a list of lists, tuples, or arrays not a <class 'numpy.ndarray'>.",
     "output_type": "error",
     "traceback": [
      "\u001b[1;31m---------------------------------------------------------------------------\u001b[0m",
      "\u001b[1;31mTypeError\u001b[0m                                 Traceback (most recent call last)",
      "\u001b[1;32m<ipython-input-55-337bc2d09751>\u001b[0m in \u001b[0;36m<module>\u001b[1;34m\u001b[0m\n\u001b[1;32m----> 1\u001b[1;33m \u001b[0mpg\u001b[0m \u001b[1;33m=\u001b[0m \u001b[0mflopy\u001b[0m\u001b[1;33m.\u001b[0m\u001b[0mmodpath\u001b[0m\u001b[1;33m.\u001b[0m\u001b[0mLRCParticleData\u001b[0m\u001b[1;33m(\u001b[0m\u001b[0mlrcregions\u001b[0m\u001b[1;33m=\u001b[0m\u001b[0mtime_series1\u001b[0m\u001b[1;33m)\u001b[0m\u001b[1;33m\u001b[0m\u001b[1;33m\u001b[0m\u001b[0m\n\u001b[0m",
      "\u001b[1;32m~\\miniconda3\\lib\\site-packages\\flopy\\modpath\\mp7particledata.py\u001b[0m in \u001b[0;36m__init__\u001b[1;34m(self, subdivisiondata, lrcregions)\u001b[0m\n\u001b[0;32m    764\u001b[0m                 \u001b[1;33m+\u001b[0m \u001b[1;34m\"not a {}.\"\u001b[0m\u001b[1;33m.\u001b[0m\u001b[0mformat\u001b[0m\u001b[1;33m(\u001b[0m\u001b[0mtype\u001b[0m\u001b[1;33m(\u001b[0m\u001b[0mlrcregions\u001b[0m\u001b[1;33m)\u001b[0m\u001b[1;33m)\u001b[0m\u001b[1;33m\u001b[0m\u001b[1;33m\u001b[0m\u001b[0m\n\u001b[0;32m    765\u001b[0m             )\n\u001b[1;32m--> 766\u001b[1;33m             \u001b[1;32mraise\u001b[0m \u001b[0mTypeError\u001b[0m\u001b[1;33m(\u001b[0m\u001b[0mmsg\u001b[0m\u001b[1;33m)\u001b[0m\u001b[1;33m\u001b[0m\u001b[1;33m\u001b[0m\u001b[0m\n\u001b[0m\u001b[0;32m    767\u001b[0m \u001b[1;33m\u001b[0m\u001b[0m\n\u001b[0;32m    768\u001b[0m         \u001b[1;31m# validate size of nodes relative to subdivisiondata\u001b[0m\u001b[1;33m\u001b[0m\u001b[1;33m\u001b[0m\u001b[1;33m\u001b[0m\u001b[0m\n",
      "\u001b[1;31mTypeError\u001b[0m: LRCParticleData: lrcregions should be a list of lists, tuples, or arrays not a <class 'numpy.ndarray'>."
     ]
    }
   ],
   "source": [
    "pg = flopy.modpath.LRCParticleData(lrcregions=time_series1)"
   ]
  },
  {
   "cell_type": "code",
   "execution_count": 56,
   "id": "proprietary-wales",
   "metadata": {},
   "outputs": [],
   "source": [
    "pg = flopy.modpath.NodeParticleData(nodes=[100, 101])\n"
   ]
  },
  {
   "cell_type": "code",
   "execution_count": 57,
   "id": "lasting-capacity",
   "metadata": {},
   "outputs": [],
   "source": [
    "#m = flopy.modflow.Modflow.load('C:\\Users\\Quilson2\\OneDrive\\Documents\\SPRING21\\582-GWMod\\Course_Materials\\Assignments\\mf2005')\n",
    "mp = flopy.modpath.Modpath7('mf2005_mp', flowmodel=m)\n",
    "mpsim = flopy.modpath.Modpath7Sim(mp)"
   ]
  },
  {
   "cell_type": "code",
   "execution_count": null,
   "id": "destroyed-affiliate",
   "metadata": {},
   "outputs": [],
   "source": []
  },
  {
   "cell_type": "code",
   "execution_count": null,
   "id": "everyday-vessel",
   "metadata": {},
   "outputs": [],
   "source": []
  }
 ],
 "metadata": {
  "kernelspec": {
   "display_name": "Python 3",
   "language": "python",
   "name": "python3"
  },
  "language_info": {
   "codemirror_mode": {
    "name": "ipython",
    "version": 3
   },
   "file_extension": ".py",
   "mimetype": "text/x-python",
   "name": "python",
   "nbconvert_exporter": "python",
   "pygments_lexer": "ipython3",
   "version": "3.8.5"
  }
 },
 "nbformat": 4,
 "nbformat_minor": 5
}
