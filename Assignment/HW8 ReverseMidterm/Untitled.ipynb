{
 "cells": [
  {
   "cell_type": "markdown",
   "id": "double-nirvana",
   "metadata": {},
   "source": [
    "# MODPATH example"
   ]
  },
  {
   "cell_type": "code",
   "execution_count": 1,
   "id": "understood-discussion",
   "metadata": {},
   "outputs": [
    {
     "name": "stdout",
     "output_type": "stream",
     "text": [
      "3.8.5 (default, Sep  3 2020, 21:29:08) [MSC v.1916 64 bit (AMD64)]\n",
      "numpy version: 1.19.2\n",
      "matplotlib version: 3.3.4\n",
      "pandas version: 1.2.3\n",
      "flopy version: 3.3.3\n"
     ]
    }
   ],
   "source": [
    "import sys\n",
    "import shutil\n",
    "import os\n",
    "import glob\n",
    "import numpy as np\n",
    "import pandas as pd\n",
    "import matplotlib as mpl\n",
    "import matplotlib.pyplot as plt\n",
    "\n",
    "# run installed version of flopy or add local path\n",
    "try:\n",
    "    import flopy\n",
    "except:\n",
    "    fpth = os.path.abspath(os.path.join('..', '..'))\n",
    "    sys.path.append(fpth)\n",
    "    import flopy\n",
    "\n",
    "print(sys.version)\n",
    "print('numpy version: {}'.format(np.__version__))\n",
    "print('matplotlib version: {}'.format(mpl.__version__))\n",
    "print('pandas version: {}'.format(pd.__version__))\n",
    "print('flopy version: {}'.format(flopy.__version__))\n",
    "\n",
    "if not os.path.exists(\"data\"):\n",
    "    os.mkdir(\"data\")"
   ]
  },
  {
   "cell_type": "code",
   "execution_count": 3,
   "id": "innovative-shipping",
   "metadata": {},
   "outputs": [],
   "source": [
    "moddirmp=r\"C:\\Users\\Quilson2\\OneDrive\\Desktop\\modpath_7_2_001\\modpath_7_2_001\\bin\\mpath7\""
   ]
  },
  {
   "cell_type": "code",
   "execution_count": null,
   "id": "interstate-blocking",
   "metadata": {},
   "outputs": [],
   "source": [
    "model_ws = r'C:\\Users\\Quilson2\\OneDrive\\Documents\\SPRING21\\582-GWMod\\hws-PortilloD\\Assignment\\HW8 ReverseMidterm'\n",
    "m = flopy.modflow.Modflow.load('TestHW8.nam', model_ws=model_ws)\n",
    "m.get_package_list()"
   ]
  },
  {
   "cell_type": "code",
   "execution_count": null,
   "id": "abroad-lending",
   "metadata": {},
   "outputs": [],
   "source": []
  },
  {
   "cell_type": "code",
   "execution_count": null,
   "id": "pacific-tomorrow",
   "metadata": {},
   "outputs": [],
   "source": []
  },
  {
   "cell_type": "code",
   "execution_count": null,
   "id": "skilled-scheme",
   "metadata": {},
   "outputs": [],
   "source": []
  },
  {
   "cell_type": "code",
   "execution_count": null,
   "id": "ethical-truth",
   "metadata": {},
   "outputs": [],
   "source": []
  },
  {
   "cell_type": "code",
   "execution_count": null,
   "id": "talented-republican",
   "metadata": {},
   "outputs": [],
   "source": []
  },
  {
   "cell_type": "code",
   "execution_count": null,
   "id": "sonic-domestic",
   "metadata": {},
   "outputs": [],
   "source": [
    "mffiles = glob.glob(os.path.join('..', 'data', 'mp6', 'TestHW8'))\n",
    "for f in mffiles:\n",
    "    print(f)\n",
    "    shutil.copy(f, os.path.join('data', os.path.split(f)[-1]))"
   ]
  },
  {
   "cell_type": "code",
   "execution_count": null,
   "id": "satisfied-lexington",
   "metadata": {},
   "outputs": [],
   "source": [
    "\n",
    "model_ws = r'C:\\Users\\Quilson2\\OneDrive\\Documents\\SPRING21\\582-GWMod\\hws-PortilloD\\Assignment\\HW8 ReverseMidterm'\n",
    "m = flopy.modflow.Modflow.load('TestHW8.nam', model_ws=model_ws)\n",
    "m.get_package_list()"
   ]
  },
  {
   "cell_type": "code",
   "execution_count": null,
   "id": "choice-workstation",
   "metadata": {},
   "outputs": [],
   "source": [
    "\n",
    "nrow, ncol, nlay, nper = m.nrow_ncol_nlay_nper\n",
    "nrow, ncol, nlay, nper"
   ]
  },
  {
   "cell_type": "code",
   "execution_count": null,
   "id": "diagnostic-logan",
   "metadata": {},
   "outputs": [],
   "source": [
    "\n",
    "m.dis.steady.array"
   ]
  },
  {
   "cell_type": "code",
   "execution_count": null,
   "id": "artificial-china",
   "metadata": {},
   "outputs": [],
   "source": [
    "m.write_input()"
   ]
  },
  {
   "cell_type": "code",
   "execution_count": null,
   "id": "ongoing-doctrine",
   "metadata": {},
   "outputs": [],
   "source": [
    "hdsfile = flopy.utils.HeadFile(os.path.join(model_ws,'TestHW8.HDS'))\n",
    "hdsfile.get_kstpkper()"
   ]
  },
  {
   "cell_type": "code",
   "execution_count": null,
   "id": "shared-synthetic",
   "metadata": {},
   "outputs": [],
   "source": [
    "hds = hdsfile.get_data(kstpkper=(0, 200))"
   ]
  },
  {
   "cell_type": "code",
   "execution_count": null,
   "id": "peaceful-effort",
   "metadata": {},
   "outputs": [],
   "source": [
    "plt.imshow(hds[0, :, :])\n",
    "plt.colorbar();"
   ]
  },
  {
   "cell_type": "code",
   "execution_count": null,
   "id": "assigned-blowing",
   "metadata": {},
   "outputs": [],
   "source": [
    "fig = plt.figure(figsize=(8, 8))\n",
    "ax = fig.add_subplot(1, 1, 1, aspect='equal')\n",
    "mapview = flopy.plot.PlotMapView(model=m, layer=1)\n",
    "quadmesh = mapview.plot_ibound()\n",
    "linecollection = mapview.plot_grid()\n",
    "#riv = mapview.plot_bc('RIV', color='g', plotAll=True)\n",
    "quadmesh = mapview.plot_bc('WEL', kper=1, plotAll=True)\n",
    "contour_set = mapview.contour_array(hds, \n",
    "                                    levels=np.arange(np.min(hds),np.max(hds),2.0), colors='b')\n",
    "plt.clabel(contour_set, inline=1, fontsize=14);"
   ]
  },
  {
   "cell_type": "code",
   "execution_count": null,
   "id": "upset-allowance",
   "metadata": {},
   "outputs": [],
   "source": [
    "mp = flopy.modpath.Modpath6(modelname='Testparticles',\n",
    "                            exe_name='mp6',\n",
    "                            modflowmodel=m,\n",
    "                            model_ws=r'C:\\Users\\Quilson2\\OneDrive\\Documents\\SPRING21\\582-GWMod\\hws-PortilloD\\Assignment\\HW8 ReverseMidterm',\n",
    "                            dis_file=m.name+'.dis',\n",
    "                            head_file=m.name+'.hds',\n",
    "                            budget_file=m.name+'.bas')\n",
    "\n",
    "mpb = flopy.modpath.Modpath6Bas(mp, hdry=m.lpf.hdry, laytyp=m.lpf.laytyp)\n",
    "\n",
    "# start the particles at begining of per 10, step 1, as in example 3 in MODPATH6 manual\n",
    "# (otherwise particles will all go to river)\n",
    "sim = mp.create_mpsim(trackdir='forward', simtype='pathline', packages='RCH', start_time=(0, 0, 1.))\n",
    "mp.write_input()\n",
    "\n",
    "mp.run_model(silent=False)"
   ]
  },
  {
   "cell_type": "code",
   "execution_count": null,
   "id": "visible-samoa",
   "metadata": {},
   "outputs": [],
   "source": [
    "fpth = os.path.join(r'C:\\Users\\Quilson2\\OneDrive\\Documents\\SPRING21\\582-GWMod\\hws-PortilloD\\Assignment\\HW8 ReverseMidterm','Testparticles.mpend')\n",
    "#fpth = os.path.join(r'C:\\Users\\Quilson2\\OneDrive\\Documents\\SPRING21\\582-GWMod\\hws-PortilloD\\Assignment\\HW8 ReverseMidterm','ex6.mpend')\n",
    "epobj = flopy.utils.EndpointFile(fpth)\n",
    "well_epd = epobj.get_destination_endpoint_data(dest_cells=[(2, 200, 200)]) \n",
    "# returns record array of same form as epobj.get_all_data()"
   ]
  },
  {
   "cell_type": "code",
   "execution_count": null,
   "id": "radical-penguin",
   "metadata": {},
   "outputs": [],
   "source": [
    "well_epd[0:200]"
   ]
  },
  {
   "cell_type": "code",
   "execution_count": null,
   "id": "monthly-discrimination",
   "metadata": {},
   "outputs": [],
   "source": [
    "fig = plt.figure(figsize=(8, 8))\n",
    "ax = fig.add_subplot(1, 1, 1, aspect='equal')\n",
    "mapview = flopy.plot.PlotMapView(model=m, layer=2)\n",
    "quadmesh = mapview.plot_ibound()\n",
    "linecollection = mapview.plot_grid()\n",
    "#riv = mapview.plot_bc('RIV', color='g', plotAll=True)\n",
    "quadmesh = mapview.plot_bc('WEL', kper=1, plotAll=True)\n",
    "contour_set = mapview.contour_array(hds, \n",
    "                                     levels=np.arange(np.min(hds),np.max(hds),2.0), colors='b')\n",
    "plt.clabel(contour_set, inline=1, fontsize=14)\n",
    "mapview.plot_endpoint(well_epd, direction='starting', colorbar=True);"
   ]
  },
  {
   "cell_type": "code",
   "execution_count": null,
   "id": "therapeutic-liechtenstein",
   "metadata": {},
   "outputs": [],
   "source": [
    "fpth = os.path.join(r'C:\\Users\\Quilson2\\OneDrive\\Documents\\SPRING21\\582-GWMod\\hws-PortilloD\\Assignment\\HW8 ReverseMidterm','starting_locs.shp')\n",
    "print(type(fpth))\n",
    "epobj.write_shapefile(well_epd, direction='starting', shpname=fpth, mg=m.modelgrid)"
   ]
  },
  {
   "cell_type": "code",
   "execution_count": null,
   "id": "published-stupid",
   "metadata": {},
   "outputs": [],
   "source": [
    "# make a selection of cells that terminate in the well cell = (4, 12, 12)\n",
    "pthobj = flopy.utils.PathlineFile(os.path.join(r'C:\\Users\\Quilson2\\OneDrive\\Documents\\SPRING21\\582-GWMod\\hws-PortilloD\\Assignment\\HW8 ReverseMidterm','ex6.mppth'))\n",
    "well_pathlines = pthobj.get_destination_pathline_data(dest_cells=[(1, 20, 20)])"
   ]
  },
  {
   "cell_type": "code",
   "execution_count": null,
   "id": "creative-imperial",
   "metadata": {},
   "outputs": [],
   "source": [
    "fig = plt.figure(figsize=(8, 8))\n",
    "ax = fig.add_subplot(1, 1, 1, aspect='equal')\n",
    "mapview = flopy.plot.PlotMapView(model=m, layer=2)\n",
    "quadmesh = mapview.plot_ibound()\n",
    "linecollection = mapview.plot_grid()\n",
    "#riv = mapview.plot_bc('RIV', color='g', plotAll=True)\n",
    "quadmesh = mapview.plot_bc('WEL', kper=1, plotAll=True)\n",
    "contour_set = mapview.contour_array(hds, \n",
    "                                     levels=np.arange(np.min(hds),np.max(hds),1.0), colors='b')\n",
    "plt.clabel(contour_set, inline=1, fontsize=14)\n",
    "\n",
    "mapview.plot_endpoint(well_epd, direction='starting', colorbar=True)\n",
    "#for now, each particle must be plotted individually \n",
    "#(plot_pathline() will plot a single line for recarray with multiple particles)\n",
    "#for pid in np.unique(well_pathlines.particleid):\n",
    "#   modelmap.plot_pathline(pthobj.get_data(pid), layer='all', colors='red');\n",
    "mapview.plot_pathline(well_pathlines, layer='all', colors='red');"
   ]
  },
  {
   "cell_type": "code",
   "execution_count": null,
   "id": "divided-villa",
   "metadata": {},
   "outputs": [],
   "source": [
    "# one line feature per particle\n",
    "pthobj.write_shapefile(well_pathlines,\n",
    "                       direction='starting', shpname=os.path.join('data','pathlines.shp'),\n",
    "                       mg=m.modelgrid)\n",
    "\n",
    "# one line feature for each row in pathline file \n",
    "# (can be used to color lines by time or layer in a GIS)\n",
    "pthobj.write_shapefile(well_pathlines, one_per_particle=False, shpname=os.path.join('data','pathlines_1per.shp'),\n",
    "                       mg=m.modelgrid)"
   ]
  },
  {
   "cell_type": "code",
   "execution_count": null,
   "id": "monthly-phenomenon",
   "metadata": {},
   "outputs": [],
   "source": [
    "model_ws = r'C:\\Users\\Quilson2\\OneDrive\\Documents\\SPRING21\\582-GWMod\\hws-PortilloD\\Assignment\\HW8 ReverseMidterm'\n",
    "m2 = flopy.modflow.Modflow.load('TestHW8.nam', model_ws=model_ws, exe_name='mf2005')\n",
    "m2.get_package_list()"
   ]
  },
  {
   "cell_type": "code",
   "execution_count": null,
   "id": "weekly-response",
   "metadata": {},
   "outputs": [],
   "source": [
    "\n",
    "m2.nrow_ncol_nlay_nper"
   ]
  },
  {
   "cell_type": "code",
   "execution_count": null,
   "id": "engaged-formation",
   "metadata": {},
   "outputs": [],
   "source": [
    "m2.wel.stress_period_data.data"
   ]
  },
  {
   "cell_type": "code",
   "execution_count": null,
   "id": "distant-organic",
   "metadata": {},
   "outputs": [],
   "source": [
    "node_data = np.array([(3, 12, 12, 'well1', 'skin', -1, 0, 0, 0, 1., 2., 5., 6.2),\n",
    "                      (4, 12, 12, 'well1', 'skin', -1, 0, 0, 0, 0.5, 2., 5., 6.2)], \n",
    "                     dtype=[('k', int), ('i', int), ('j', int), \n",
    "                            ('wellid', object), ('losstype', object), \n",
    "                            ('pumploc', int), ('qlimit', int), \n",
    "                            ('ppflag', int), ('pumpcap', int), \n",
    "                            ('rw', float), ('rskin', float), \n",
    "                            ('kskin', float), ('zpump', float)]).view(np.recarray)\n",
    "\n",
    "stress_period_data = {0: np.array([(0, 'well1', -150000.0)], dtype=[('per', int), ('wellid', object), \n",
    "                                                            ('qdes', float)])}"
   ]
  },
  {
   "cell_type": "code",
   "execution_count": null,
   "id": "compound-extraction",
   "metadata": {},
   "outputs": [],
   "source": [
    "m2.name = 'Example_mnw'\n",
    "m2.remove_package('WEL')\n",
    "mnw2 = flopy.modflow.ModflowMnw2(model=m2, mnwmax=1,\n",
    "                                 node_data=node_data, \n",
    "                                 stress_period_data=stress_period_data, \n",
    "                                 itmp=[1, -1, -1])\n",
    "m2.get_package_list()"
   ]
  },
  {
   "cell_type": "code",
   "execution_count": null,
   "id": "described-biotechnology",
   "metadata": {},
   "outputs": [],
   "source": [
    "\n",
    "m2.write_input()\n",
    "\n",
    "m2.run_model(silent=False)"
   ]
  },
  {
   "cell_type": "code",
   "execution_count": null,
   "id": "supreme-estimate",
   "metadata": {},
   "outputs": [],
   "source": [
    "\n",
    "mp = flopy.modpath.Modpath6(modelname='ex6mnw',\n",
    "                            exe_name='mp6',\n",
    "                            modflowmodel=m2,\n",
    "                            model_ws='data',\n",
    "                            dis_file=m.name+'.DIS',\n",
    "                            head_file=m.name+'.hds',\n",
    "                            budget_file=m.name+'.cbc')\n",
    "\n",
    "mpb = flopy.modpath.Modpath6Bas(mp, hdry=m2.lpf.hdry, laytyp=m2.lpf.laytyp, ibound=1, prsity=0.1)\n",
    "sim = mp.create_mpsim(trackdir='backward', simtype='pathline', packages='MNW2')\n",
    "\n",
    "mp.write_input()\n",
    "\n",
    "mp.run_model(silent=False)"
   ]
  },
  {
   "cell_type": "code",
   "execution_count": null,
   "id": "postal-angola",
   "metadata": {},
   "outputs": [],
   "source": [
    "pthobj = flopy.utils.PathlineFile(os.path.join('data','ex6mnw.mppth'))\n",
    "epdobj = flopy.utils.EndpointFile(os.path.join('data','ex6mnw.mpend'))\n",
    "well_epd = epdobj.get_alldata()\n",
    "well_pathlines = pthobj.get_alldata() # returns a list of recarrays; one per pathline"
   ]
  },
  {
   "cell_type": "code",
   "execution_count": null,
   "id": "cubic-equipment",
   "metadata": {},
   "outputs": [],
   "source": [
    "fig = plt.figure(figsize=(8, 8))\n",
    "ax = fig.add_subplot(1, 1, 1, aspect='equal')\n",
    "mapview = flopy.plot.PlotMapView(model=m2, layer=2)\n",
    "quadmesh = mapview.plot_ibound()\n",
    "linecollection = mapview.plot_grid()\n",
    "riv = mapview.plot_bc('RIV', color='g', plotAll=True)\n",
    "quadmesh = mapview.plot_bc('MNW2', kper=1, plotAll=True)\n",
    "contour_set = mapview.contour_array(hds, \n",
    "                                     levels=np.arange(np.min(hds),np.max(hds),0.5), colors='b')\n",
    "plt.clabel(contour_set, inline=1, fontsize=14)\n",
    "\n",
    "mapview.plot_pathline(well_pathlines, travel_time='<10000',\n",
    "                       layer='all', colors='red');"
   ]
  },
  {
   "cell_type": "code",
   "execution_count": null,
   "id": "confidential-worth",
   "metadata": {},
   "outputs": [],
   "source": []
  },
  {
   "cell_type": "code",
   "execution_count": null,
   "id": "brazilian-sierra",
   "metadata": {},
   "outputs": [],
   "source": []
  }
 ],
 "metadata": {
  "kernelspec": {
   "display_name": "Python 3",
   "language": "python",
   "name": "python3"
  },
  "language_info": {
   "codemirror_mode": {
    "name": "ipython",
    "version": 3
   },
   "file_extension": ".py",
   "mimetype": "text/x-python",
   "name": "python",
   "nbconvert_exporter": "python",
   "pygments_lexer": "ipython3",
   "version": "3.8.5"
  }
 },
 "nbformat": 4,
 "nbformat_minor": 5
}
