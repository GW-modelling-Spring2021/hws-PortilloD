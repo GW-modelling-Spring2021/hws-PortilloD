{
 "cells": [
  {
   "cell_type": "markdown",
   "id": "eight-adaptation",
   "metadata": {},
   "source": [
    "# Transpire\n",
    "\n",
    "## Model Description \n",
    "This intially constructs the 3D (homogeneous) steady state box model that you built for your BoxModel_Manual assignment\n",
    "\n",
    "#### Dimensions: \n",
    "- 50 by 50 by 1\n",
    "- dx = dy = 1000 m\n",
    "- dz = 10 m  \n",
    "\n",
    "#### Subsurface Properties: \n",
    "-  homogenous in each layer\n",
    "- K = 1.0 m/day in x, y and z \n",
    "- Porosity = 0.1\n",
    "- Specific yield = 0.1\n",
    "- Storage coefficient=0.0001  \n",
    "\n",
    "#### Boundary Conditions: \n",
    " - Right boundary is constant head of 10 m relative to the datum, which is located at the bottom of the domain.  \n",
    " - Left boundary is a constant head of 20 m relative to the datum, which is located at the bottom of the domain."
   ]
  },
  {
   "cell_type": "code",
   "execution_count": null,
   "id": "handled-piece",
   "metadata": {},
   "outputs": [],
   "source": []
  },
  {
   "cell_type": "code",
   "execution_count": null,
   "id": "religious-annex",
   "metadata": {},
   "outputs": [],
   "source": []
  },
  {
   "cell_type": "code",
   "execution_count": null,
   "id": "steady-costs",
   "metadata": {},
   "outputs": [],
   "source": []
  },
  {
   "cell_type": "code",
   "execution_count": null,
   "id": "accepting-colorado",
   "metadata": {},
   "outputs": [],
   "source": []
  }
 ],
 "metadata": {
  "kernelspec": {
   "display_name": "Python 3",
   "language": "python",
   "name": "python3"
  },
  "language_info": {
   "codemirror_mode": {
    "name": "ipython",
    "version": 3
   },
   "file_extension": ".py",
   "mimetype": "text/x-python",
   "name": "python",
   "nbconvert_exporter": "python",
   "pygments_lexer": "ipython3",
   "version": "3.8.5"
  }
 },
 "nbformat": 4,
 "nbformat_minor": 5
}
