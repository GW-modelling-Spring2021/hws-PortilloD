{
 "cells": [
  {
   "cell_type": "markdown",
   "id": "weighted-america",
   "metadata": {},
   "source": [
    "# Challenge #4 Well, Well\n",
    "### *Influences of wells in our models*"
   ]
  },
  {
   "cell_type": "markdown",
   "id": "ahead-assessment",
   "metadata": {},
   "source": [
    "### Dalia Portillo"
   ]
  },
  {
   "cell_type": "markdown",
   "id": "quality-mortality",
   "metadata": {},
   "source": [
    "#### For the initial well location, plot the flow into the left (constant head = 20) and out of the right (contant head = 10) boundaries. (The code, as provided, makes this plot for you.) Explain why the values are not constant along the boundary (relate to the definition of a Type I boundary). Explain the shapes of the flow distributions and why they are not the same for the left (inflow) and right (outflow) boundaries."
   ]
  },
  {
   "cell_type": "markdown",
   "id": "contained-channels",
   "metadata": {},
   "source": [
    "<!--<p float=\"left\">\n",
    "  <img src=\"well1_bndyFlow.JPG\" width=\"292\" />\n",
    "  <img src=\"well2_bndyFlow.JPG\"  width=\"299\" />\n",
    "  <em>Figure 1 Flow along boundaries for well loacted at 10,15</em>\n",
    "    \n",
    "  <em>Figure 2 Flow along boundaries for well loacted at 12,12</em>\n",
    "</p>This is commented out. -->\n"
   ]
  },
  {
   "cell_type": "markdown",
   "id": "approved-theology",
   "metadata": {},
   "source": [
    "<p>\n",
    "  <figure><img src=\"well1_bndyFlow.JPG\" width=\"292\"/><figcaption>Figure 1 Flow along boundaries for well loacted at 10,15</figcaption></figure>\n",
    "  <figure><img src=\"well2_bndyFlow.JPG\" width=\"299\"/><figcaption>Figure 2 Flow along boundaries for well loacted at 12,12</figcaption></figure>\n",
    "</p>"
   ]
  },
  {
   "cell_type": "markdown",
   "id": "worst-million",
   "metadata": {},
   "source": [
    "In Figures 1 and 2, we see an intereting dfference between how the flux changes along the left and right boundaries. Firstly, the lines aren't straight. Why? This is because the model tries to iteravely solve and the resulting solution must meet the specified boundary conditions (i.e. H_left =20 and H_right =10 and no flow boundaries). However there is another condition which alters the shape: the well acts as a high K inclusion located at one coordinate, therefore, more flow and slightly faster flow enters from the left. Later we will see how only flow within the 'capture zone' speeds up and anything outside the capture zone remains relatively constant at ~4.0 m/s."
   ]
  },
  {
   "cell_type": "markdown",
   "id": "diagnostic-windows",
   "metadata": {},
   "source": [
    "#### Add a series of the left-to-right flow along a line that passes through the center of the domain [:,12]. How do you interpret the flow along this transect? Hint, also look at the flow along a transect just upgradient from the well [:,11]."
   ]
  },
  {
   "cell_type": "markdown",
   "id": "sixth-dating",
   "metadata": {},
   "source": [
    "<!--<p float=\"left\">\n",
    "  <img src=\"well1_bndyFlows.JPG\" width=\"292\" />\n",
    "  <img src=\"well1_bndyFlows11.JPG\"  width=\"299\" />\n",
    "</p>\n",
    "\n",
    "<p float=\"left\">\n",
    "  <em>Figure 3 Flow along boundaries for well loacted at 10,15 column 12</em>\n",
    "    \n",
    "  <em>Figure 4 column 11</em>\n",
    "</p> This is commented out. -->"
   ]
  },
  {
   "cell_type": "markdown",
   "id": "solar-block",
   "metadata": {},
   "source": [
    "\n",
    "<p float=\"left\">\n",
    "  <img src=\"well2_bndyFlows11.JPG\" width=\"288\" />\n",
    "  <img src=\"well2_bndyFlows.JPG\"  width=\"299\" />\n",
    "</p>\n",
    "\n",
    "*Figures 3 & 4 Flow for well located at 12,12 through center columns*"
   ]
  },
  {
   "cell_type": "markdown",
   "id": "descending-stereo",
   "metadata": {},
   "source": [
    "The main difference is that the well at 12,12 somehow stops flow (green line) after increasing dramatically. Flow doesn't actually stop, but reaches a stagnant point that represents flow is going out of the domain (disappearing from our model). This is symetrical and is same from both boundaries."
   ]
  },
  {
   "cell_type": "markdown",
   "id": "automotive-aluminum",
   "metadata": {},
   "source": [
    "#### Then, look at the plot of equipotentials and flow vectors. Describe how water flows through the domain. To aid in your description, draw a line through all of the flow vectors that terminate in the well. This approximates the capture zone of the well. Use this to refine your description of the flow system, being as specific as possible about where water that ends up being extracted by the well originates on the inflow boundary."
   ]
  },
  {
   "cell_type": "markdown",
   "id": "downtown-sound",
   "metadata": {},
   "source": [
    "\n",
    "<img src=\"well2_headcontours.JPG\"  width=\"370\" />\n",
    "\n",
    "*Figure 5 Equipotential contours and flow vectors throughout the domain*"
   ]
  },
  {
   "cell_type": "markdown",
   "id": "english-proof",
   "metadata": {},
   "source": [
    "By mass balance, water coming in is equal to the water going out. This applies to the macroscale (the overall domain) and through each cell (the microscale). So here in our model, water flows in from the left and right boundaries and is parallel to the no-flow boundaries on the top and bottom. However, in our vector plot, we see flow coming in perfectly horizonatal to the boundary but only a small part of that terminates into the well. This is called the capture zone which water pulled from storage flows directly into the well, and otherwise will flow horizontally from high hydraulic gradient to low hydraulic gradient as we can see from the vectors.\n"
   ]
  },
  {
   "cell_type": "markdown",
   "id": "swiss-worthy",
   "metadata": {},
   "source": [
    "#### Then, look at the plan view drawdown plot. Why aren't the drawdown contours circles? Either explain why this is correct, or fix the plot."
   ]
  },
  {
   "cell_type": "markdown",
   "id": "fitted-institute",
   "metadata": {},
   "source": [
    "\n",
    "<img src=\"well2_dwdwn.JPG\" alt=\"Drawing\" style=\"width: 288px;\"/>\n",
    "\n",
    "*Figure 6 Drawdown contours*\n"
   ]
  },
  {
   "cell_type": "markdown",
   "id": "agricultural-celebration",
   "metadata": {},
   "source": [
    "Drawdown isn't perfectly a circle because the no-flow boundaries cause and elliptical shape - flow needs to be parallel to these boundaries and head gradient is perpendicular to no-flow sides. Ideally, flow is perpendicular to each of these contours."
   ]
  },
  {
   "cell_type": "markdown",
   "id": "special-favor",
   "metadata": {},
   "source": [
    "#### Move the well to [0,5,5]. Use all plots necessary to describe fully how water is flowing through the domain with the well in this location. Be sure to include the drawdown plot in your discussion - compare this plot to the equipotentials and flow vectors. Something is not right about how the well location is shown. Fix it and explain what was wrong!"
   ]
  },
  {
   "cell_type": "markdown",
   "id": "musical-airfare",
   "metadata": {},
   "source": [
    "<!--<img src=\"well3_bndyFlow.JPG\" alt=\"Drawing\" style=\"width: 288px;\"/>\n",
    "<img src=\"well3_bndyFlows.JPG\" alt=\"Drawing\" style=\"width: 288px;\"/>\n",
    "<img src=\"well3_dwdwn.JPG\" alt=\"Drawing\" style=\"width: 288px;\"/>\n",
    "<img src=\"well3_headcontours.JPG\" alt=\"Drawing\" style=\"width: 288px;\"/>\n",
    " This is commented out. -->"
   ]
  },
  {
   "cell_type": "markdown",
   "id": "governmental-authentication",
   "metadata": {},
   "source": [
    "<p float=\"left\">\n",
    "  <img src=\"well3_bndyFlow.JPG\" width=\"288\" />\n",
    "  <img src=\"well3_bndyFlows.JPG\"  width=\"288\" /> \n",
    "  <img src=\"well3_dwdwn.JPG\" width=\"288\" />\n",
    "  <img src=\"well3_headcontours.JPG\" width=\"375\" />\n",
    "</p>\n",
    "\n",
    "*Figure 7* Well at 5,5 boundary flows\n",
    "\n",
    "*Figure 8* Well at 5,5 boundary flows and flow at center of domain\n",
    "\n",
    "*Figure 9* Drawdown Contours\n",
    "\n",
    "*Figure 10* Equipotential contours and flow vectors for well at 5,5"
   ]
  },
  {
   "cell_type": "markdown",
   "id": "central-horizon",
   "metadata": {},
   "source": [
    "From Figure 9, we can see the drawdown illustrates some flow behaviors. When the contours are closer together, this indicates a high gradient and faster flow, and the opposite when the contours are further apart (columns >10).\n",
    "Figures 7 and 8 show the faster flux from the left around row 5 (or Ly =~500). Becuase the well is closer to the corner or to the left boundary in this scenario, we see a greater influence from the well on the aquifer storage from this capture zone. \n",
    "In Figure 10, the well is for some reason plotted at 5, 20. I inverted the y-axis to represnt its true location at (5, 5)."
   ]
  },
  {
   "cell_type": "code",
   "execution_count": null,
   "id": "large-howard",
   "metadata": {},
   "outputs": [],
   "source": []
  }
 ],
 "metadata": {
  "kernelspec": {
   "display_name": "Python 3",
   "language": "python",
   "name": "python3"
  },
  "language_info": {
   "codemirror_mode": {
    "name": "ipython",
    "version": 3
   },
   "file_extension": ".py",
   "mimetype": "text/x-python",
   "name": "python",
   "nbconvert_exporter": "python",
   "pygments_lexer": "ipython3",
   "version": "3.8.5"
  }
 },
 "nbformat": 4,
 "nbformat_minor": 5
}
