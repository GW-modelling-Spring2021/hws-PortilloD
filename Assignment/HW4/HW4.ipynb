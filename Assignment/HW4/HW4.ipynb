{
 "cells": [
  {
   "cell_type": "markdown",
   "id": "broadband-calvin",
   "metadata": {},
   "source": [
    "# CHalleneg #4 Well, Well"
   ]
  },
  {
   "cell_type": "markdown",
   "id": "vital-margin",
   "metadata": {},
   "source": []
  },
  {
   "cell_type": "markdown",
   "id": "biological-impossible",
   "metadata": {},
   "source": [
    "#### For the initial well location, plot the flow into the left (constant head = 20) and out of the right (contant head = 10) boundaries. (The code, as provided, makes this plot for you.) Explain why the values are not constant along the boundary (relate to the definition of a Type I boundary). Explain the shapes of the flow distributions and why they are not the same for the left (inflow) and right (outflow) boundaries."
   ]
  },
  {
   "cell_type": "markdown",
   "id": "exotic-horizon",
   "metadata": {},
   "source": [
    "Diff in nrg and well acting as a high K inclusion but at single cell. type I boundary condition. so we have three boundaries in addition to the 2 no flows."
   ]
  },
  {
   "cell_type": "markdown",
   "id": "posted-topic",
   "metadata": {},
   "source": [
    "#### Add a series of the left-to-right flow along a line that passes through the center of the well [:,12]. How do you interpret the flow along this transect? Hint, also look at the flow along a transect just upgradient from the well [:,11]."
   ]
  },
  {
   "cell_type": "markdown",
   "id": "ethical-trinidad",
   "metadata": {},
   "source": []
  },
  {
   "cell_type": "markdown",
   "id": "chicken-theology",
   "metadata": {},
   "source": [
    "#### Then, look at the plot of equipotentials and flow vectors. Describe how water flows through the domain. To aid in your description, draw a line through all of the flow vectors that terminate in the well. This approximates the capture zone of the well. Use this to refine your description of the flow system, being as specific as possible about where water that ends up being extracted by the well originates on the inflow boundary."
   ]
  },
  {
   "cell_type": "markdown",
   "id": "fifteen-technique",
   "metadata": {},
   "source": []
  },
  {
   "cell_type": "markdown",
   "id": "opened-beads",
   "metadata": {},
   "source": [
    "#### Then, look at the plan view drawdown plot. Why aren't the drawdown contours circles? Either explain why this is correct, or fix the plot."
   ]
  },
  {
   "cell_type": "markdown",
   "id": "german-leadership",
   "metadata": {},
   "source": []
  },
  {
   "cell_type": "markdown",
   "id": "optional-protein",
   "metadata": {},
   "source": [
    "#### Move the well to [0,5,5]. Use all plots necessary to describe fully how water is flowing through the domain with the well in this location. Be sure to include the drawdown plot in your discussion - compare this plot to the equipotentials and flow vectors. Something is not right about how the well location is shown. Fix it and explain what was wrong!"
   ]
  },
  {
   "cell_type": "markdown",
   "id": "accessory-belfast",
   "metadata": {},
   "source": []
  },
  {
   "cell_type": "markdown",
   "id": "recorded-roller",
   "metadata": {},
   "source": []
  }
 ],
 "metadata": {
  "kernelspec": {
   "display_name": "Python 3",
   "language": "python",
   "name": "python3"
  },
  "language_info": {
   "codemirror_mode": {
    "name": "ipython",
    "version": 3
   },
   "file_extension": ".py",
   "mimetype": "text/x-python",
   "name": "python",
   "nbconvert_exporter": "python",
   "pygments_lexer": "ipython3",
   "version": "3.8.5"
  }
 },
 "nbformat": 4,
 "nbformat_minor": 5
}
