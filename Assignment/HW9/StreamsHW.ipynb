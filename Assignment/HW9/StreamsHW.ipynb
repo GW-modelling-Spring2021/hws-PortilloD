{
 "cells": [
  {
   "cell_type": "markdown",
   "id": "2c4639b9",
   "metadata": {},
   "source": [
    "# Streams"
   ]
  },
  {
   "cell_type": "markdown",
   "id": "5b56ec7b",
   "metadata": {},
   "source": [
    "#### Dalia Portillo"
   ]
  },
  {
   "cell_type": "markdown",
   "id": "a777d02f",
   "metadata": {},
   "source": [
    "This flopy code simulates flow in a single layer model including a stream that runs along the center column. There is uniformly distributed recharge over part of the domain. There is no ET. The aquifer is unconfined. Let's explore stream-aquifer exchange."
   ]
  },
  {
   "cell_type": "markdown",
   "id": "86a41587",
   "metadata": {},
   "source": [
    "### Model Description"
   ]
  },
  {
   "cell_type": "markdown",
   "id": "cf5ab805",
   "metadata": {},
   "source": [
    "​The model is set up for a homogeneous medium. However, the streambed conductivity changes within *three zones* along the stream. The single-layer domain is 51x51 cells. The cells are 10 m in lateral and vertical extent. Recharge occurs at a rate of 5e-5 m/day in the first 26 rows. The left and right boundaries have defined heads to represent a lake and a river, respectively."
   ]
  },
  {
   "cell_type": "markdown",
   "id": "4450bb22",
   "metadata": {},
   "source": [
    "### The Challenges"
   ]
  },
  {
   "cell_type": "markdown",
   "id": "b1517094",
   "metadata": {},
   "source": [
    "<b> a) Use these figures to describe the nature (direction/magnitude) of stream/aquifer exchange along the stream. In particular, explain why the leakage changes magnitude or direction where these values change.</b>"
   ]
  },
  {
   "cell_type": "markdown",
   "id": "19df3a53",
   "metadata": {},
   "source": [
    "\n",
    "<p float=\"left\">\n",
    "   <img src=\"flow_hds_lkd.png\"  width=\"625\" />\n",
    "   <img src=\"pot_surf.png\"  width=\"325\" />\n",
    "</p>"
   ]
  },
  {
   "cell_type": "markdown",
   "id": "45a3046d",
   "metadata": {},
   "source": [
    "This is give us some insight into what is going on between stream flow and the underlying aquifer below. There is a connection between the stream and aquifer in the middle reach, between rows 20 to ~40. This is where the leakeage to the aquifer is seen increasing in value exponentially. The leakage is influenced by the recharge which supplies additinal flow into the aquifer. The effects of recharge decrease down stream so around row 45, the leakage is zero.\n",
    "\n",
    "\n"
   ]
  },
  {
   "cell_type": "markdown",
   "id": "1be3738e",
   "metadata": {},
   "source": [
    "<b> b) Use the head distribution to describe the movement of water across the boundaries and into/out of the stream. </b>"
   ]
  },
  {
   "cell_type": "markdown",
   "id": "93d56577",
   "metadata": {},
   "source": [
    "Using the same figures above, we can get a general sense of the movement of water in this system. From the left to the stream (columns 0:25), we have flow into the stream.<span style=\"color:blue\"> This is the 'gaining' portion of the srtream where conductance is low. The head gradient is down from left to right and top to bottom. As we walk along from the top to the bottom, we see the lower part of the river is a losing stream where the cunductance is higher. This means the river is dry and there is little to no connection witht hte aquifer beyond row 43.</span> The lower right corner is like a sink and drawing in the water.\n",
    "\n",
    "\n"
   ]
  },
  {
   "cell_type": "code",
   "execution_count": null,
   "id": "7f99c7fa",
   "metadata": {},
   "outputs": [],
   "source": []
  },
  {
   "cell_type": "markdown",
   "id": "39878c2a",
   "metadata": {},
   "source": [
    "<b> c) Choose two things to explore (e.g. impact of streambed K or inflow into the river or recharge rate). Produce a plot for each to compare to the base plots and use the plots to explain the impact of the hydrologic change. </b>"
   ]
  },
  {
   "cell_type": "markdown",
   "id": "c5d60661",
   "metadata": {},
   "source": [
    "1. I changed the area over which recharge occurs from the top 26 rows to the a small corner in the right. This is simulate a system where rain ocurs in the northest part of the domain. I also reduced the sediment thickness of the stream and decreased the width of the stream from 20 to 8.\n",
    "This results in NO CONNECTION between the stream and the aquifer. why? Well the river is now too high that flow is almost negligble across the bounds between stream and aquifer. Yet the head contours remain reltivley unchanged as shown by the crossection figures starting from row 10 to row 50."
   ]
  },
  {
   "cell_type": "markdown",
   "id": "e257c291",
   "metadata": {},
   "source": [
    "<p float=\"left\">\n",
    "    <img src=\"ibnd.png\"  width=\"225\" />\n",
    "    <img src=\"xsect_rivrch10.png\"  width=\"280\" />\n",
    "    <img src=\"xsect_rivrch26.png\"  width=\"280\" />\n",
    "    <img src=\"xsect_rivrch50.png\"  width=\"280\" />\n",
    "</p>\n",
    "\n",
    "<left><img src=\"flow_hds_lkd_riv_rch.png\"  width=\"615\" />"
   ]
  },
  {
   "cell_type": "code",
   "execution_count": null,
   "id": "34ef6c79",
   "metadata": {},
   "outputs": [],
   "source": []
  },
  {
   "cell_type": "markdown",
   "id": "dea110ce",
   "metadata": {},
   "source": [
    "2. Now I want to know what is the smallest value or combination of parameters that the stream needs to leak into the aquifer without recharge. there are more changes I can make to force a connection but, what I did was decrease the sediment thickness, the stream botom level, and the stream conductance."
   ]
  },
  {
   "cell_type": "markdown",
   "id": "189eb401",
   "metadata": {},
   "source": [
    "Again the head contours doesn't really change dramatically. But this does illustrate that there is a small connectin which allows the water to leak into the aquifer across a small reach of the stream. This occurs around row 20 where we see flow nearly stop and the heads reach approximately 8.1 meters. The river goes dry early on in the middle of the domain. The aquifer on the other hand is still drawing water from the left."
   ]
  },
  {
   "cell_type": "markdown",
   "id": "10b2ff43",
   "metadata": {},
   "source": [
    "<p float=\"left\">\n",
    "    <img src=\"riv3.png\"  width=\"500\" />\n",
    "</p>\n",
    "<p float=\"left\">\n",
    "<img src=\"flow_hds_lkd_riv.png\"  width=\"600\" /><img src=\"3DHead.png\"  width=\"320\" /></p>  "
   ]
  },
  {
   "cell_type": "markdown",
   "id": "f4b9ec09",
   "metadata": {},
   "source": []
  }
 ],
 "metadata": {
  "kernelspec": {
   "display_name": "Python 3",
   "language": "python",
   "name": "python3"
  },
  "language_info": {
   "codemirror_mode": {
    "name": "ipython",
    "version": 3
   },
   "file_extension": ".py",
   "mimetype": "text/x-python",
   "name": "python",
   "nbconvert_exporter": "python",
   "pygments_lexer": "ipython3",
   "version": "3.6.2"
  }
 },
 "nbformat": 4,
 "nbformat_minor": 5
}
