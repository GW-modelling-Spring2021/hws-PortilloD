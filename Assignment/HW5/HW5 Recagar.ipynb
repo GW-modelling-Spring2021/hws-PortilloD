{
 "cells": [
  {
   "cell_type": "markdown",
   "id": "mighty-honey",
   "metadata": {},
   "source": [
    "# HW 5\n"
   ]
  },
  {
   "cell_type": "markdown",
   "id": "warming-pressing",
   "metadata": {},
   "source": [
    "### Dalia Portillo"
   ]
  },
  {
   "cell_type": "markdown",
   "id": "disciplinary-stanley",
   "metadata": {},
   "source": [
    "#### The model that you have been provided is set up for a homogeneous medium. There is a well located at [0,10,15], but it is not being pumped. The recharge rate is zero. The left and right boundaries have constant heads of 20 and 10, respectively.\n"
   ]
  },
  {
   "cell_type": "markdown",
   "id": "mysterious-august",
   "metadata": {},
   "source": [
    "#### For the initial boundary head values and pumping and recharge rates, compare the head versus x distance - along a transect from the middle of one constant head boundary to the other - to the results for the BoxModel. Now reduce the boundary heads to 15 and 5. Compare this result and explain any observed differences. The overall gradient is the same, as is the K of the medium ... is the flow the same for both boundary conditions? Why or why not?"
   ]
  },
  {
   "cell_type": "markdown",
   "id": "serious-honey",
   "metadata": {},
   "source": [
    "\n",
    "<img src=\"Head_Transect.png\" width=\"300\" />\n",
    "<img src=\"flowBoundaries.png\" width=\"200\" />\n"
   ]
  },
  {
   "cell_type": "code",
   "execution_count": null,
   "id": "developing-lending",
   "metadata": {},
   "outputs": [],
   "source": []
  },
  {
   "cell_type": "markdown",
   "id": "after-lotus",
   "metadata": {},
   "source": [
    "#### Now add recharge at a constant rate of 1e-4 m/day over the entire top boundary. Explain the head transect and boundary flows. Is flow in this system 2D or 3D? Is it represented as 2D or 3D? Explain what you mean by your answers."
   ]
  },
  {
   "cell_type": "markdown",
   "id": "configured-marijuana",
   "metadata": {},
   "source": [
    "<p float=\"left\">\n",
    "  <img src=\"Head_Transect1.png\" width=\"305\" />\n",
    "  <img src=\"BoxModel_vectors.png\"  width=\"320\" />\n",
    "  <img src=\"flowBoundaries1.png\" width=\"300\" />\n",
    "</p>"
   ]
  },
  {
   "cell_type": "code",
   "execution_count": null,
   "id": "usual-hostel",
   "metadata": {},
   "outputs": [],
   "source": []
  },
  {
   "cell_type": "markdown",
   "id": "distributed-somewhere",
   "metadata": {},
   "source": [
    "#### Now model a system with zero recharge except for a farm located in [6:10, 6:10] - in python terms. Recharge beneath the farm is 1e-4 m/day due to excess irrigation. First, calculate the annual excess irrigation, in meters, that has been applied to the farm. Second, assuming that the crop is cotton, it is located in southern Arizona, and cotton is grown all year (for simplicity), calculate the total irrigation rate on the farm that would be associated with this amount of excess irrigation. Finally, identify the area within the domain that might be subject to contamination if the recharge water was somehow tainted."
   ]
  },
  {
   "cell_type": "markdown",
   "id": "intermediate-knife",
   "metadata": {},
   "source": [
    "<p float=\"left\">\n",
    "  <img src=\"BoxModel_vectors2.png\"  width=\"299\" />\n",
    "  <img src=\"HeadContours2.png\" width=\"288\" />\n",
    "</p>"
   ]
  },
  {
   "cell_type": "code",
   "execution_count": null,
   "id": "labeled-davis",
   "metadata": {},
   "outputs": [],
   "source": []
  },
  {
   "cell_type": "markdown",
   "id": "successful-craft",
   "metadata": {},
   "source": [
    "#### Lastly, start the well pumping at a rate of 8 m3/day. Using one color, identify the capture zone of the well. Using a second color, show the area that might be contaminated by the irrigated farm fields. Comment on the impact of the well on the pattern of potential contamination."
   ]
  },
  {
   "cell_type": "markdown",
   "id": "cheap-ideal",
   "metadata": {},
   "source": [
    "<p float=\"left\">\n",
    "  <img src=\"HeadContours33.png\" width=\"288\" />\n",
    "  <img src=\"BoxModel_vectors3.png\"  width=\"299\" />\n",
    "</p>"
   ]
  },
  {
   "cell_type": "code",
   "execution_count": null,
   "id": "sustained-despite",
   "metadata": {},
   "outputs": [],
   "source": []
  },
  {
   "cell_type": "markdown",
   "id": "oriented-estonia",
   "metadata": {},
   "source": []
  },
  {
   "cell_type": "markdown",
   "id": "enabling-aluminum",
   "metadata": {},
   "source": [
    "#### Discussion Points\n"
   ]
  },
  {
   "cell_type": "markdown",
   "id": "adverse-accommodation",
   "metadata": {},
   "source": [
    "##### How can MODFLOW, which does not model unsaturated flow, represent an unconfined aquifer?\n"
   ]
  },
  {
   "cell_type": "markdown",
   "id": "figured-roman",
   "metadata": {},
   "source": [
    "##### What do you think would happen (in MODFLOW) if you pumped an unconfined aquifer so hard that the water level dropped below the bottom of the aquifer? Explain this from the point of view of what is happening in the model ... then think about what would happen in real life!\n",
    "\n"
   ]
  },
  {
   "cell_type": "markdown",
   "id": "mature-hamilton",
   "metadata": {},
   "source": [
    "##### How will the steady state capture zone of a model with recharge differ from that in the same model without recharge?\n"
   ]
  },
  {
   "cell_type": "markdown",
   "id": "ahead-width",
   "metadata": {},
   "source": [
    "##### What is recharge? What does it mean to define recharge for a MODFLOW model? How is it related to defining ET and precipitation? Where, exactly, is the top boundary of the model?\n"
   ]
  },
  {
   "cell_type": "code",
   "execution_count": null,
   "id": "known-enclosure",
   "metadata": {},
   "outputs": [],
   "source": []
  }
 ],
 "metadata": {
  "kernelspec": {
   "display_name": "Python 3",
   "language": "python",
   "name": "python3"
  },
  "language_info": {
   "codemirror_mode": {
    "name": "ipython",
    "version": 3
   },
   "file_extension": ".py",
   "mimetype": "text/x-python",
   "name": "python",
   "nbconvert_exporter": "python",
   "pygments_lexer": "ipython3",
   "version": "3.8.5"
  }
 },
 "nbformat": 4,
 "nbformat_minor": 5
}
