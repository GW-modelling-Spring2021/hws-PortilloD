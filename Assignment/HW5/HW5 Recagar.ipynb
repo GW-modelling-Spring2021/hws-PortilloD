{
 "cells": [
  {
   "cell_type": "markdown",
   "id": "cooked-reference",
   "metadata": {},
   "source": [
    "# HW 5 Recharge Me\n"
   ]
  },
  {
   "cell_type": "markdown",
   "id": "material-tender",
   "metadata": {},
   "source": [
    "### Dalia Portillo"
   ]
  },
  {
   "cell_type": "markdown",
   "id": "ecological-subject",
   "metadata": {},
   "source": [
    "The model that you have been provided is set up for a homogeneous medium. There is a well located at [0,10,15], but it is not being pumped. The recharge rate is zero. The left and right boundaries have constant heads of 20 and 10, respectively, and will be reduced to 15 and 5. \n"
   ]
  },
  {
   "cell_type": "markdown",
   "id": "provincial-python",
   "metadata": {},
   "source": [
    "#### Compare the head versus x distance - along a transect from the middle of one constant head boundary to the other - to the results for the BoxModel and explain any observed differences. The overall gradient is the same, as is the K of the medium ... is the flow the same for both boundary conditions? Why or why not?"
   ]
  },
  {
   "cell_type": "markdown",
   "id": "likely-snowboard",
   "metadata": {},
   "source": [
    "<p float=\"left\">\n",
    "    <img src=\"Head_Transect.png\" width=\"300\" />\n",
    "    <!--<img src=\"flowBoundaries.png\" width=\"200\" />-->\n",
    "</p>\n",
    "\n",
    "*Figure 1 Head transect along center column*\n"
   ]
  },
  {
   "cell_type": "markdown",
   "id": "documented-initial",
   "metadata": {},
   "source": [
    "The gradients are the same ~0.004 m/m. Flow is now not the same. This is becasue of how MODLFOW models unconfined aquifers; each cell now is convertible cell and can change the saturated thickness. For example, if our saturated thickness, b, is 10 m and we adjust the heads to 15 and 5, then above b we’d get a linear relationship (representing the unsaturated zone) but a nonlinear relationship when the flow enters the new b. This is seen in figure 1 where the blue curve behaves differently after Lx = 2000. Because we changed the head distribution and in turn changed the saturated thickness, which changes T, the flux must respond to meet the head distribution by definition of type I boundary. Flow is greater toward the right boundary and relatively the same on the left."
   ]
  },
  {
   "cell_type": "markdown",
   "id": "linear-liabilities",
   "metadata": {},
   "source": [
    "#### Now add recharge at a constant rate of 1e-4 m/day over the entire top boundary. Explain the head transect and boundary flows. Is flow in this system 2D or 3D? Is it represented as 2D or 3D? Explain."
   ]
  },
  {
   "cell_type": "markdown",
   "id": "tamil-appraisal",
   "metadata": {},
   "source": [
    "<p float=\"left\">\n",
    "  <img src=\"Head_Transect1.png\" width=\"310\" />\n",
    "  <img src=\"BoxModel_vectors.png\"  width=\"320\" />\n",
    "  <img src=\"flowBoundaries1.png\" width=\"288\" />\n",
    "</p>\n",
    "\n",
    "*Figure 2 Head transect showing with uniform recharge over entire surface and no recharge*\n",
    "\n",
    "*Figure 3 Flow vectors under recharge over the entire domain*\n",
    "\n",
    "*Figure 4 Boundary flows and flow at center*"
   ]
  },
  {
   "cell_type": "markdown",
   "id": "cosmetic-tamil",
   "metadata": {},
   "source": [
    "The head distribution produces a parabola looking figure starting and ending at 15 and 5, respectively. This illustrates ‘groundwater mounding’ where a shallower head gradient appears closer to the left boundary and steeper head gradient forms along the right boundary. The steeper gradient indicates an increase in flux across the boundary. The increase in flux is due to the changing head which is a result from \"adding\" the amount of recharge into the system. So the flow out of every cell is actually less than what is entering the cell, but the total flow out the system Qout is greater than Qin becasue we are adding uniform recharge across the domain.\n",
    "\n",
    "Flow is now 2D because we have a horizontal and vertical component. It is not yet modeled as 3D since there isn’t a 3rd direction of motion. MODFLOW normally models in the lowest dimension (1D)which we see by figure 4. \n",
    "In figure 4, we can see constant 1D flux along each boundary and in Figure 3, we can see the flow vectors in either direction horizontally representing the 'groundwater divide' while the head contours indicate the added recharge into the system. Thus making the flow 2D."
   ]
  },
  {
   "cell_type": "markdown",
   "id": "interim-burton",
   "metadata": {},
   "source": [
    "<!--head dec transmiss decre\n",
    "conveying more water ownstream\n",
    "increase flow in the domain - confined\n",
    "pink part below 10 (thickness) is both acting at sam etime (desaturation and increased flow - unconfined-->\n"
   ]
  },
  {
   "cell_type": "markdown",
   "id": "combined-september",
   "metadata": {},
   "source": [
    "#### Now model a system with zero recharge except for a farm located in [6:10, 6:10]. Recharge beneath the farm is 1e-4 m/day due to excess irrigation. First, calculate the annual excess irrigation, in meters, that has been applied to the farm. Second, assuming that the crop is cotton, it is located in southern Arizona, and cotton is grown all year (for simplicity), calculate the total irrigation rate on the farm that would be associated with this amount of excess irrigation. Finally, identify the area within the domain that might be subject to contamination if the recharge water was somehow tainted."
   ]
  },
  {
   "cell_type": "markdown",
   "id": "square-drawing",
   "metadata": {},
   "source": [
    "1.\tAnnual excess irrigation"
   ]
  },
  {
   "cell_type": "code",
   "execution_count": 1,
   "id": "apart-knowing",
   "metadata": {},
   "outputs": [
    {
     "name": "stdout",
     "output_type": "stream",
     "text": [
      "Annual excess irrigation is estimated to be 0.0365 m\n"
     ]
    }
   ],
   "source": [
    "    A = 4*4 # m^2\n",
    "    Re = 10**-4 # m/day\n",
    "    d_yr = 365 # days/yr for 1 yr\n",
    "\n",
    "    Excess = Re*d_yr\n",
    "    print(\"Annual excess irrigation is estimated to be \"+str(round(Excess,5))+\" m\")"
   ]
  },
  {
   "cell_type": "markdown",
   "id": "interim-parts",
   "metadata": {},
   "source": [
    "2.\tTotal irrigastion = cotton demand + excess"
   ]
  },
  {
   "cell_type": "markdown",
   "id": "favorite-polyester",
   "metadata": {},
   "source": [
    "Cotton is one of the thirstiest crops in existence, and uses approximately 5 vertical feet of flooded irrigation water per acre of cotton (in other words, 5 acre-feet).\n",
    "It is estimated that 1 million acre-feet of water is used for cotton per year."
   ]
  },
  {
   "cell_type": "code",
   "execution_count": 2,
   "id": "optional-depth",
   "metadata": {},
   "outputs": [
    {
     "name": "stdout",
     "output_type": "stream",
     "text": [
      "The total irrigation is the sum of cotton water demand over this area plus the excess for recharge.\n",
      "Total irrigation is estimated to be 385.8115 m\n"
     ]
    }
   ],
   "source": [
    "cttn = 5             #acre-feet\n",
    "acreft_m = 1234.48   #converts from acre-ft to cubic meters\n",
    "ft_m = 3             #converts from ft to m\n",
    "\n",
    "cttnDemand =(cttn*acreft_m/A)+Excess\n",
    "print(\"The total irrigation is the sum of cotton water demand over this area plus the excess for recharge.\")\n",
    "print(\"Total irrigation is estimated to be \" +str(round(cttnDemand,7))+\" m\")"
   ]
  },
  {
   "cell_type": "markdown",
   "id": "bigger-equality",
   "metadata": {},
   "source": [
    "<p float=\"left\">\n",
    "  <img src=\"HeadContours2.png\" width=\"299\" />\n",
    "  <img src=\"BoxModel_vectors2.png\"  width=\"305\" />\n",
    "</p>\n",
    "\n",
    "*figure 5 Filled contour area of the recharge*\n",
    "\n",
    "*Figure 6 Flow vectors indicating direction and relative change in speed*"
   ]
  },
  {
   "cell_type": "markdown",
   "id": "bridal-compression",
   "metadata": {},
   "source": [
    "\n",
    "3.\tThe recharge might be contaminated. Identify the area of potential contmaination.\n"
   ]
  },
  {
   "cell_type": "markdown",
   "id": "veterinary-terrace",
   "metadata": {},
   "source": [
    "The potemtial contamination will spread in the direction of flow. We know this becasue of the advection-dispersion equation (or ADE) which defines advective movement due to flow and the molecular diffusion and dispersion that occurs on the macro-level of the particles.\n",
    "\n",
    "If we want to plot a concentration versus time graph, we'd need to take a sample throughout the depth becasue at any one location, the concentration could vary due to dilution."
   ]
  },
  {
   "cell_type": "markdown",
   "id": "extensive-trail",
   "metadata": {},
   "source": [
    "#### Lastly, start the well pumping at a rate of 8 m^3/day. Using one color, identify the capture zone of the well. Using a second color, show the area that might be contaminated by the irrigated farm fields. Comment on the impact of the well on the pattern of potential contamination."
   ]
  },
  {
   "cell_type": "markdown",
   "id": "incorporated-nebraska",
   "metadata": {},
   "source": [
    "<p float=\"left\">\n",
    "  <!--<img src=\"HeadContours33.png\" width=\"288\" />-->\n",
    "  <img src=\"HeadContours3.png\" width=\"288\" />\n",
    "  <img src=\"BoxModel_vectors3.png\"  width=\"299\" />\n",
    "</p>\n",
    "\n",
    "*Figure 7 Filled in drawdown contours with recharge and a well*\n",
    "\n",
    "*Figure 8 Flow vectors with recharge and a pumping well*"
   ]
  },
  {
   "cell_type": "markdown",
   "id": "related-brass",
   "metadata": {},
   "source": [
    "Some of the contaminant will get drawn into the well while the rest will flow past the well. This results in the well having a lower concentration than the area around it. We have to remember that the source of water for the well comes form both the boundary and the recharge area.\n",
    "\n",
    "If we want to know how much comes from each source, we'd need to use the model to find the area(s) that are captured by the well and define the flow as function of distance ( q(x) ) at the boundary. \n",
    "\n",
    "For a simplistic model, we could find the resulting contaminant concetration that might be drawn into the well. For example, lets say:\n",
    "\n",
    "$ C = C_0 * exp[(- \\frac{k}{q} *x)] $\n",
    "\n",
    "<img src=\"eq.png\" width=\"200\" />"
   ]
  },
  {
   "cell_type": "code",
   "execution_count": 3,
   "id": "corporate-probe",
   "metadata": {},
   "outputs": [
    {
     "name": "stdout",
     "output_type": "stream",
     "text": [
      "Concentration at well could be 0.40289 mg/L. Which is much less than what was released.\n"
     ]
    }
   ],
   "source": [
    "import math\n",
    "C0 = 1           #mg/L            Concentration released from recharge\n",
    "k = 1            #m/day           Hydraulic Conductivity\n",
    "q_bndy = 3.2     #m/day           Flow at the boundary (0,10)\n",
    "q_well = 5.5     #m/day           flow at the well (14,10)\n",
    "x = 5            #m               smallest distance from recharge to well\n",
    "\n",
    "exp = math.exp(-(k/q_well)*x)\n",
    "C = C0*exp\n",
    "\n",
    "print(\"Concentration at well could be \"+str(round(C,5))+\" mg/L. Which is much less than what was released.\")"
   ]
  },
  {
   "cell_type": "code",
   "execution_count": null,
   "id": "marked-explanation",
   "metadata": {},
   "outputs": [],
   "source": []
  }
 ],
 "metadata": {
  "kernelspec": {
   "display_name": "Python 3",
   "language": "python",
   "name": "python3"
  },
  "language_info": {
   "codemirror_mode": {
    "name": "ipython",
    "version": 3
   },
   "file_extension": ".py",
   "mimetype": "text/x-python",
   "name": "python",
   "nbconvert_exporter": "python",
   "pygments_lexer": "ipython3",
   "version": "3.8.5"
  }
 },
 "nbformat": 4,
 "nbformat_minor": 5
}
