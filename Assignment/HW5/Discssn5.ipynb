{
 "cells": [
  {
   "cell_type": "markdown",
   "id": "extra-annotation",
   "metadata": {},
   "source": [
    "#### Discussion Points\n"
   ]
  },
  {
   "cell_type": "markdown",
   "id": "vertical-thomas",
   "metadata": {},
   "source": [
    "##### How can MODFLOW, which does not model unsaturated flow, represent an unconfined aquifer?\n",
    "\n",
    "\n",
    "Is this the infinite lateral extenet? Or was that for confined? It models flow into confining lyr? The well screen is fully penetrating the confining lyr….\n",
    "Convertible cell\n",
    "Aquifer thickness = 10m\n",
    "Have unsaturated zone, wtr more difficult to flow\n",
    "So if cut aqf thickness b by 0.5, then T is also 0.5T\n",
    "Flow decreaas into sys, flow incr out of sys\n",
    "T changes bc b changes, gradient changes bc b changes, b changes bc gradient has changed…non-linear\n",
    "Confined above unconfined…linear --> non-linear\n"
   ]
  },
  {
   "cell_type": "markdown",
   "id": "behavioral-qualification",
   "metadata": {},
   "source": [
    "##### What do you think would happen (in MODFLOW) if you pumped an unconfined aquifer so hard that the water level dropped below the bottom of the aquifer? Explain this from the point of view of what is happening in the model ... then think about what would happen in real life!\n",
    "\n",
    "Will it stop converging since it has nothing to converge to? Each node the head drops to 0\n",
    "\n"
   ]
  },
  {
   "cell_type": "markdown",
   "id": "increasing-brass",
   "metadata": {},
   "source": [
    "##### How will the steady state capture zone of a model with recharge differ from that in the same model without recharge?\n",
    "The capture zone draws the recharge and capture zone narrows, more 2D"
   ]
  },
  {
   "cell_type": "markdown",
   "id": "spatial-kingston",
   "metadata": {},
   "source": [
    "##### What is recharge? What does it mean to define recharge for a MODFLOW model? How is it related to defining ET and precipitation? Where, exactly, is the top boundary of the model?\n",
    "Recharge is flux across WT\n",
    "We’re adding a type II boundary over area\n",
    "Re = P+ET\n",
    "The top boundary is at the water table\n"
   ]
  },
  {
   "cell_type": "markdown",
   "id": "sustainable-retro",
   "metadata": {},
   "source": []
  }
 ],
 "metadata": {
  "kernelspec": {
   "display_name": "Python 3",
   "language": "python",
   "name": "python3"
  },
  "language_info": {
   "codemirror_mode": {
    "name": "ipython",
    "version": 3
   },
   "file_extension": ".py",
   "mimetype": "text/x-python",
   "name": "python",
   "nbconvert_exporter": "python",
   "pygments_lexer": "ipython3",
   "version": "3.8.5"
  }
 },
 "nbformat": 4,
 "nbformat_minor": 5
}
