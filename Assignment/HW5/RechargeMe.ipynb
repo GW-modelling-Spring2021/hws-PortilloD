{
 "cells": [
  {
   "cell_type": "markdown",
   "metadata": {},
   "source": [
    "# Recharge Me\n",
    "\n",
    "## Model Description \n",
    "This intially constructs the 3D (homogeneous) steady state box model that you built for your BoxModel_Manual assignment\n",
    "\n",
    "#### Dimensions: \n",
    "- 25 by 25 by 1\n",
    "- dx = dy = 100 m\n",
    "- dz = 10 m  \n",
    "\n",
    "#### Subsurface Properties: \n",
    "- Homogeneous \n",
    "- K = 1.0 m/day in x, y and z \n",
    "- Porosity = 0.35\n",
    "- Specific yield = 0.3\n",
    "- Storage coefficient=0.001  \n",
    "\n",
    "#### Boundary Conditions: \n",
    " - Right boundary is constant head of 10 m relative to the datum, which is located at the bottom of the domain.  \n",
    " - Left boundary is a constant head of 20 m relative to the datum, which is located at the bottom of the domain. "
   ]
  },
  {
   "cell_type": "markdown",
   "metadata": {},
   "source": [
    "## 1. Setup the environment"
   ]
  },
  {
   "cell_type": "code",
   "execution_count": 1,
   "metadata": {},
   "outputs": [],
   "source": [
    "#the basics\n",
    "import flopy\n",
    "import numpy as np\n",
    "import matplotlib as mp\n",
    "import os\n",
    "\n",
    "#additional analysis tools\n",
    "import flopy.utils.binaryfile as bf\n",
    "from mpl_toolkits.mplot3d import Axes3D\n",
    "import matplotlib.pyplot as plt\n",
    "from matplotlib import cm\n",
    "from matplotlib.ticker import LinearLocator, FormatStrFormatter\n",
    "import csv\n",
    "\n",
    "#jupyter specific--included to show plots in notebook\n",
    "%matplotlib inline "
   ]
  },
  {
   "cell_type": "markdown",
   "metadata": {},
   "source": [
    "## 2. Create the model object"
   ]
  },
  {
   "cell_type": "code",
   "execution_count": 2,
   "metadata": {},
   "outputs": [],
   "source": [
    "modelname = \"RechargeMe\"\n",
    "moddir=\"C:/Users/Dalia/Documents/MF2005.1_12/bin/mf2005\"\n",
    "m = flopy.modflow.Modflow(modelname, exe_name = moddir)\n",
    "#moddir = os.getcwd()+\"\\\\modflowdir\\\\mf2005.exe\""
   ]
  },
  {
   "cell_type": "code",
   "execution_count": 3,
   "metadata": {},
   "outputs": [],
   "source": [
    "#optional delete old run files\n",
    "run = 'n'\n",
    "if run == 'y':\n",
    "    # file_extensions = ['.dis','.bas','.lpf','.oc','.pcg','.wel']\n",
    "    file_extensions = ['.dis','.bas','.bcf','.oc','.pcg', '.wel', 'rch']\n",
    "    for ext in file_extensions:\n",
    "        os.remove(modelname + ext)"
   ]
  },
  {
   "cell_type": "code",
   "execution_count": 4,
   "metadata": {},
   "outputs": [],
   "source": [
    "modelnm = \"RecagarePorFa\"\n",
    "moddir=\"C:/Users/Dalia/Documents/MF2005.1_12/bin/mf2005\"\n",
    "m2 = flopy.modflow.Modflow(modelnm, exe_name = moddir)\n",
    "#moddir = os.getcwd()+\"\\\\modflowdir\\\\mf2005.exe\""
   ]
  },
  {
   "cell_type": "code",
   "execution_count": 5,
   "metadata": {},
   "outputs": [],
   "source": [
    "#optional delete old run files\n",
    "run = 'n'\n",
    "if run == 'y':\n",
    "    # file_extensions = ['.dis','.bas','.lpf','.oc','.pcg','.wel']\n",
    "    file_extensions = ['.dis','.bas','.bcf','.oc','.pcg', '.wel', 'rch']\n",
    "    for ext in file_extensions:\n",
    "        os.remove(modelnm + ext)"
   ]
  },
  {
   "cell_type": "markdown",
   "metadata": {},
   "source": [
    "## 3. Setup the discretization (DIS package)\n",
    "\n",
    "For more details on DIS package inputs refer to : https://flopy.readthedocs.io/en/3.3.2/source/flopy.modflow.mfdis.html \n",
    "\n",
    "#### 3.1 Spatial discretization"
   ]
  },
  {
   "cell_type": "code",
   "execution_count": 6,
   "metadata": {},
   "outputs": [],
   "source": [
    "nrow = 25 #number of rows\n",
    "ncol = 25 #number of columns\n",
    "nlay = 1  #number of layers\n",
    "\n",
    "dx= 100 #width of grid cells in x direction \n",
    "dy= 100 #width of grid cells in y direction \n",
    "\n",
    "Lx = ncol*dx  #width of domain in x\n",
    "Ly = nrow*dy #width of domain in y\n",
    "ztop = 10.    #top elevation \n",
    "zbot = 0.     #bottom elevation\n",
    "\n",
    "dz = (ztop - zbot) / nlay #cell height in z direction"
   ]
  },
  {
   "cell_type": "markdown",
   "metadata": {},
   "source": [
    "#### 3.2 Temporal discretization "
   ]
  },
  {
   "cell_type": "code",
   "execution_count": 7,
   "metadata": {},
   "outputs": [],
   "source": [
    "nper = 1 #number of stress periods \n",
    "steady = [True] #list noting the stress period type"
   ]
  },
  {
   "cell_type": "markdown",
   "metadata": {},
   "source": [
    "#### 3.3 Create DIS object"
   ]
  },
  {
   "cell_type": "code",
   "execution_count": 8,
   "metadata": {},
   "outputs": [],
   "source": [
    "#create flopy discretization object, length and time are meters (2) and days (4)\n",
    "dis = flopy.modflow.ModflowDis(model=m, nlay=nlay, nrow=nrow, ncol=ncol, \n",
    "                               delr=dx, delc=dy, top=ztop, botm=zbot, \n",
    "                               itmuni = 4, lenuni = 2, \n",
    "                               nper=nper, steady=steady)"
   ]
  },
  {
   "cell_type": "code",
   "execution_count": 9,
   "metadata": {},
   "outputs": [],
   "source": [
    "#create flopy discretization object, length and time are meters (2) and days (4)\n",
    "dis2 = flopy.modflow.ModflowDis(model=m2, nlay=nlay, nrow=nrow, ncol=ncol, \n",
    "                               delr=dx, delc=dy, top=ztop, botm=zbot, \n",
    "                               itmuni = 4, lenuni = 2, \n",
    "                               nper=nper, steady=steady)"
   ]
  },
  {
   "cell_type": "markdown",
   "metadata": {},
   "source": [
    "#### 3.4 Plot the grid\n",
    "\n",
    "For help on this function see: https://flopy.readthedocs.io/en/3.3.2/source/flopy.plot.plotutil.html"
   ]
  },
  {
   "cell_type": "code",
   "execution_count": 10,
   "metadata": {},
   "outputs": [
    {
     "data": {
      "image/png": "[encoded data removed]",
      "text/plain": [
       "<Figure size 432x288 with 1 Axes>"
      ]
     },
     "metadata": {
      "needs_background": "light"
     },
     "output_type": "display_data"
    }
   ],
   "source": [
    "#use flopy to plot the grid of model 'm'\n",
    "modelmap = flopy.plot.PlotMapView(model=m, layer=0)\n",
    "#modelmap = flopy.plot.PlotMapView(model=m2, layer=0)\n",
    "grid = modelmap.plot_grid() \n",
    "\n",
    "plt.xlabel('Lx (m)',fontsize = 14)\n",
    "plt.ylabel('Ly (m)',fontsize = 14)\n",
    "plt.title('Grid', fontsize = 15, fontweight = 'bold')\n",
    "plt.show()"
   ]
  },
  {
   "cell_type": "markdown",
   "metadata": {},
   "source": [
    "## 4. Setup constant head boundaries, active cells and initial heads (BAS Package)\n",
    "\n",
    "For more details on the BAS package see: https://flopy.readthedocs.io/en/3.3.2/source/flopy.modflow.mfbas.html"
   ]
  },
  {
   "cell_type": "markdown",
   "metadata": {},
   "source": [
    "#### 4.1 Define cell activity: IBOUND "
   ]
  },
  {
   "cell_type": "code",
   "execution_count": 11,
   "metadata": {},
   "outputs": [],
   "source": [
    "#create ibound as array of ints = 1\n",
    "ibound = np.ones((nlay, nrow, ncol), dtype=np.int32) #integer array of dim (z,y,x), makes all cells active     \n",
    "\n",
    "#set constant head boundary on the left\n",
    "ibound[:,:,0] = -1          #replace leftmost column (all zs, all ys, first x) with -1 to indicate constant head \n",
    "ibound[:,:,-1] = -1          #replace leftmost column (all zs, all ys, first x) with -1 to indicate constant head \n",
    "\n",
    "#print(\"ibound values: \\n\", ibound)"
   ]
  },
  {
   "cell_type": "markdown",
   "metadata": {},
   "source": [
    "#### 4.2 Define starting heads "
   ]
  },
  {
   "cell_type": "code",
   "execution_count": 12,
   "metadata": {},
   "outputs": [],
   "source": [
    "#setup initial heads\n",
    "H_init = np.ones((nlay, nrow, ncol), dtype=np.float32)  #float array (i.e. decimal), sets all heads to 1.0\n",
    "H_init[:, :, 0] = 20    #replace first (left) col with desired head value\n",
    "H_init[:, :, -1] = 10    #replace first (left) col with desired head value\n",
    "\n",
    "#print(\"starting head values: \\n\", H_init)"
   ]
  },
  {
   "cell_type": "code",
   "execution_count": 13,
   "metadata": {},
   "outputs": [],
   "source": [
    "#setup change in heads \n",
    "H_2 = np.ones((nlay, nrow, ncol), dtype=np.float32)  #float array (i.e. decimal), sets all heads to 1.0\n",
    "H_2[:, :, 0] = 15    #replace first (left) col with desired head value\n",
    "H_2[:, :, -1] = 5    #replace first (left) col with desired head value\n",
    "\n",
    "#print(\"starting head values: \\n\", H_init)"
   ]
  },
  {
   "cell_type": "markdown",
   "metadata": {},
   "source": [
    "#### 4.3 Create BAS object"
   ]
  },
  {
   "cell_type": "code",
   "execution_count": 14,
   "metadata": {},
   "outputs": [],
   "source": [
    "#create flopy bas1 object\n",
    "bas = flopy.modflow.ModflowBas(m, ibound=ibound, strt=H_init)"
   ]
  },
  {
   "cell_type": "code",
   "execution_count": 15,
   "metadata": {},
   "outputs": [],
   "source": [
    "#create flopy bas2 object\n",
    "bas2 = flopy.modflow.ModflowBas(m2, ibound=ibound, strt=H_2)"
   ]
  },
  {
   "cell_type": "markdown",
   "metadata": {},
   "source": [
    "#### 4.4 Plot the grid and ibound"
   ]
  },
  {
   "cell_type": "code",
   "execution_count": 16,
   "metadata": {},
   "outputs": [
    {
     "data": {
      "image/png": "[encoded data removed]",
      "text/plain": [
       "<Figure size 432x288 with 1 Axes>"
      ]
     },
     "metadata": {
      "needs_background": "light"
     },
     "output_type": "display_data"
    }
   ],
   "source": [
    "#plot grid and ibound\n",
    "modelmap = flopy.plot.PlotMapView(model=m, layer=0)\n",
    "#modelmap = flopy.plot.PlotMapView(model=m2, layer=0)\n",
    "grid = modelmap.plot_grid()\n",
    "ib = modelmap.plot_ibound()\n",
    "#add labels and legend\n",
    "plt.xlabel('Lx (m)',fontsize = 14)\n",
    "plt.ylabel('Ly (m)',fontsize = 14)\n",
    "plt.title('Ibound', fontsize = 15, fontweight = 'bold')\n",
    "plt.legend(handles=[mp.patches.Patch(color='blue',label='Const. Head',ec='black'),\n",
    "                   mp.patches.Patch(color='white',label='Active Cell',ec='black'),\n",
    "                   mp.patches.Patch(color='black',label='Inactive Cell',ec='black')],\n",
    "                   bbox_to_anchor=(1.5,1.0))\n",
    "plt.show(modelmap)"
   ]
  },
  {
   "cell_type": "markdown",
   "metadata": {},
   "source": [
    "## 5. Setup Layer Properties  (LPF Package)\n",
    "\n",
    "For more details on LPF package see: https://flopy.readthedocs.io/en/3.3.2/source/flopy.modflow.mflpf.html"
   ]
  },
  {
   "cell_type": "markdown",
   "metadata": {},
   "source": [
    "#### 5.1 Set layer properties"
   ]
  },
  {
   "cell_type": "code",
   "execution_count": 17,
   "metadata": {},
   "outputs": [],
   "source": [
    "K_horiz = 1.    #horizontal hydraulic conductivity \n",
    "K_vert = 1    #assign vertical hydraulic conductivity (along z axis)\n",
    "n = 0.35        #assign porosity\n",
    "Ss = 0.001      #assign storage coefficient\n",
    "Sy = 0.3        #assign specific yield\n",
    "uncnf = 1       #0=confined, >0 = unconfined"
   ]
  },
  {
   "cell_type": "markdown",
   "metadata": {},
   "source": [
    "#### 5.2 Make LPF object"
   ]
  },
  {
   "cell_type": "code",
   "execution_count": 18,
   "metadata": {},
   "outputs": [],
   "source": [
    "#assigns horizontal and vertical Ks and saves cell-by-cell budget data\n",
    "# lpf = flopy.modflow.ModflowLpf(m, laytyp=uncnf, hk=K_horiz, \n",
    "#                                vka=K_vert, ss=Ss,\n",
    "#                                sy=Sy,storagecoefficient=True, ipakcb=53) \n"
   ]
  },
  {
   "cell_type": "markdown",
   "metadata": {},
   "source": [
    "## 5b. Setup Cell-byCell Properties  (BCF Package)\n",
    "\n",
    "For more details on LPF package see: https://flopy.readthedocs.io/en/3.3.2/source/flopy.modflow.mfbcf.html"
   ]
  },
  {
   "cell_type": "markdown",
   "metadata": {},
   "source": [
    "#### 5b.1 Set cell properties and show K in top layer"
   ]
  },
  {
   "cell_type": "code",
   "execution_count": 19,
   "metadata": {},
   "outputs": [
    {
     "data": {
      "image/png": "[encoded data removed]",
      "text/plain": [
       "<Figure size 720x720 with 2 Axes>"
      ]
     },
     "metadata": {
      "needs_background": "light"
     },
     "output_type": "display_data"
    }
   ],
   "source": [
    "K_vals = np.zeros((ncol,nrow,nlay))\n",
    "K_vals[:,:,:] = 1             # homoogeneous background hydraulic conductivity \n",
    "#K_vals[10:15,10:15,:] = 0.1   # low K inclusion\n",
    "\n",
    "n = 0.35        #assign porosity\n",
    "Ss = 0.001      #assign storage coefficient\n",
    "Sy = 0.3        #assign specific yield\n",
    "uncnf = 0       #0=confined, >0 = unconfined\n",
    "\n",
    "#plot K values in top layer\n",
    "fig1 = plt.figure(figsize=(10,10)) #create 10 x 10 figure\n",
    "plt.xlabel('Lx (m)',fontsize = 14)\n",
    "plt.ylabel('Ly (m)',fontsize = 14)\n",
    "plt.title('K in top layer', fontsize = 15, fontweight = 'bold')\n",
    "plt.contourf(K_vals[:,:,0])\n",
    "plt.colorbar()\n",
    "plt.show()"
   ]
  },
  {
   "cell_type": "markdown",
   "metadata": {},
   "source": [
    "#### 5b.2 Make BCF object"
   ]
  },
  {
   "cell_type": "code",
   "execution_count": 20,
   "metadata": {},
   "outputs": [],
   "source": [
    "#assigns horizontal and vertical Ks and saves cell-by-cell budget data\n",
    "bcf = flopy.modflow.ModflowBcf(m, ipakcb=53, intercellt=0, laycon=3, trpy=1.0, hdry=-1e+30, iwdflg=0, wetfct=0.1, iwetit=1, ihdwet=0, tran=1.0, hy=K_vals[:,:,0], vcont=1.0, sf1=Ss, sf2=Sy, wetdry=-0.01, extension='bcf', unitnumber=None, filenames=None) \n",
    "bcf2 = flopy.modflow.ModflowBcf(m2, ipakcb=53, intercellt=0, laycon=3, trpy=1.0, hdry=-1e+30, iwdflg=0, wetfct=0.1, iwetit=1, ihdwet=0, tran=1.0, hy=K_vals[:,:,0], vcont=1.0, sf1=Ss, sf2=Sy, wetdry=-0.01, extension='bcf', unitnumber=None, filenames=None) "
   ]
  },
  {
   "cell_type": "markdown",
   "metadata": {},
   "source": [
    "## 6. Setup outputs by stress period (OC Package)\n",
    "For more details on OC Package: https://flopy.readthedocs.io/en/3.3.2/source/flopy.modflow.mfoc.html"
   ]
  },
  {
   "cell_type": "markdown",
   "metadata": {},
   "source": [
    "#### 6.1 Setup outputs"
   ]
  },
  {
   "cell_type": "code",
   "execution_count": 21,
   "metadata": {},
   "outputs": [
    {
     "name": "stdout",
     "output_type": "stream",
     "text": [
      "oc stress period data: \n",
      " {(0, 0): ['print head', 'print budget', 'save head', 'save budget']}\n"
     ]
    }
   ],
   "source": [
    "#create oc stress period data. \n",
    "#(0,0) tells OC package to save data for stress period 1, time step 1.\n",
    "spd = {(0,0):['print head', 'print budget', 'save head', 'save budget']} #create a dictionary for stress period data, where key (0,0) is associated with value ['print...'] \n",
    "\n",
    "print(\"oc stress period data: \\n\", spd)"
   ]
  },
  {
   "cell_type": "markdown",
   "metadata": {},
   "source": [
    "#### 6.2 Make OC object "
   ]
  },
  {
   "cell_type": "code",
   "execution_count": 22,
   "metadata": {},
   "outputs": [],
   "source": [
    "oc = flopy.modflow.ModflowOc(model=m, stress_period_data=spd, compact=True)\n",
    "oc2 = flopy.modflow.ModflowOc(model=m2, stress_period_data=spd, compact=True)"
   ]
  },
  {
   "cell_type": "markdown",
   "metadata": {},
   "source": [
    "## 7. Set the numerical solver (PCG Package)\n",
    "\n",
    "We are using the Preconditioned Conjugate Gradient package:\n",
    "\n",
    "Additionally, MODFLOW online describes these solvers: https://water.usgs.gov/ogw/modflow/MODFLOW-2005-Guide/index.html?oc.htm\n",
    "\n",
    "And Flopy documents its communication with the PCG MODFLOW package: http://modflowpy.github.io/flopydoc/mfpcg.html"
   ]
  },
  {
   "cell_type": "markdown",
   "metadata": {},
   "source": [
    "#### 7.1 Make the PCG object"
   ]
  },
  {
   "cell_type": "code",
   "execution_count": 23,
   "metadata": {},
   "outputs": [],
   "source": [
    "pcg = flopy.modflow.ModflowPcg(model=m)\n",
    "pcg = flopy.modflow.ModflowPcg(model=m2)"
   ]
  },
  {
   "cell_type": "markdown",
   "metadata": {},
   "source": [
    "## 8. Add wells for the constant flux boundary (WEL Package)\n",
    "For more details on the WEL package see: http://modflowpy.github.io/flopydoc/mfwel.html"
   ]
  },
  {
   "cell_type": "markdown",
   "metadata": {},
   "source": [
    "#### 8.1 Setup the well parameters (use this to set a defined flux boundary)"
   ]
  },
  {
   "cell_type": "code",
   "execution_count": 24,
   "metadata": {},
   "outputs": [],
   "source": [
    "Q_in = -8                          #total flow crossing right boundary (m3/day)\n",
    "fluxes = [0,10,15,Q_in]\n",
    "\n",
    "sp_fluxes = {0: fluxes}              #create a dictionary with entries for each stress period\n",
    "\n",
    "#print(sp_fluxes)"
   ]
  },
  {
   "cell_type": "markdown",
   "metadata": {},
   "source": [
    "#### 8.2 Make the WEL object"
   ]
  },
  {
   "cell_type": "code",
   "execution_count": 25,
   "metadata": {},
   "outputs": [],
   "source": [
    "wel = flopy.modflow.mfwel.ModflowWel(m, stress_period_data=sp_fluxes)  #create object for WEL package\n",
    "wel2 = flopy.modflow.mfwel.ModflowWel(m2, stress_period_data=sp_fluxes)"
   ]
  },
  {
   "cell_type": "markdown",
   "metadata": {},
   "source": [
    "##9. Add recharge (RCH Package)\n",
    "\n",
    "For more details on the WEL package see: http://modflowpy.github.io/flopydoc/mfrch.html"
   ]
  },
  {
   "cell_type": "markdown",
   "metadata": {},
   "source": [
    "#### 9.1 Setup recharge value"
   ]
  },
  {
   "cell_type": "code",
   "execution_count": 51,
   "metadata": {},
   "outputs": [],
   "source": [
    "#Recharge \n",
    "rech_zone = np.zeros((nrow,ncol))               #define an array of zeros of dim (nrow,ncol)\n",
    "recharge = 1e-4 #m/day                          \n",
    "rech_zone[6:10,6:10] = recharge                  #the same recharge everywhere \n",
    "#rech_zone=rech_zone+recharge\n",
    "\n",
    "#rch = flopy.modflow.mfrch.ModflowRch(model=m, rech=rech_zone, ipakcb=53)     #create rch object\n",
    "rch2 = flopy.modflow.mfrch.ModflowRch(model=m2, rech=rech_zone, ipakcb=53)"
   ]
  },
  {
   "cell_type": "markdown",
   "metadata": {},
   "source": [
    "## 10. Write inputs and run the model "
   ]
  },
  {
   "cell_type": "markdown",
   "metadata": {},
   "source": [
    "#### 10.1 Write Inputs"
   ]
  },
  {
   "cell_type": "code",
   "execution_count": 52,
   "metadata": {},
   "outputs": [],
   "source": [
    "m.write_input()    #uses the package objects created above to actually write the text files, \n",
    "                    #and saves to folder that this script is in\n",
    "                    #after this step you should see the files appear in your folder\n",
    "m2.write_input() "
   ]
  },
  {
   "cell_type": "markdown",
   "metadata": {},
   "source": [
    "#### 10.2 Run the model"
   ]
  },
  {
   "cell_type": "code",
   "execution_count": 53,
   "metadata": {},
   "outputs": [
    {
     "name": "stdout",
     "output_type": "stream",
     "text": [
      "FloPy is using the following  executable to run the model: C:/Users/Dalia/Documents/MF2005.1_12/bin/mf2005.exe\n",
      "\n",
      "                                  MODFLOW-2005     \n",
      "    U.S. GEOLOGICAL SURVEY MODULAR FINITE-DIFFERENCE GROUND-WATER FLOW MODEL\n",
      "                             Version 1.12.00 2/3/2017                        \n",
      "\n",
      " Using NAME file: RechargeMe.nam \n",
      " Run start date and time (yyyy/mm/dd hh:mm:ss): 2021/02/15 12:24:23\n",
      "\n",
      " Solving:  Stress period:     1    Time step:     1    Ground-Water Flow Eqn.\n",
      " Run end date and time (yyyy/mm/dd hh:mm:ss): 2021/02/15 12:24:23\n",
      " Elapsed run time:  0.023 Seconds\n",
      "\n",
      "  Normal termination of simulation\n"
     ]
    }
   ],
   "source": [
    "success, mfoutput = m.run_model(pause=False, report=True)\n",
    "if not success:\n",
    "    raise Exception('MODFLOW did not terminate normally.')"
   ]
  },
  {
   "cell_type": "code",
   "execution_count": 54,
   "metadata": {},
   "outputs": [
    {
     "name": "stdout",
     "output_type": "stream",
     "text": [
      "FloPy is using the following  executable to run the model: C:/Users/Dalia/Documents/MF2005.1_12/bin/mf2005.exe\n",
      "\n",
      "                                  MODFLOW-2005     \n",
      "    U.S. GEOLOGICAL SURVEY MODULAR FINITE-DIFFERENCE GROUND-WATER FLOW MODEL\n",
      "                             Version 1.12.00 2/3/2017                        \n",
      "\n",
      " Using NAME file: RecagarePorFa.nam \n",
      " Run start date and time (yyyy/mm/dd hh:mm:ss): 2021/02/15 12:24:24\n",
      "\n",
      " Solving:  Stress period:     1    Time step:     1    Ground-Water Flow Eqn.\n",
      " Run end date and time (yyyy/mm/dd hh:mm:ss): 2021/02/15 12:24:24\n",
      " Elapsed run time:  0.028 Seconds\n",
      "\n",
      "  Normal termination of simulation\n"
     ]
    }
   ],
   "source": [
    "success, mfoutput = m2.run_model(pause=False, report=True)\n",
    "if not success:\n",
    "    raise Exception('MODFLOW did not terminate normally.')"
   ]
  },
  {
   "cell_type": "markdown",
   "metadata": {},
   "source": [
    "## 11. Plot the results  "
   ]
  },
  {
   "cell_type": "markdown",
   "metadata": {},
   "source": [
    "#### 11.1 Read in the model outputs\n",
    "\n",
    "For information on binary files see: http://modflowpy.github.io/flopydoc/binaryfile.html \n",
    "\n",
    "For information on flow budget files see: \n",
    "http://modflowpy.github.io/flopydoc/binaryfile.html#flopy.utils.binaryfile.CellBudgetFile\n",
    "\n",
    "##### Read the heads "
   ]
  },
  {
   "cell_type": "code",
   "execution_count": 55,
   "metadata": {},
   "outputs": [],
   "source": [
    "headobj = bf.HeadFile(modelname+'.hds')    #reads the binary head file\n",
    "times = headobj.get_times()                #returns a list of timesteps\n",
    "head = headobj.get_data(totim=times[-1])        #returns a numpy array of heads for specified time (last timestep)\n",
    "\n",
    "#print('timesteps:', times)         \n",
    "#print('final head:', 'dimensions', np.shape(head), '\\n', head)    \n",
    "#print('initial head:', 'dimensions', np.shape(H_init), '\\n', H_init)\n",
    "#print('well fluxes:', 'dimensions', np.shape(fluxes), '\\n', fluxes)"
   ]
  },
  {
   "cell_type": "code",
   "execution_count": 56,
   "metadata": {},
   "outputs": [],
   "source": [
    "headobj2 = bf.HeadFile(modelnm+'.hds')\n",
    "tims = headobj2.get_times()  \n",
    "head2 = headobj2.get_data(totim=tims[-1])"
   ]
  },
  {
   "cell_type": "markdown",
   "metadata": {},
   "source": [
    "##### Write Heads as csv"
   ]
  },
  {
   "cell_type": "code",
   "execution_count": 57,
   "metadata": {},
   "outputs": [
    {
     "data": {
      "text/plain": [
       "\"with open('FP_heads.csv', 'w', newline='') as csvfile:  #creates an empty csv file called FP_heads\\n    writer = csv.writer(csvfile, delimiter=',')        \\n    for i in range(len(head[0,:,0])):                    #writes each row\\n        writer.writerow(head[0,i,:])\\n\\nwith open('Re_heads.csv', 'w', newline='') as csvfile:  #creates an empty csv file called FP_heads\\n    writer = csv.writer(csvfile, delimiter=',')        \\n    for i in range(len(head2[0,:,0])):                    #writes each row\\n        writer.writerow(head2[0,i,:])\""
      ]
     },
     "execution_count": 57,
     "metadata": {},
     "output_type": "execute_result"
    }
   ],
   "source": [
    "'''with open('FP_heads.csv', 'w', newline='') as csvfile:  #creates an empty csv file called FP_heads\n",
    "    writer = csv.writer(csvfile, delimiter=',')        \n",
    "    for i in range(len(head[0,:,0])):                    #writes each row\n",
    "        writer.writerow(head[0,i,:])\n",
    "\n",
    "with open('Re_heads.csv', 'w', newline='') as csvfile:  #creates an empty csv file called FP_heads\n",
    "    writer = csv.writer(csvfile, delimiter=',')        \n",
    "    for i in range(len(head2[0,:,0])):                    #writes each row\n",
    "        writer.writerow(head2[0,i,:])'''\n"
   ]
  },
  {
   "cell_type": "markdown",
   "metadata": {},
   "source": [
    "##### Read the Water Balance and use it to find distribution of fluxes along boundary"
   ]
  },
  {
   "cell_type": "code",
   "execution_count": 58,
   "metadata": {
    "tags": []
   },
   "outputs": [],
   "source": [
    "budgobj = bf.CellBudgetFile(modelname+'.cbc')   #reads the cell budget file    \n",
    "kstpkper_list = budgobj.get_kstpkper()          #returns a list of stress periods & timesteps\n",
    "frf = budgobj.get_data(text='flow right face', totim=1.0) #returns an array of flow rates for right face of cells\n",
    "fff = budgobj.get_data(text='flow front face', totim=1.0) #returns an array of flow rates for front face of cells     \n",
    "\n",
    "budgobj2 = bf.CellBudgetFile(modelnm+'.cbc')  \n",
    "kstpkper_lis = budgobj2.get_kstpkper() \n",
    "frf2 = budgobj2.get_data(text='flow right face', totim=1.0)\n",
    "fff2 = budgobj2.get_data(text='flow front face', totim=1.0)"
   ]
  },
  {
   "cell_type": "code",
   "execution_count": 59,
   "metadata": {},
   "outputs": [
    {
     "data": {
      "image/png": "[encoded data removed]",
      "text/plain": [
       "<Figure size 432x288 with 1 Axes>"
      ]
     },
     "metadata": {
      "needs_background": "light"
     },
     "output_type": "display_data"
    }
   ],
   "source": [
    "flux_vals=np.squeeze(frf)\n",
    "leftflux = flux_vals[:,0]\n",
    "rightflux = flux_vals[:,-2]\n",
    "cntrflux = flux_vals[:,12]\n",
    "\n",
    "flux_vals2=np.squeeze(frf2)\n",
    "leftflux2 = flux_vals2[:,0]\n",
    "rightflux2 = flux_vals2[:,-2]\n",
    "cntrflux2 = flux_vals2[:,12]\n",
    "\n",
    "bdryflux_fig = plt.figure() \n",
    "x=np.arange(0,ncol*dx,dx) \n",
    "#plt.plot(x,leftflux,marker='o', color='red', markersize=4, linestyle='-',label=\"left boundary\")\n",
    "#plt.plot(x,rightflux,marker='x', color='blue', markersize=4, linestyle='--',label=\"right boundary\")\n",
    "#plt.plot(x,cntrflux,marker='x', color='green', markersize=4, linestyle='--',label=\"center col\")\n",
    "plt.plot(x,leftflux2,marker='x', color='red', markersize=4, linestyle='--',label=\"left boundary\")\n",
    "plt.plot(x,rightflux2,marker='x', color='blue', markersize=4, linestyle='--',label=\"right boundary\")\n",
    "plt.plot(x,cntrflux2,marker='x', color='green', markersize=4, linestyle='--',label=\"center col\")\n",
    "\n",
    "plt.xlabel('Y location')\n",
    "plt.ylabel('Flow')\n",
    "plt.title(\"Boundary Flows\")\n",
    "plt.legend()\n",
    "plt.show()\n"
   ]
  },
  {
   "cell_type": "markdown",
   "metadata": {},
   "source": [
    "#### 11.2 Evaluate the head gradients"
   ]
  },
  {
   "cell_type": "code",
   "execution_count": 63,
   "metadata": {},
   "outputs": [
    {
     "name": "stdout",
     "output_type": "stream",
     "text": [
      "Head Gradient 0.004 m/m\n",
      "Head Gradient 0.004 m/m\n"
     ]
    },
    {
     "data": {
      "image/png": "[encoded data removed]",
      "text/plain": [
       "<Figure size 432x288 with 1 Axes>"
      ]
     },
     "metadata": {
      "needs_background": "light"
     },
     "output_type": "display_data"
    }
   ],
   "source": [
    "head_fig = plt.figure() \n",
    "x=np.arange(100,2600,100) \n",
    "y=head[0,12,:]\n",
    "y2=head2[0,12,:]\n",
    "#plt.plot(x,y,marker='o', color='orange', markersize=4, linestyle='--',) #label=\"H_20_10\"\n",
    "plt.plot(x,y2,marker='x', color='blue', markersize=4, linestyle='--',)\n",
    "plt.xlabel('X location')\n",
    "plt.ylabel('Head')\n",
    "plt.title(\"Head along row 12\")\n",
    "plt.legend(['H15_H5', 'rechrge+well'])\n",
    "#plt.axvline(x=1200)\n",
    "\n",
    "#Save figure\n",
    "#plt.savefig('Head_Transect3.png') #save figure as a png\n",
    "\n",
    "hgrad=(head[0,5,0]-head[0,5,-1])/Lx\n",
    "print(\"Head Gradient\", hgrad, \"m/m\") \n",
    "\n",
    "hgrad2=(head2[0,5,0]-head2[0,5,-1])/Lx\n",
    "print(\"Head Gradient\", hgrad2, \"m/m\")"
   ]
  },
  {
   "cell_type": "markdown",
   "metadata": {},
   "source": [
    "#### 11.3 3D plot of heads"
   ]
  },
  {
   "cell_type": "code",
   "execution_count": 36,
   "metadata": {},
   "outputs": [
    {
     "data": {
      "text/plain": [
       "\"#create 3d figure\\nfig_3d = plt.figure(figsize=(12,5))\\nax = fig_3d.gca(projection='3d')\\n\\n#set X, Y, Z variables for 3d plot to be our model domain and head solution\\nX = np.arange(0,Lx,dx)\\nY = np.arange(0,Ly,dy)\\nX, Y = np.meshgrid(X, Y)\\nZ = np.flipud(head[0])\\n\\n#create surface and labels\\nsurf = ax.plot_surface(X,Y,Z, cmap = 'viridis', linewidth=0, label='head')\\nfig_3d.colorbar(surf,shrink=0.5,aspect=5).set_label('Head (m)',fontsize=10,fontweight='bold')\\nax.set_xlabel('Lx (m)', fontsize=15, fontweight='bold')\\nax.set_ylabel('Ly (m)', fontsize=15, fontweight='bold')\\nax.set_title('Steady-State Model Head Profile', fontsize=15, fontweight='bold')\\n# plt.savefig('BoxModel_Surface1.png') \\n#plt.show(surf)\""
      ]
     },
     "execution_count": 36,
     "metadata": {},
     "output_type": "execute_result"
    }
   ],
   "source": [
    "'''#create 3d figure\n",
    "fig_3d = plt.figure(figsize=(12,5))\n",
    "ax = fig_3d.gca(projection='3d')\n",
    "\n",
    "#set X, Y, Z variables for 3d plot to be our model domain and head solution\n",
    "X = np.arange(0,Lx,dx)\n",
    "Y = np.arange(0,Ly,dy)\n",
    "X, Y = np.meshgrid(X, Y)\n",
    "Z = np.flipud(head[0])\n",
    "\n",
    "#create surface and labels\n",
    "surf = ax.plot_surface(X,Y,Z, cmap = 'viridis', linewidth=0, label='head')\n",
    "fig_3d.colorbar(surf,shrink=0.5,aspect=5).set_label('Head (m)',fontsize=10,fontweight='bold')\n",
    "ax.set_xlabel('Lx (m)', fontsize=15, fontweight='bold')\n",
    "ax.set_ylabel('Ly (m)', fontsize=15, fontweight='bold')\n",
    "ax.set_title('Steady-State Model Head Profile', fontsize=15, fontweight='bold')\n",
    "# plt.savefig('BoxModel_Surface1.png') \n",
    "#plt.show(surf)'''"
   ]
  },
  {
   "cell_type": "code",
   "execution_count": 62,
   "metadata": {},
   "outputs": [
    {
     "data": {
      "image/png": "[encoded data removed]",
      "text/plain": [
       "<Figure size 432x288 with 1 Axes>"
      ]
     },
     "metadata": {
      "needs_background": "light"
     },
     "output_type": "display_data"
    },
    {
     "data": {
      "image/png": "[encoded data removed]",
      "text/plain": [
       "<Figure size 432x288 with 2 Axes>"
      ]
     },
     "metadata": {
      "needs_background": "light"
     },
     "output_type": "display_data"
    },
    {
     "data": {
      "text/plain": [
       "\"fig3 = plt.figure(figsize=(10,10)) #create 10 x 10 figure\\nplt.xlabel('row',fontsize = 14)\\nplt.ylabel('column',fontsize = 14)\\nplt.title('K in top layer', fontsize = 15, fontweight = 'bold')\\nplt.contourf(K_vals[:,:,0])\\nplt.colorbar()\\nplt.show()\""
      ]
     },
     "execution_count": 62,
     "metadata": {},
     "output_type": "execute_result"
    }
   ],
   "source": [
    "#create 2d figure - note, axes relate to well being defined as layer, row, column, flux\n",
    "'''plt.contour(head[0])\n",
    "plt.xlabel(\"column\")\n",
    "plt.ylabel(\"row\")\n",
    "plt.title(\"Plan View Head Contours\")\n",
    "plt.show()'''\n",
    "\n",
    "plt.contour(head2[0])\n",
    "plt.xlabel(\"column\")\n",
    "plt.ylabel(\"row\")\n",
    "plt.gca().invert_yaxis()\n",
    "plt.title(\"Plan View Head Contours\")\n",
    "plt.show()\n",
    "#plt.savefig('HeadContours3.png')\n",
    "\n",
    "# calculate linear head drop\n",
    "bkgnd_head=np.linspace(20,10,25)\n",
    "bkgnd_head=np.tile(bkgnd_head,(25,1))\n",
    "plt.contourf(bkgnd_head-head2[0])\n",
    "plt.gca().invert_yaxis()\n",
    "plt.xlabel(\"column\")\n",
    "plt.ylabel(\"row\")\n",
    "plt.title(\"Plan View Drawdown\")\n",
    "plt.colorbar()\n",
    "plt.show()\n",
    "\n",
    "'''fig3 = plt.figure(figsize=(10,10)) #create 10 x 10 figure\n",
    "plt.xlabel('row',fontsize = 14)\n",
    "plt.ylabel('column',fontsize = 14)\n",
    "plt.title('K in top layer', fontsize = 15, fontweight = 'bold')\n",
    "plt.contourf(K_vals[:,:,0])\n",
    "plt.colorbar()\n",
    "plt.show()'''"
   ]
  },
  {
   "cell_type": "markdown",
   "metadata": {},
   "source": [
    "####  11.4 Contour Head plot"
   ]
  },
  {
   "cell_type": "code",
   "execution_count": 38,
   "metadata": {},
   "outputs": [
    {
     "data": {
      "text/plain": [
       "\"#plot first contour plot\\nfig1 = plt.figure(figsize=(10,10)) #create 10 x 10 figure\\nmodelmap = flopy.plot.PlotMapView(model=m, layer=0) #use modelmap to attach plot to model\\n#grid = modelmap.plot_grid() #plot model grid\\nqm = modelmap.plot_ibound()  \\ncontour_levels = np.linspace(head[0].min(),head[0].max(),11) #set contour levels for contouring head\\nhead_contours = modelmap.contour_array(head, levels=contour_levels) #create head contours\\nflows = modelmap.plot_discharge(frf[0], fff[0], head=head) #create discharge arrows\\n\\n#display parameters\\nplt.xlabel('Lx (m)',fontsize = 14)\\nplt.ylabel('Ly (m)',fontsize = 14)\\nplt.yticks([1, 500, 1000, 1500, 2000,2500], ['2500', '2000', '1500','1000','500','0'])\\nplt.title('Steady-State Model, Flow(m^3/d) and Head(m) Results', fontsize = 15, fontweight = 'bold')\\nplt.colorbar(head_contours,aspect=5)\\n# plt.savefig('BoxModel_vectors.png')   \\n#plt.show(modelmap)\""
      ]
     },
     "execution_count": 38,
     "metadata": {},
     "output_type": "execute_result"
    }
   ],
   "source": [
    "'''#plot first contour plot\n",
    "fig1 = plt.figure(figsize=(10,10)) #create 10 x 10 figure\n",
    "modelmap = flopy.plot.PlotMapView(model=m, layer=0) #use modelmap to attach plot to model\n",
    "#grid = modelmap.plot_grid() #plot model grid\n",
    "qm = modelmap.plot_ibound()  \n",
    "contour_levels = np.linspace(head[0].min(),head[0].max(),11) #set contour levels for contouring head\n",
    "head_contours = modelmap.contour_array(head, levels=contour_levels) #create head contours\n",
    "flows = modelmap.plot_discharge(frf[0], fff[0], head=head) #create discharge arrows\n",
    "\n",
    "#display parameters\n",
    "plt.xlabel('Lx (m)',fontsize = 14)\n",
    "plt.ylabel('Ly (m)',fontsize = 14)\n",
    "plt.yticks([1, 500, 1000, 1500, 2000,2500], ['2500', '2000', '1500','1000','500','0'])\n",
    "plt.title('Steady-State Model, Flow(m^3/d) and Head(m) Results', fontsize = 15, fontweight = 'bold')\n",
    "plt.colorbar(head_contours,aspect=5)\n",
    "# plt.savefig('BoxModel_vectors.png')   \n",
    "#plt.show(modelmap)'''"
   ]
  },
  {
   "cell_type": "code",
   "execution_count": 50,
   "metadata": {},
   "outputs": [
    {
     "data": {
      "text/plain": [
       "<matplotlib.colorbar.Colorbar at 0x28ac98243d0>"
      ]
     },
     "execution_count": 50,
     "metadata": {},
     "output_type": "execute_result"
    },
    {
     "data": {
      "image/png": "[encoded data removed]",
      "text/plain": [
       "<Figure size 720x720 with 2 Axes>"
      ]
     },
     "metadata": {
      "needs_background": "light"
     },
     "output_type": "display_data"
    }
   ],
   "source": [
    "'''fig2 = plt.figure(figsize=(10,10)) #create 10 x 10 figure\n",
    "modelmap2 = flopy.plot.PlotMapView(model=m2, layer=0)\n",
    "qm2 = modelmap2.plot_ibound()  \n",
    "contour_levels2 = np.linspace(head2[0].min(),head2[0].max(),11) #set contour levels for contouring head\n",
    "head_contours2 = modelmap2.contour_array(head2, levels=contour_levels2) #create head contours\n",
    "flows2 = modelmap2.plot_discharge(frf2[0], fff2[0], head=head2) #create discharge arrows\n",
    "\n",
    "#display parameters\n",
    "plt.xlabel('Lx (m)',fontsize = 14)\n",
    "plt.ylabel('Ly (m)',fontsize = 14)\n",
    "plt.yticks([1, 500, 1000, 1500, 2000,2500], ['2500', '2000', '1500','1000','500','0'])\n",
    "plt.title('Steady-State Model, Flow(m^3/d) and Head(m) Results', fontsize = 15, fontweight = 'bold')\n",
    "plt.colorbar(head_contours2,aspect=5)\n",
    "#plt.savefig('BoxModel_vectors3.png')   \n",
    "#plt.show(modelmap)'''"
   ]
  },
  {
   "cell_type": "code",
   "execution_count": null,
   "metadata": {},
   "outputs": [],
   "source": []
  }
 ],
 "metadata": {
  "kernelspec": {
   "display_name": "Python 3",
   "language": "python",
   "name": "python3"
  },
  "language_info": {
   "codemirror_mode": {
    "name": "ipython",
    "version": 3
   },
   "file_extension": ".py",
   "mimetype": "text/x-python",
   "name": "python",
   "nbconvert_exporter": "python",
   "pygments_lexer": "ipython3",
   "version": "3.8.5"
  }
 },
 "nbformat": 4,
 "nbformat_minor": 4
}
