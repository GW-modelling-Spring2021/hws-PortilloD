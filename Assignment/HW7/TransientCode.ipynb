{
 "cells": [
  {
   "cell_type": "markdown",
   "id": "moderate-walnut",
   "metadata": {},
   "source": [
    "# Transient"
   ]
  },
  {
   "cell_type": "markdown",
   "id": "cooperative-wrist",
   "metadata": {},
   "source": [
    "#### Dimensions:\n",
    "50 by 50 by 1\n",
    "dx = dy = 10 m\n",
    "dz = 50 m\n",
    "the model is unconfined\n",
    "#### Subsurface Properties:\n",
    "Homogeneous\n",
    "K = 0.1 m/day in x, y and z\n",
    "Porosity = 0.35\n",
    "Specific yield = 0.3\n",
    "Storage coefficient=0.001\n",
    "#### Boundary Conditions:\n",
    "Right boundary is a constant head of 30 m relative to the datum, which is located at the bottom of the domain.\n",
    "Left boundary is a constant head of 50 m relative to the datum, which is located at the bottom of the domain.\n",
    "Recharge occurs at a rate of 1E-5 m/d uniformly across the domain\n",
    "There is no ET in the domain\n"
   ]
  },
  {
   "cell_type": "markdown",
   "id": "graduate-wealth",
   "metadata": {},
   "source": [
    "#### Initial Conditions:\n",
    "Set the initial head to 50 everywhere, which will be replaced by the initial steady state solution\n",
    "#### Pumpinmg\n",
    "Well located at row, column 20,20\n",
    "There is no pumping during the initial steady state period\n",
    "Case 1: pumps at a rate of 500 m3/d for 90 days, then zero for remaining 270 days of the year for 100 years. (Assume a 360 day year made of 12 30-day months for simplicity of plotting.)\n",
    "### The Challenges\n",
    "The gradient is not uniform for the initial steady state conditions - discuss the influences of recharge and the unconfined condition on this nonlinearity\n",
    "\n",
    "Determine if the system has reached steady state - consider a point at the well and another at the center of the domain.\n",
    "Find the zone of influence of the well defined in two ways:\n",
    "Based on the drawdown from the initial steady state to the end of simulation time (end of final no-pumping stress period).\n",
    "Based on the drawdown from the end of the last pump-on stress period to the end of simulation time.\n",
    "\n",
    "How long does it take a point at the center of the domain to reach steady state. At that point, explain how you could divide the domain into a steady and transient part and solve each separately.\n",
    "\n",
    "Find a constant pumping rate (same throughout the year) that matches the head time series at the middle of the domain.\n",
    "\n",
    "Find a constant pumping rate (same throughout the year) that matches the head time series at the well, leaving only a regular, repeating seasonal residual. Are the two pumping rates the same?\n",
    "\n",
    "Discuss the sources of water captured by this well. If you're up for a challenge, calculate them for the final pump-on period!\n",
    "\n",
    "Discuss how you would define the capture zone of the well. How is it different than our definitions of capture zone so far in the course?"
   ]
  },
  {
   "cell_type": "markdown",
   "id": "posted-thermal",
   "metadata": {},
   "source": [
    "### 1. Setup the environment"
   ]
  },
  {
   "cell_type": "code",
   "execution_count": null,
   "id": "seven-buddy",
   "metadata": {},
   "outputs": [],
   "source": [
    "#import the basics\n",
    "import flopy\n",
    "import numpy as np\n",
    "import matplotlib as mp\n",
    "import os\n",
    "import pandas as pd\n",
    "\n",
    "#additional analysis tools\n",
    "import flopy.utils.binaryfile as bf\n",
    "from mpl_toolkits.mplot3d import Axes3D\n",
    "import matplotlib.pyplot as plt\n",
    "from matplotlib import cm\n",
    "from matplotlib.ticker import LinearLocator, FormatStrFormatter\n",
    "import csv\n",
    "\n",
    "#jupyter specific--included to show plots in notebook\n",
    "%matplotlib inline"
   ]
  },
  {
   "cell_type": "markdown",
   "id": "solar-majority",
   "metadata": {},
   "source": [
    "### 2. Create the model object"
   ]
  },
  {
   "cell_type": "code",
   "execution_count": null,
   "id": "confused-aquarium",
   "metadata": {},
   "outputs": [],
   "source": [
    "modelname = \"Transient\"\n",
    "moddir=r\"C:\\Users\\Quilson2\\OneDrive\\Documents\\SPRING21\\582-GWMod\\Course_Materials\\Assignments\\mf2005\"\n",
    "m = flopy.modflow.Modflow(modelname, exe_name = moddir)"
   ]
  },
  {
   "cell_type": "code",
   "execution_count": null,
   "id": "executed-racing",
   "metadata": {},
   "outputs": [],
   "source": [
    "modelname2 = \"Transient_test\"\n",
    "moddir=r\"C:\\Users\\Quilson2\\OneDrive\\Documents\\SPRING21\\582-GWMod\\Course_Materials\\Assignments\\mf2005\"\n",
    "m2 = flopy.modflow.Modflow(modelname2, exe_name = moddir)"
   ]
  },
  {
   "cell_type": "code",
   "execution_count": null,
   "id": "loved-content",
   "metadata": {},
   "outputs": [],
   "source": [
    "#optional delete old run files\n",
    "run = 'n'\n",
    "if run == 'y':\n",
    "    # file_extensions = ['.dis','.bas','.lpf','.oc','.pcg','.wel']\n",
    "    file_extensions = ['.dis','.bas','.bcf','.oc','.pcg', '.wel', 'rch','evt']\n",
    "    for ext in file_extensions:\n",
    "        os.remove(modelname + ext)\n",
    "        os.remove(modelname2 + ext)"
   ]
  },
  {
   "cell_type": "markdown",
   "id": "later-madrid",
   "metadata": {},
   "source": [
    "### 3. Setup the discretization (DIS package)\n",
    "For more details on DIS package inputs refer to : https://flopy.readthedocs.io/en/3.3.2/source/flopy.modflow.mfdis.html\n",
    "\n",
    "##### 3.1 Spatial discretization"
   ]
  },
  {
   "cell_type": "code",
   "execution_count": null,
   "id": "sought-intermediate",
   "metadata": {},
   "outputs": [],
   "source": [
    "\n",
    "nrow = 50 #number of rows\n",
    "ncol = 50 #number of columns\n",
    "nlay = 1  #number of layers\n",
    "\n",
    "dx= 10 #width of grid cells in x direction \n",
    "dy= 10 #width of grid cells in y direction \n",
    "\n",
    "Lx = ncol*dx  #width of domain in x\n",
    "Ly = nrow*dy #width of domain in y\n",
    "ztop = 50.    #top elevation \n",
    "zbot = 0.     #bottom elevation\n",
    "\n",
    "dz = (ztop - zbot) / nlay #cell height in z direction\n",
    "\n",
    "domain_centerpt = (0, int(nrow/2), int(ncol/2))   # used for plotting"
   ]
  },
  {
   "cell_type": "markdown",
   "id": "answering-border",
   "metadata": {},
   "source": [
    "##### 3.2 Temporal discretization"
   ]
  },
  {
   "cell_type": "code",
   "execution_count": null,
   "id": "significant-floor",
   "metadata": {},
   "outputs": [],
   "source": [
    "nper = 1 #number of stress periods \n",
    "nper0 = 0\n",
    "steady = [True] #list noting the stress period type\n",
    "\n",
    "\n",
    "sp_peryr = 2                            # periods for seasonality (two stress periods per year)\n",
    "sp1_len = 90                            # Length of stress period 1 in days\n",
    "sp2_len = 360-sp1_len                   # Length of stress period 2 in days\n",
    "sim_years = 100                         # number of years for transient simulation \n",
    "nper = int(sp_peryr*sim_years + 1)      # total number of stress periods the +1 is for the steady state start\n",
    "\n",
    "#setup the steady state array\n",
    "steady = np.ones(nper, dtype=bool)*False     # steady-state or transient flag for each stress period (boolean array)\n",
    "steady[0] = True                 # initial stress period is steady-state\n",
    "\n",
    "#make an array of period lengths\n",
    "perlen=np.tile([sp1_len, sp2_len],sim_years)\n",
    "perlen=np.append(10,perlen) #add a period of length 10 at the start for the steady state simulation\n",
    "\n",
    "nstp=perlen/30       # set monthly time steps per stress period to get monthly results\n",
    "nstp[0]=1            #for the steady state solution we just want one output\n",
    "nstp = nstp.astype(int)\n",
    "\n",
    "elyears = (np.cumsum(perlen)-perlen[0])/360"
   ]
  },
  {
   "cell_type": "markdown",
   "id": "coupled-anatomy",
   "metadata": {},
   "source": [
    "##### 3.3 Create DIS object"
   ]
  },
  {
   "cell_type": "code",
   "execution_count": null,
   "id": "unavailable-motorcycle",
   "metadata": {},
   "outputs": [],
   "source": [
    "#create flopy discretization object, length and time are meters (2) and days (4)\n",
    "dis = flopy.modflow.ModflowDis(model=m, nlay=nlay, nrow=nrow, ncol=ncol, \n",
    "                               delr=dx, delc=dy, top=ztop, botm=zbot, \n",
    "                               itmuni = 4, lenuni = 2, \n",
    "                               nper=nper, steady=steady)"
   ]
  },
  {
   "cell_type": "code",
   "execution_count": null,
   "id": "willing-disability",
   "metadata": {},
   "outputs": [],
   "source": [
    "dis2 = flopy.modflow.ModflowDis(model=m2, nlay=nlay, nrow=nrow, ncol=ncol, \n",
    "                               delr=dx, delc=dy, top=ztop, botm=zbot, \n",
    "                               itmuni = 4, lenuni = 2, \n",
    "                               nper=nper, steady=steady)"
   ]
  },
  {
   "cell_type": "markdown",
   "id": "integrated-agenda",
   "metadata": {},
   "source": [
    "##### 3.4 Plot the grid\n",
    "For help on this function see: https://flopy.readthedocs.io/en/3.3.2/source/flopy.plot.plotutil.html"
   ]
  },
  {
   "cell_type": "code",
   "execution_count": null,
   "id": "banner-index",
   "metadata": {},
   "outputs": [],
   "source": [
    "#use flopy to plot the grid of model 'm'\n",
    "modelmap = flopy.plot.PlotMapView(model=m, layer=0)\n",
    "grid = modelmap.plot_grid() \n",
    "plt.xlabel('Lx (m)',fontsize = 14)\n",
    "plt.ylabel('Ly (m)',fontsize = 14)\n",
    "plt.title('Grid', fontsize = 15, fontweight = 'bold')\n",
    "plt.show()"
   ]
  },
  {
   "cell_type": "markdown",
   "id": "robust-integration",
   "metadata": {},
   "source": [
    "\n",
    "### 4. Setup constant head boundaries, active cells and initial heads (BAS Package)\n",
    "For more details on the BAS package see: https://flopy.readthedocs.io/en/3.3.2/source/flopy.modflow.mfbas.html\n",
    "\n",
    "##### 4.1 Define cell activity: IBOUND"
   ]
  },
  {
   "cell_type": "code",
   "execution_count": null,
   "id": "moral-arabic",
   "metadata": {},
   "outputs": [],
   "source": [
    "#create ibound as array of ints = 1\n",
    "ibound = np.ones((nlay, nrow, ncol), dtype=np.int32) #integer array of dim (z,y,x), makes all cells active     \n",
    "ibound2 = np.ones((nlay, nrow, ncol), dtype=np.int32)\n",
    "\n",
    "#set constant head boundary on the left\n",
    "ibound[:,:,0] = -1          #replace leftmost column (all zs, all ys, first x) with -1 to indicate constant head \n",
    "ibound[:,:,-1] = -1          #replace leftmost column (all zs, all ys, first x) with -1 to indicate constant head"
   ]
  },
  {
   "cell_type": "markdown",
   "id": "boring-coral",
   "metadata": {},
   "source": [
    "##### 4.2 Define starting head"
   ]
  },
  {
   "cell_type": "code",
   "execution_count": null,
   "id": "virtual-teacher",
   "metadata": {},
   "outputs": [],
   "source": [
    "#setup initial heads as 70 everywhere, this value will be preserved on constant head boundaries  \n",
    "H_init = np.ones((nlay, nrow, ncol), dtype=np.float32)  #float array (i.e. decimal), sets all heads to 1.0\n",
    "H_init[:, :, :] = 50    # set all values to uniform initial condition\n",
    "H_init[:, :, -1] = 30    #replace last (left) col with desired head value"
   ]
  },
  {
   "cell_type": "markdown",
   "id": "another-trace",
   "metadata": {},
   "source": [
    "##### 4.3 Create BAS object"
   ]
  },
  {
   "cell_type": "code",
   "execution_count": null,
   "id": "stylish-coordinator",
   "metadata": {},
   "outputs": [],
   "source": [
    "#create flopy bas object\n",
    "bas = flopy.modflow.ModflowBas(m, ibound=ibound, strt=H_init)\n",
    "bas2 = flopy.modflow.ModflowBas(m2, ibound=ibound, strt=H_init)"
   ]
  },
  {
   "cell_type": "code",
   "execution_count": null,
   "id": "isolated-cooling",
   "metadata": {},
   "outputs": [],
   "source": [
    "#plot grid and ibound\n",
    "modelmap = flopy.plot.PlotMapView(model=m, layer=0)\n",
    "grid = modelmap.plot_grid()\n",
    "ib = modelmap.plot_ibound()\n",
    "#add labels and legend\n",
    "plt.xlabel('Lx (m)',fontsize = 14)\n",
    "plt.ylabel('Ly (m)',fontsize = 14)\n",
    "plt.title('Ibound', fontsize = 15, fontweight = 'bold')\n",
    "plt.legend(handles=[mp.patches.Patch(color='blue',label='Const. Head',ec='black'),\n",
    "                   mp.patches.Patch(color='white',label='Active Cell',ec='black'),\n",
    "                   mp.patches.Patch(color='black',label='Inactive Cell',ec='black')],\n",
    "                   bbox_to_anchor=(1.5,1.0))\n",
    "plt.show(modelmap)\n",
    "\n",
    "\n",
    "# I'm not sure why this stopped working!  Can someone figure out why the right boundary doesn't show up as constant head??"
   ]
  },
  {
   "cell_type": "markdown",
   "id": "logical-upset",
   "metadata": {},
   "source": [
    "### 5. Setup Layer Properties (LPF Package)\n",
    "For more details on LPF package see: https://flopy.readthedocs.io/en/3.3.2/source/flopy.modflow.mflpf.html\n",
    "\n",
    "##### 5.1 Set layer properties"
   ]
  },
  {
   "cell_type": "code",
   "execution_count": null,
   "id": "arctic-fellowship",
   "metadata": {},
   "outputs": [],
   "source": [
    "K_horiz = .1    #horizontal hydraulic conductivity \n",
    "K_vert = .1     #assign vertical hydraulic conductivity (along z axis)\n",
    "n = 0.35        #assign porosity\n",
    "Ss = 0.001      #assign storage coefficient\n",
    "Sy = 0.03       #assign specific yield\n",
    "uncnf = 0       #0=confined, >0 = unconfined"
   ]
  },
  {
   "cell_type": "markdown",
   "id": "spare-cleanup",
   "metadata": {},
   "source": [
    "##### 5.2 Make LPF object"
   ]
  },
  {
   "cell_type": "code",
   "execution_count": null,
   "id": "dependent-blues",
   "metadata": {},
   "outputs": [],
   "source": [
    "\n",
    "# kept in case you want to use it later\n",
    "\n",
    "#assigns horizontal and vertical Ks and saves cell-by-cell budget data\n",
    "# lpf = flopy.modflow.ModflowLpf(m, laytyp=uncnf, hk=K_horiz, \n",
    "#                                vka=K_vert, ss=Ss,\n",
    "#                                sy=Sy,storagecoefficient=True, ipakcb=53)"
   ]
  },
  {
   "cell_type": "markdown",
   "id": "otherwise-annotation",
   "metadata": {},
   "source": [
    "### 5b. Setup Cell-byCell Properties (BCF Package)\n",
    "For more details on LPF package see: https://flopy.readthedocs.io/en/3.3.2/source/flopy.modflow.mfbcf.html\n",
    "\n",
    "##### 5b.1 Set cell properties and show K in top layer"
   ]
  },
  {
   "cell_type": "code",
   "execution_count": null,
   "id": "superb-trainer",
   "metadata": {},
   "outputs": [],
   "source": [
    "K_vals = np.zeros((ncol,nrow,nlay))\n",
    "K_vals[:,:,:] = 1             # homoogeneous background hydraulic conductivity \n",
    "#K_vals[10:15,10:15,:] = 0.1   # low K inclusion\n",
    "\n",
    "#plot K values in top layer\n",
    "fig1 = plt.figure(figsize=(10,10)) #create 10 x 10 figure\n",
    "plt.xlabel('Lx (m)',fontsize = 14)\n",
    "plt.ylabel('Ly (m)',fontsize = 14)\n",
    "plt.title('K in top layer', fontsize = 15, fontweight = 'bold')\n",
    "plt.contourf(K_vals[:,:,0])\n",
    "plt.colorbar()\n",
    "plt.show()"
   ]
  },
  {
   "cell_type": "markdown",
   "id": "strange-surfing",
   "metadata": {},
   "source": [
    "##### 5b.2 Make BCF object"
   ]
  },
  {
   "cell_type": "code",
   "execution_count": null,
   "id": "quantitative-raising",
   "metadata": {},
   "outputs": [],
   "source": [
    "#assigns horizontal and vertical Ks and saves cell-by-cell budget data\n",
    "bcf = flopy.modflow.ModflowBcf(m, ipakcb=53, intercellt=0, laycon=3, trpy=1.0, hdry=-1e+30, iwdflg=0, wetfct=0.1, iwetit=1, ihdwet=0, tran=1.0, hy=K_vals[:,:,0], vcont=1.0, sf1=Ss, sf2=Sy, wetdry=-0.01, extension='bcf', unitnumber=None, filenames=None)\n",
    "bcf2 = flopy.modflow.ModflowBcf(m2, ipakcb=53, intercellt=0, laycon=3, trpy=1.0, hdry=-1e+30, iwdflg=0, wetfct=0.1, iwetit=1, ihdwet=0, tran=1.0, hy=K_vals[:,:,0], vcont=1.0, sf1=Ss, sf2=Sy, wetdry=-0.01, extension='bcf', unitnumber=None, filenames=None)"
   ]
  },
  {
   "cell_type": "markdown",
   "id": "eight-rabbit",
   "metadata": {},
   "source": [
    "### 6. Setup outputs by stress period (OC Package)\n",
    "For more details on OC Package: https://flopy.readthedocs.io/en/3.3.2/source/flopy.modflow.mfoc.html\n",
    "\n",
    "##### 6.1 Setup outputs"
   ]
  },
  {
   "cell_type": "code",
   "execution_count": null,
   "id": "potential-ethnic",
   "metadata": {},
   "outputs": [],
   "source": [
    "#create oc stress period data - save for each time step in each stress period. \n",
    "oc_spd = {}\n",
    "for kper in range(nper):  \n",
    "    for kstp in range(nstp[kper]):\n",
    "        #print(kstp)\n",
    "        oc_spd[(kper, kstp)] = ['save head','save drawdown','save budget','print head','print budget']"
   ]
  },
  {
   "cell_type": "markdown",
   "id": "adjacent-grounds",
   "metadata": {},
   "source": [
    "##### 6.2 Make OC object"
   ]
  },
  {
   "cell_type": "code",
   "execution_count": null,
   "id": "auburn-progress",
   "metadata": {},
   "outputs": [],
   "source": [
    "oc = flopy.modflow.ModflowOc(model=m, stress_period_data=oc_spd, compact=True)\n",
    "oc2 = flopy.modflow.ModflowOc(model=m2, stress_period_data=oc_spd, compact=True)"
   ]
  },
  {
   "cell_type": "markdown",
   "id": "united-subsection",
   "metadata": {},
   "source": [
    "### 7. Set the numerical solver (PCG Package)\n",
    "We are using the Preconditioned Conjugate Gradient package:\n",
    "\n",
    "Additionally, MODFLOW online describes these solvers: https://water.usgs.gov/ogw/modflow/MODFLOW-2005-Guide/index.html?oc.htm\n",
    "\n",
    "And Flopy documents its communication with the PCG MODFLOW package: http://modflowpy.github.io/flopydoc/mfpcg.html\n",
    "\n",
    "##### 7.1 Make the PCG object"
   ]
  },
  {
   "cell_type": "code",
   "execution_count": null,
   "id": "relative-values",
   "metadata": {},
   "outputs": [],
   "source": [
    "pcg = flopy.modflow.ModflowPcg(model=m)\n",
    "pcg2 = flopy.modflow.ModflowPcg(model=m2)"
   ]
  },
  {
   "cell_type": "markdown",
   "id": "domestic-disclosure",
   "metadata": {},
   "source": [
    "### 8. Add wells for the constant flux boundary (WEL Package)\n",
    "For more details on the WEL package see: http://modflowpy.github.io/flopydoc/mfwel.html\n",
    "\n",
    "##### 8.1 Setup the well parameters (use this to set a defined flux boundary)"
   ]
  },
  {
   "cell_type": "code",
   "execution_count": null,
   "id": "assumed-burden",
   "metadata": {},
   "outputs": [],
   "source": [
    "#Setup alternating pumping values\n",
    "well_loc = [0, 20, 20]\n",
    "Q1 = 0\n",
    "Q2 = -500\n",
    "Q_val=np.tile([Q2, Q1],sim_years)\n",
    "Q_val=np.append(0,Q_val) # add a period of length 10 at the start for the steady state simulation\n",
    "                      \n",
    "Q = {}\n",
    "for p in range(0,nper):    #loop over stress periods\n",
    "    Q[p]=Q_val[p]\n",
    "\n",
    "well_spd = {}                                                                  # create empty dictionary for well info\n",
    "for per in range(nper):                                                        # transient models, iterate over stress periods to assign well stresses\n",
    "    well_spd[per] = [[well_loc[0], well_loc[1], well_loc[2], Q_val[per]]]      # assign well coord & pump rate for each stress period\n",
    "    \n",
    "    \n",
    "Q3 = -225\n",
    "#Q3_val=np.tile(Q3,sim_years)\n",
    "                        #total flow crossing right boundary (m3/day)\n",
    "'''fluxes = [0,20,20,Q3]\n",
    "\n",
    "sp_fluxes = {0: fluxes}              #create a dictionary with entries for each stress period\n",
    "'''\n",
    "\n",
    "Q3_val=np.tile(Q3,sim_years)\n",
    "Q3_val=np.append(0,Q3_val) # add a period of length 10 at the start for the steady state simulation\n",
    "                      \n",
    "Q3 = {}\n",
    "for p in range(0,1):    #loop over stress periods\n",
    "    Q3[p]=Q3_val[p]\n",
    "\n",
    "well_spd2 = {}                                                                  # create empty dictionary for well info\n",
    "for per in range(0,1):                                                        # transient models, iterate over stress periods to assign well stresses\n",
    "    well_spd2[per] = [[well_loc[0], well_loc[1], well_loc[2], Q3_val[per]]]   "
   ]
  },
  {
   "cell_type": "markdown",
   "id": "usual-bench",
   "metadata": {},
   "source": [
    "##### 8.2 Make the WEL object"
   ]
  },
  {
   "cell_type": "code",
   "execution_count": null,
   "id": "indian-quest",
   "metadata": {},
   "outputs": [],
   "source": [
    "wel = flopy.modflow.mfwel.ModflowWel(m, stress_period_data=well_spd)  #create object for WEL package\n",
    "wel2 = flopy.modflow.mfwel.ModflowWel(m2, stress_period_data=well_spd2)"
   ]
  },
  {
   "cell_type": "markdown",
   "id": "confirmed-public",
   "metadata": {},
   "source": [
    "### 9. Add recharge (RCH Package)\n",
    "For more details on the WEL package see: http://modflowpy.github.io/flopydoc/mfrch.html\n",
    "\n",
    "##### 9.1 Setup recharge value"
   ]
  },
  {
   "cell_type": "code",
   "execution_count": null,
   "id": "manufactured-conviction",
   "metadata": {},
   "outputs": [],
   "source": [
    "#Recharge \n",
    "rech_zone = np.zeros((nrow,ncol))               #define an array of zeros of dim (nrow,ncol) - backgroun ET is zero everywhere\n",
    "recharge = 5e-4 #m/day                          \n",
    "#rech_zone[10:20,10:20] = recharge\n",
    "\n",
    "\n",
    "rch = flopy.modflow.mfrch.ModflowRch(model=m, rech=rech_zone, ipakcb=53)     #create rch object\n",
    "rch2 = flopy.modflow.mfrch.ModflowRch(model=m2, rech=rech_zone, ipakcb=53)     #create rch object"
   ]
  },
  {
   "cell_type": "markdown",
   "id": "proof-holly",
   "metadata": {},
   "source": [
    "#####  9.2 Add evapotranspiration"
   ]
  },
  {
   "cell_type": "code",
   "execution_count": null,
   "id": "conditional-tragedy",
   "metadata": {},
   "outputs": [],
   "source": [
    "'''# ET - this is set up to show how you would add time-varying recharge in a localized area\n",
    "ET_val1 = 0 #m/day\n",
    "ET_val2 = 0.01 #m/day\n",
    "ET_locxy=[[400, 900], [1500, 1600]] #lower left and upper right corners of ET in xy coordinate\n",
    "extinction_depth = 50\n",
    "\n",
    "ET_rows=(np.floor(nrow-ET_locxy[1][1]/dy),np.floor(nrow-ET_locxy[0][1]/dy)) #convert the y locations to rows\n",
    "ET_cols=(np.floor(ET_locxy[0][0]/dx),np.floor(ET_locxy[1][0]/dx)) #convert the y locations to rows\n",
    "ET_centerpt=(0, int(np.mean(ET_rows)),int(np.mean(ET_cols)))\n",
    "ET_zone = np.zeros((nlay,nrow,ncol))     # define an array of zeroes the size of the model grid\n",
    "ET_zone[0,int(ET_rows[0]):int(ET_rows[1]), int(ET_cols[0]):int(ET_cols[1])] = ET_val2  # assign ET rate to the ET zone\n",
    "\n",
    "#Setup alternating ET values\n",
    "ET_val=np.tile([ET_val1, ET_val2],sim_years)\n",
    "ET_val=np.append(ET_val1,ET_val) # add a period of length 10 at the start for the steady state simulation\n",
    "                      \n",
    "ET = {}\n",
    "for p in range(0,nper):    #loop over stress periods\n",
    "    ET[p]=ET_zone*ET_val[p]\n",
    "\n",
    "evt = flopy.modflow.mfevt.ModflowEvt(m, surf=ztop, evtr=ET, exdp=extinction_depth, ipakcb=53)'''"
   ]
  },
  {
   "cell_type": "markdown",
   "id": "checked-reserve",
   "metadata": {},
   "source": [
    "### 10. Write inputs and run the model\n",
    "##### 10.1 Write Inputs"
   ]
  },
  {
   "cell_type": "code",
   "execution_count": null,
   "id": "going-queensland",
   "metadata": {},
   "outputs": [],
   "source": [
    "m.write_input()    #uses the package objects created above to actually write the text files, \n",
    "                    #and saves to folder that this script is in\n",
    "                    #after this step you should see the files appear in your folder\n",
    "        \n",
    "m2.write_input()"
   ]
  },
  {
   "cell_type": "markdown",
   "id": "damaged-talent",
   "metadata": {},
   "source": [
    "##### 10.2 Run the model"
   ]
  },
  {
   "cell_type": "code",
   "execution_count": null,
   "id": "organic-sierra",
   "metadata": {},
   "outputs": [],
   "source": [
    "success, mfoutput = m.run_model(pause=False, report=True)\n",
    "if not success:\n",
    "    raise Exception('MODFLOW did not terminate normally.')"
   ]
  },
  {
   "cell_type": "code",
   "execution_count": null,
   "id": "distinguished-webster",
   "metadata": {},
   "outputs": [],
   "source": [
    "success, mfoutput = m2.run_model(pause=False, report=True)\n",
    "if not success:\n",
    "    raise Exception('MODFLOW did not terminate normally.')"
   ]
  },
  {
   "cell_type": "markdown",
   "id": "modified-stanford",
   "metadata": {},
   "source": [
    "### 11. Plot the results\n",
    "#### 11.1 Read in the model outputs\n",
    "For information on binary files see: http://modflowpy.github.io/flopydoc/binaryfile.html\n",
    "\n",
    "For information on flow budget files see: http://modflowpy.github.io/flopydoc/binaryfile.html#flopy.utils.binaryfile.CellBudgetFile"
   ]
  },
  {
   "cell_type": "code",
   "execution_count": null,
   "id": "finnish-dealing",
   "metadata": {},
   "outputs": [],
   "source": [
    "''''budgobj = bf.CellBudgetFile(modelname+'.cbc')\n",
    "rec_list = budgobj.list_records() \n",
    "\n",
    "budgobj2 = bf.CellBudgetFile(modelname2+'.cbc')\n",
    "rec_list2 = budgobj2.list_records() '''"
   ]
  },
  {
   "cell_type": "code",
   "execution_count": null,
   "id": "removable-affiliate",
   "metadata": {},
   "outputs": [],
   "source": [
    "# Read the heads \n",
    "headobj = bf.HeadFile(modelname+'.hds')    #reads the binary head file\n",
    "times = headobj.get_times()                #returns a list of timesteps\n",
    "head = headobj.get_data\n",
    "\n",
    "hds_yr = bf.HeadFile(modelname2+'.hds')                   # reads the binary head file\n",
    "time_yr = hds_yr.get_times()                              # returns a list of timesteps\n",
    "head2 = hds_yr.get_data()\n",
    "\n",
    "#extract binary data from head file\n",
    "head = {} #create dictionary to store head data at end of each stress period\n",
    "frf = {} #create dictionary to store flows through right cell face at end of each stress period\n",
    "fff = {} #create dictionary to store flows through front cell face at end of each stress period\n",
    "headobj = flopy.utils.binaryfile.HeadFile(modelname+'.hds') #get head data as python object\n",
    "budgobj = flopy.utils.binaryfile.CellBudgetFile(modelname+'.cbc') #get flow data as python object\n",
    "\n",
    "\n",
    "head2 = {}\n",
    "headobjs = flopy.utils.binaryfile.HeadFile(modelname2+'.hds')\n",
    "\n",
    "#get data from python objects\n",
    "#head2 = []\n",
    "headarray=np.zeros((len(times),ncol,nrow))\n",
    "frf=np.zeros((len(times),ncol,nrow))\n",
    "fff=np.zeros((len(times),ncol,nrow))\n",
    "rowcounter=-1\n",
    "for i in times:\n",
    "    rowcounter+=1\n",
    "    temphead = headobj.get_data(totim=i) #append heads to head list for each stress per\n",
    "    headarray[rowcounter,:,:] = temphead\n",
    "    tempfrf = np.squeeze(budgobj.get_data(text='flow right face',totim=i))\n",
    "    # print(tempfrf)\n",
    "    frf[rowcounter,:,:] = tempfrf\n",
    "    tempfff = np.squeeze(budgobj.get_data(text='FLOW FRONT FACE',totim=i))\n",
    "    fff[rowcounter,:,:] = tempfff\n",
    "\n",
    "headarray2=np.zeros((len(time_yr),ncol,nrow))\n",
    "rowcounters=-1\n",
    "for i in time_yr:\n",
    "    rowcounters+=1\n",
    "    temphead2 = headobjs.get_data(totim=i) #append heads to head list for each stress per\n",
    "    headarray2[rowcounters,:,:] = temphead2\n",
    "    \n",
    "# extract and plot head time series at specific points\n",
    "time_series1 = headarray[:,domain_centerpt[1],domain_centerpt[2]]\n",
    "time_series2 = headarray[:,well_loc[1],well_loc[2]]\n",
    "\n",
    "time_series_1 = headarray2[:,domain_centerpt[1],domain_centerpt[2]]\n",
    "time_series_2 = headarray2[:,well_loc[1],well_loc[2]]\n",
    "\n",
    "\n",
    "plt.subplot(1,2,1)\n",
    "plt.title(\"Head at well\",fontweight='bold')\n",
    "plt.xlabel('time (years)',fontweight='bold')\n",
    "plt.ylabel('head (m)',fontweight='bold')\n",
    "plt.xticks([0,20,40,60,80,100], ['0', '20', '40','60','80','100'])\n",
    "plt.plot(elyears, time_series2, 'r-') #plot the time series with points at each record\n",
    "plt.rcParams[\"figure.figsize\"] = (13,4)\n",
    "plt.plot(time_series2.mean(), 'bo')\n",
    "\n",
    "plt.subplot(1, 2, 2)\n",
    "plt.title(\"Head at midpoint\",fontweight='bold')\n",
    "plt.xlabel('time (years)',fontweight='bold')\n",
    "plt.ylabel('head (m)',fontweight='bold')\n",
    "plt.xticks([0,20,40,60,80,100], ['0', '20', '40','60','80','100'])\n",
    "plt.plot(elyears, time_series1, 'r-') #plot the time series with points at each record\n",
    "plt.plot(time_series1.mean(), 'bo')\n",
    "#plt.tight_layout()"
   ]
  },
  {
   "cell_type": "code",
   "execution_count": null,
   "id": "acquired-louis",
   "metadata": {},
   "outputs": [],
   "source": [
    "#print(len(headarray2))\n",
    "\n",
    "\n",
    "plt.plot(time_series_2)  #,marker='o', color='mediumvioletred', markersize=4, linestyle='--')"
   ]
  },
  {
   "cell_type": "code",
   "execution_count": null,
   "id": "incident-argentina",
   "metadata": {},
   "outputs": [],
   "source": [
    "'''def window(size):\n",
    "    return np.ones(size)/float(size)\n",
    "\n",
    "plt.plot(elyears,time_series1,'k.')\n",
    "plt.plot(elyears[39:60],np.convolve(time_series1[39:60],window(2),'same'),'r')\n",
    "#plt.plot(elyears,np.convolve(times,window(100),'same'),'b')\n",
    "#plt.xticks([40,60], ['40','60'])'''"
   ]
  },
  {
   "cell_type": "code",
   "execution_count": null,
   "id": "parliamentary-minneapolis",
   "metadata": {},
   "outputs": [],
   "source": [
    "tstarr = []\n",
    "for i in range(201):\n",
    "    x = time_series2.mean()\n",
    "    tstarr.append(x)\n",
    "\n",
    "plt.plot(elyears, time_series2, 'ro') #plot the time series with points at each record\n",
    "plt.plot(elyears, tstarr, 'b-')"
   ]
  },
  {
   "cell_type": "code",
   "execution_count": null,
   "id": "victorian-agency",
   "metadata": {},
   "outputs": [],
   "source": [
    "# find the average at midpoint\n",
    "testavg = []\n",
    "x=[]\n",
    "for i in range(200):\n",
    "    x = ((time_series1[i+1]-time_series1[i])/2)+38.528\n",
    "    testavg.append(x)\n",
    "#print(testavg)\n",
    "\n",
    "x1 = np.append(40,testavg)\n",
    "\n",
    "''''plt.title(\"Head at midpoint\",fontweight='bold')\n",
    "plt.xlabel('time (years)',fontweight='bold')\n",
    "plt.ylabel('head (m)',fontweight='bold')\n",
    "plt.xticks([0,20,40,60,80,100], ['0', '20', '40','60','80','100'])\n",
    "plt.plot(elyears, time_series1, 'r-')\n",
    "plt.plot(elyears, x1)'''"
   ]
  },
  {
   "cell_type": "code",
   "execution_count": null,
   "id": "requested-mozambique",
   "metadata": {},
   "outputs": [],
   "source": [
    "tst=[]\n",
    "for i in range(200):\n",
    "    result = np.mean(time_series1.reshape(-1, 3), axis=1)\n",
    "    #tst.append(result)\n",
    "    \n",
    "print(result)"
   ]
  },
  {
   "cell_type": "code",
   "execution_count": null,
   "id": "corporate-ecology",
   "metadata": {},
   "outputs": [],
   "source": [
    "for i in range(nrow):\n",
    "    hgrad =(headarray[0,25,i]-headarray[0,25,-1])/Lx\n",
    "    print(\"Head Gradient\", hgrad, \"m/m\")\n",
    "    \n"
   ]
  },
  {
   "cell_type": "markdown",
   "id": "sunset-current",
   "metadata": {},
   "source": [
    "### Plot head distributions after initial steady state, after final off pumping period, and at end of simulation"
   ]
  },
  {
   "cell_type": "code",
   "execution_count": null,
   "id": "stylish-audit",
   "metadata": {},
   "outputs": [],
   "source": [
    "## Plot head cross section through well after initial steady state, after final off pumping period, and at end of simulation"
   ]
  },
  {
   "cell_type": "code",
   "execution_count": null,
   "id": "parliamentary-parking",
   "metadata": {},
   "outputs": [],
   "source": [
    "\n",
    "#plot head distribution at years 0, half of sim time, end of sim time\n",
    "plt.plot(np.arange(nrow),headarray[0,20,:],'r',label='steady state')\n",
    "plt.plot(np.arange(nrow),headarray[-2,20,:],'b',label='final off')\n",
    "plt.plot(np.arange(nrow),headarray[-1,20,:],'g',label='final time')\n",
    "plt.xlabel('Column number')\n",
    "plt.ylabel('Head (m)')\n",
    "plt.title(\"Head Across Transect\",fontweight='bold')\n",
    "plt.legend()"
   ]
  },
  {
   "cell_type": "code",
   "execution_count": null,
   "id": "negative-inspector",
   "metadata": {},
   "outputs": [],
   "source": [
    "plt.plot(np.arange(nrow),headarray[0,25,:],'r',label='steady state')\n",
    "plt.plot(np.arange(nrow),headarray[-2,25,:],'b',label='final off')\n",
    "plt.plot(np.arange(nrow),headarray[-1,25,:],'g',label='final time')\n",
    "plt.xlabel('Column number')\n",
    "plt.ylabel('Head (m)')\n",
    "plt.title(\"Head Across Center Transect\",fontweight='bold')\n",
    "plt.legend()"
   ]
  },
  {
   "cell_type": "code",
   "execution_count": null,
   "id": "legal-history",
   "metadata": {},
   "outputs": [],
   "source": [
    "#plot head distribution at years 0, half of sim time, end of sim time\n",
    "fig1 = plt.figure(figsize=(10,10)) #create 10 x 10 figure\n",
    "modelmap = flopy.plot.PlotMapView(model=m, layer=0) #use modelmap to attach plot to model\n",
    "# grid = modelmap.plot_grid() #plot model grid\n",
    "qm = modelmap.plot_ibound()  \n",
    "contour_levels = np.linspace(headarray[0].min(),headarray[0].max(),11) #set contour levels for contouring head\n",
    "head_contours = modelmap.contour_array(headarray[0,:,:], levels=contour_levels) #create head contours   \n",
    "tempfrf3 = frf[0,:,:].reshape(1,ncol,nrow)\n",
    "tempfff3 = fff[0,:,:].reshape(1,ncol,nrow)\n",
    "temphead3 = headarray[0,:,:].reshape(1,ncol,nrow)\n",
    "flows = modelmap.plot_discharge(tempfrf3, tempfff3, head=temphead3) #create discharge arrows\n",
    "plt.xlabel('Lx (m)',fontsize = 14)\n",
    "plt.ylabel('Ly (m)',fontsize = 14)\n",
    "plt.yticks([1, 100, 200, 300, 400,500], ['500', '400', '300','200','100','0'])\n",
    "plt.title('Head (m) at initial steady state', fontsize = 15, fontweight = 'bold')\n",
    "plt.colorbar(head_contours,aspect=5)\n",
    "\n",
    "fig2 = plt.figure(figsize=(10,10)) #create 10 x 10 figure\n",
    "modelmap = flopy.plot.PlotMapView(model=m, layer=0) #use modelmap to attach plot to model\n",
    "# grid = modelmap.plot_grid() #plot model grid\n",
    "qm = modelmap.plot_ibound()  \n",
    "contour_levels = np.linspace(headarray[0].min(),headarray[0].max(),11) #set contour levels for contouring head\n",
    "head_contours = modelmap.contour_array(headarray[-1,:,:], levels=contour_levels) #create head contours   \n",
    "tempfrf1 = frf[-1,:,:].reshape(1,ncol,nrow)\n",
    "tempfff1 = fff[-1,:,:].reshape(1,ncol,nrow)\n",
    "temphead1 = headarray[-1,:,:].reshape(1,ncol,nrow)\n",
    "flows = modelmap.plot_discharge(tempfrf1, tempfff1, head=temphead1) #create discharge arrows\n",
    "plt.xlabel('Lx (m)',fontsize = 14)\n",
    "plt.ylabel('Ly (m)',fontsize = 14)\n",
    "plt.yticks([1, 100, 200, 300, 400,500], ['500', '400', '300','200','100','0'])\n",
    "plt.title('Head (m) at end of simulation', fontsize = 15, fontweight = 'bold')\n",
    "plt.colorbar(head_contours,aspect=5)\n",
    "\n",
    "fig3 = plt.figure(figsize=(10,10)) #create 10 x 10 figure\n",
    "modelmap = flopy.plot.PlotMapView(model=m, layer=0) #use modelmap to attach plot to model\n",
    "# grid = modelmap.plot_grid() #plot model grid\n",
    "qm = modelmap.plot_ibound()  \n",
    "contour_levels = np.linspace(headarray[0].min(),headarray[0].max(),11) #set contour levels for contouring head\n",
    "head_contours = modelmap.contour_array(headarray[2,:,:], levels=contour_levels) #create head contours   \n",
    "tempfrf2 = frf[2,:,:].reshape(1,ncol,nrow)\n",
    "tempfff2 = fff[2,:,:].reshape(1,ncol,nrow)\n",
    "temphead2 = headarray[2,:,:].reshape(1,ncol,nrow)\n",
    "flows = modelmap.plot_discharge(tempfrf2, tempfff2, head=temphead2) #create discharge arrows\n",
    "plt.xlabel('Lx (m)',fontsize = 14)\n",
    "plt.ylabel('Ly (m)',fontsize = 14)\n",
    "plt.yticks([1, 100, 200, 300, 400,500], ['500', '400', '300','200','100','0'])\n",
    "plt.title('Head (m) at end of 23 years', fontsize = 15, fontweight = 'bold')\n",
    "plt.colorbar(head_contours,aspect=5)"
   ]
  },
  {
   "cell_type": "markdown",
   "id": "constitutional-victory",
   "metadata": {},
   "source": [
    "### Plot drawdown"
   ]
  },
  {
   "cell_type": "code",
   "execution_count": null,
   "id": "genuine-coverage",
   "metadata": {},
   "outputs": [],
   "source": [
    "#plot change in head distribution between steady state and final time\n",
    "fig1 = plt.figure(figsize=(10,10)) #create 10 x 10 figure\n",
    "modelmap = flopy.plot.PlotMapView(model=m, layer=0) #use modelmap to attach plot to model\n",
    "# grid = modelmap.plot_grid() #plot model grid\n",
    "qm = modelmap.plot_ibound()  \n",
    "contour_min = np.min(headarray[0,:,:]-headarray[-1,:,:])\n",
    "contour_max = np.max(headarray[0,:,:]-headarray[-1,:,:])\n",
    "contour_levels = np.linspace(contour_min,contour_max,21) #set contour levels for contouring head\n",
    "head_contours = modelmap.contour_array(headarray[0,:,:]-headarray[-1,:,:], levels=contour_levels) #create head contours   \n",
    "plt.xlabel('Lx (m)',fontsize = 14)\n",
    "plt.ylabel('Ly (m)',fontsize = 14)\n",
    "plt.yticks([1, 100, 200, 300, 400,500], ['500', '400', '300','200','100','0'])\n",
    "#plt.gca().invert_yaxis()\n",
    "plt.title('Drawdown (m) from steady state to final time', fontsize = 15, fontweight = 'bold')\n",
    "plt.colorbar(head_contours,aspect=5)\n",
    "\n",
    "#plot change in head distribution between steady state and final time\n",
    "fig1 = plt.figure(figsize=(10,10)) #create 10 x 10 figure\n",
    "modelmap = flopy.plot.PlotMapView(model=m, layer=0) #use modelmap to attach plot to model\n",
    "# grid = modelmap.plot_grid() #plot model grid\n",
    "qm = modelmap.plot_ibound()  \n",
    "contour_min = np.min(headarray[-2,:,:]-headarray[-1,:,:])\n",
    "contour_max = np.max(headarray[-2,:,:]-headarray[-1,:,:])\n",
    "contour_levels = np.linspace(contour_min,contour_max,21) #set contour levels for contouring head\n",
    "head_contours = modelmap.contour_array(headarray[-2,:,:]-headarray[-1,:,:], levels=contour_levels) #create head contours   \n",
    "plt.xlabel('Lx (m)',fontsize = 14)\n",
    "plt.ylabel('Ly (m)',fontsize = 14)\n",
    "plt.yticks([1, 100, 200, 300, 400,500], ['500', '400', '300','200','100','0'])\n",
    "#plt.gca().invert_yaxis()\n",
    "plt.title('Drawdown (m) from final off to final time', fontsize = 15, fontweight = 'bold')\n",
    "plt.colorbar(head_contours,aspect=5)"
   ]
  },
  {
   "cell_type": "code",
   "execution_count": null,
   "id": "ideal-consent",
   "metadata": {},
   "outputs": [],
   "source": []
  }
 ],
 "metadata": {
  "kernelspec": {
   "display_name": "Python 3",
   "language": "python",
   "name": "python3"
  },
  "language_info": {
   "codemirror_mode": {
    "name": "ipython",
    "version": 3
   },
   "file_extension": ".py",
   "mimetype": "text/x-python",
   "name": "python",
   "nbconvert_exporter": "python",
   "pygments_lexer": "ipython3",
   "version": "3.8.5"
  }
 },
 "nbformat": 4,
 "nbformat_minor": 5
}
