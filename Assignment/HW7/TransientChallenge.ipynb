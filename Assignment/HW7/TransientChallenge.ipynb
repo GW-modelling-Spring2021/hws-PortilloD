{
 "cells": [
  {
   "cell_type": "markdown",
   "id": "blind-compilation",
   "metadata": {},
   "source": [
    "# HW 6 Transients\n",
    "\n",
    "#### Dalia Portillo\n",
    "#### 3/15/2021\n"
   ]
  },
  {
   "cell_type": "markdown",
   "id": "brief-valuation",
   "metadata": {},
   "source": [
    "## Model Description\n",
    "​The model is set up for a homogeneous medium. The single-layer domain is 50x50 cells. The cells are 10 m in lateral extent and 50 m in vertical. There is a well located at [0,20,20] (layer, row, column). Recharge occurs at a rate of 5e-4 m/day across the domain. The left and right boundaries have constant heads of 50 and 30, respectively. The well is pumped cyclically. Water is withdrawn at 500 m3/day for 90 days and then it is turned off for 270 days. (Pretend that a year is 360 days long.) The simulation is set to run for 100 years."
   ]
  },
  {
   "cell_type": "markdown",
   "id": "killing-notification",
   "metadata": {},
   "source": [
    "## The Challenges\n",
    "#### a) The gradient is not uniform for the initial steady state conditions - discuss the influences of recharge and the unconfined condition on this nonlinearity\n",
    "\n"
   ]
  },
  {
   "cell_type": "markdown",
   "id": "annual-knight",
   "metadata": {},
   "source": [
    "I htink this has to do with what we discussed about the convertible cells in MODFLOW. Since the saturated thickness changes and the cells change from unsaturated to saturated, there is a non-linear relationship. We have the recharge affecting the water table depth and the overall mass balance changing in between stress periods. The saturated thickness b changes because the head changes due to the well drawing water and the recharge adding water. In turn the head changes in response to the b changing showing a change in transmissivity T. \n",
    "\n",
    "Why is the gradient not uniform??? Is it becasue the well only influences within the zone of influence and outside this zone the gradient is gradually changing?"
   ]
  },
  {
   "cell_type": "markdown",
   "id": "included-pocket",
   "metadata": {},
   "source": [
    "#### b) Determine if the system has reached steady state - consider a point at the well and another at the center of the domain."
   ]
  },
  {
   "cell_type": "markdown",
   "id": "cathedral-sentence",
   "metadata": {},
   "source": [
    "Steady state is achieved when there is no change in storage (mass balance) with time. Other things *can* be changing, but volumetric quantity of water into or out of the domain does not. Time is relative. In our simulation, the total time is 100 years which is comparably larger than 90 days of pumping and 270 days no pumping for ONE year. \n",
    "\n",
    "how do we know storage hasn't changed? storage is divergence of flux? Will have to try to calculate it at the well and about the center!"
   ]
  },
  {
   "cell_type": "markdown",
   "id": "inside-speaker",
   "metadata": {},
   "source": [
    "#### c) Find the zone of influence of the well defined in two ways: - Based on the drawdown from the initial steady state to the end of simulation time (end of final no-pumping stress period). - Based on the drawdown from the end of the last pump-on stress period to the end of simulation time."
   ]
  },
  {
   "cell_type": "markdown",
   "id": "cross-corpus",
   "metadata": {},
   "source": [
    "<p float=\"left\">\n",
    "   <img src=\"dwdwn1.png\"  width=\"330\" />\n",
    "   <img src=\"dwdwn2.png\" width=\"331\" />\n",
    "</p>\n",
    "\n",
    "*figure 1 (left) drawdown from the initial steady state to the end of simulation time*\n",
    "\n",
    "*figure 2 (right) drawdown from the end of the last pump-on stress period to the end of simulation time*"
   ]
  },
  {
   "cell_type": "markdown",
   "id": "informal-gravity",
   "metadata": {},
   "source": [
    "zone of influnce Mehtod 1 (figure 1): I think the zone of influence consists of drawdown contours very close the the well and are nearly perfectly cirular. Anything that is influenced by the boundaries (even the slightly distorted looking ellipses) are outside the zone."
   ]
  },
  {
   "cell_type": "markdown",
   "id": "independent-hawaiian",
   "metadata": {},
   "source": [
    "zone of influnce Mehtod 2 (figure 2): The extent of the zone of influence is within the smallest change in drawdown, in other words the largest circle."
   ]
  },
  {
   "cell_type": "code",
   "execution_count": null,
   "id": "dynamic-auckland",
   "metadata": {},
   "outputs": [],
   "source": []
  },
  {
   "cell_type": "markdown",
   "id": "floral-repair",
   "metadata": {},
   "source": [
    "<p float=\"left\">\n",
    "   <img src=\"flowvectors_t1.png\"  width=\"330\" />\n",
    "   <img src=\"flowvectors_t2.png\" width=\"330\" />\n",
    "   <img src=\"flowvectors_t3.png\" width=\"330\" />\n",
    "</p>\n",
    "\n",
    "*figure 3 the initial steady state contour map with flow vectors*\n",
    "    \n",
    "*figure 4 the final pump-on period contour map with flow vectors*\n",
    "    \n",
    "*figure 5 the final pump-off period contour map with flow vectors*\n",
    "    "
   ]
  },
  {
   "cell_type": "markdown",
   "id": "imposed-coaching",
   "metadata": {},
   "source": [
    "#### d) How long does it take a point at the center of the domain to reach steady state? At that point, explain how you could divide the domain into a steady and transient part and solve each separately."
   ]
  },
  {
   "cell_type": "markdown",
   "id": "substantial-interval",
   "metadata": {},
   "source": [
    "$  \\Delta t = \\large \\frac {V_ {olume}}{Q} = \\int \\frac {dS}{q} $\n",
    "\n",
    "<img src=\"time.png\" width=\"160\" />"
   ]
  },
  {
   "cell_type": "markdown",
   "id": "medium-forth",
   "metadata": {},
   "source": [
    "Well we could treat the whole domain as steady state and have only a partial volume a little larger than the capture zone and just treat that as a small transient system within a steady state homogenous domain."
   ]
  },
  {
   "cell_type": "code",
   "execution_count": null,
   "id": "worse-electric",
   "metadata": {},
   "outputs": [],
   "source": []
  },
  {
   "cell_type": "markdown",
   "id": "collected-valve",
   "metadata": {},
   "source": [
    "<img src=\"Head_well_mdpnt.png\" width=\"380\" />\n",
    "\n",
    "*figure 6 Head distribution at the well and at the center of the system*"
   ]
  },
  {
   "cell_type": "markdown",
   "id": "european-dover",
   "metadata": {},
   "source": [
    "#### e) Find a constant pumping rate (same throughout the year) that matches the head time series at the middle of the domain."
   ]
  },
  {
   "cell_type": "code",
   "execution_count": null,
   "id": "instant-jones",
   "metadata": {},
   "outputs": [],
   "source": [
    "# pumping 500 m^3/d for 90 days for 100 years\n",
    "# no pumping for 270 days for 100 years\n",
    "\n",
    "--"
   ]
  },
  {
   "cell_type": "markdown",
   "id": "renewable-firewall",
   "metadata": {},
   "source": [
    "#### f) Find a constant pumping rate (same throughout the year) that matches the head time series at the well, leaving only a regular, repeating seasonal residual. Are the two pumping rates the same?"
   ]
  },
  {
   "cell_type": "code",
   "execution_count": null,
   "id": "accurate-tribe",
   "metadata": {},
   "outputs": [],
   "source": [
    "--"
   ]
  },
  {
   "cell_type": "markdown",
   "id": "miniature-daily",
   "metadata": {},
   "source": [
    "#### g) Discuss the sources of water captured by this well. If you're up for a challenge, calculate them for the final pump-on period!"
   ]
  },
  {
   "cell_type": "markdown",
   "id": "administrative-satisfaction",
   "metadata": {},
   "source": [
    "Sources of water include: from storage, at the left boundary within the capture zone, and from recharge."
   ]
  },
  {
   "cell_type": "markdown",
   "id": "square-visibility",
   "metadata": {},
   "source": [
    "#### h) Discuss how you would define the capture zone of the well. How is it different than our definitions of capture zone so far in the course?"
   ]
  },
  {
   "cell_type": "markdown",
   "id": "coordinated-adventure",
   "metadata": {},
   "source": [
    "The capture zone is now only the area that that diverts flow regardless if the flow vector terminates in the well or not."
   ]
  },
  {
   "cell_type": "markdown",
   "id": "speaking-invasion",
   "metadata": {},
   "source": [
    "<img src=\"flowvectors_t2.png\" width=\"350\" />\n",
    "\n",
    "*figure 7 drawing capture zone of well from figure 4*"
   ]
  }
 ],
 "metadata": {
  "kernelspec": {
   "display_name": "Python 3",
   "language": "python",
   "name": "python3"
  },
  "language_info": {
   "codemirror_mode": {
    "name": "ipython",
    "version": 3
   },
   "file_extension": ".py",
   "mimetype": "text/x-python",
   "name": "python",
   "nbconvert_exporter": "python",
   "pygments_lexer": "ipython3",
   "version": "3.8.5"
  }
 },
 "nbformat": 4,
 "nbformat_minor": 5
}
