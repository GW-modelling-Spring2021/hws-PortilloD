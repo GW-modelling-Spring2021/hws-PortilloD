{
 "cells": [
  {
   "cell_type": "markdown",
   "id": "aquatic-still",
   "metadata": {},
   "source": [
    "# HW 7 Transients\n",
    "\n",
    "#### Dalia Portillo\n",
    "#### 3/15/2021\n"
   ]
  },
  {
   "cell_type": "markdown",
   "id": "retained-cross",
   "metadata": {},
   "source": [
    "## Model Description\n",
    "​The model is set up for a homogeneous medium. The single-layer domain is 50x50 cells. The cells are 10 m in lateral extent and 50 m in vertical. There is a well located at [0,20,20] (layer, row, column). Recharge occurs at a rate of 5e-4 m/day across the domain. The left and right boundaries have constant heads of 50 and 30, respectively. The well is pumped cyclically. Water is withdrawn at 500 m3/day for 90 days and then it is turned off for 270 days. (Pretend that a year is 360 days long.) The simulation is set to run for 100 years."
   ]
  },
  {
   "cell_type": "markdown",
   "id": "compound-bearing",
   "metadata": {},
   "source": [
    "## The Challenges\n",
    "#### a) The gradient is not uniform for the initial steady state conditions - discuss the influences of recharge and the unconfined condition on this nonlinearity\n",
    "\n"
   ]
  },
  {
   "cell_type": "markdown",
   "id": "manual-omaha",
   "metadata": {},
   "source": [
    "<img src=\"HeadTransect.png\" width=\"320\" />\n",
    "\n",
    "*figure 1 Head distribution at the well and at the center of the system*"
   ]
  },
  {
   "cell_type": "markdown",
   "id": "average-sherman",
   "metadata": {},
   "source": [
    "I think this has to do with what we discussed about the convertible cells in MODFLOW. Since the saturated thickness changes and the cells change from unsaturated to saturated, there is a non-linear relationship. We have the recharge affecting the head values and the overall mass balance changing in between stress periods. The saturated thickness b changes because the head changes due to the well drawing water and the recharge adding water. In turn the head changes in response to the b changing showing a change in transmissivity T. \n",
    "\n",
    "The head gradient is changing in response to the imbalnce in the inflow and outflow of the domain. The gradient is not linear due to the addition of recharge across the domain.\n",
    "\n",
    "recharge creates unbalance accumulation of water or energy bc cells in the center of the domain recieve more water htna the boundary. near cells collaborate witha flow that alreayd has an extra input from recharge which means that the flow of one cell is the result of its recharge and the nearby recharge --> nonlinear. "
   ]
  },
  {
   "cell_type": "markdown",
   "id": "casual-return",
   "metadata": {},
   "source": [
    "#### b) Determine if the system has reached steady state - consider a point at the well and another at the center of the domain."
   ]
  },
  {
   "cell_type": "markdown",
   "id": "synthetic-absence",
   "metadata": {},
   "source": [
    "Steady state is achieved when there is no change in storage (mass balance) with time. Other things *can* be changing, but volumetric quantity of water into or out of the domain does not. Time is relative. In our simulation, the total time is 100 years which is comparably larger than 90 days of pumping and 270 days no pumping for ONE year. \n",
    "\n",
    "In figure 2 below, we see that steady state can be estimated at about 50 years where there same changes occur at the well and over 60 years for the midpoint of the domain."
   ]
  },
  {
   "cell_type": "markdown",
   "id": "periodic-sequence",
   "metadata": {},
   "source": [
    "<img src=\"Head_well_mdpnt.png\" width=\"600\" />\n",
    "\n",
    "\n",
    "*figure 2 Head distribution at the well and at the center of the system*"
   ]
  },
  {
   "cell_type": "markdown",
   "id": "liquid-brake",
   "metadata": {},
   "source": [
    "#### c) Find the zone of influence of the well defined in two ways: \n",
    "\n",
    "- Based on the drawdown from the initial steady state to the end of simulation time (end of final no-pumping stress period). \n",
    "- Based on the drawdown from the end of the last pump-on stress period to the end of simulation time."
   ]
  },
  {
   "cell_type": "markdown",
   "id": "unknown-malta",
   "metadata": {},
   "source": [
    "<center>\n",
    "<p float=\"right\">\n",
    "   <img src=\"dwdwn1.png\"  width=\"330\" />\n",
    "    \n",
    "   <img src=\"dwdwn2.png\" width=\"331\" />\n",
    "</p>\n",
    "\n",
    "*figure 3 (left) drawdown from the initial steady state to the end of simulation time*\n",
    "\n",
    "*figure 4 (right) drawdown from the end of the last pump-on stress period to the end of simulation time*"
   ]
  },
  {
   "cell_type": "markdown",
   "id": "artificial-investigation",
   "metadata": {},
   "source": [
    "Zone of influence Mehtod 1 (figure 1): I think the zone of influence consists of drawdown contours very close the the well and are nearly perfectly cirular. Anything that is influenced by the boundaries (even the slightly distorted looking ellipses) are outside the zone. This does not capture the true zone of influence since this considers only initial and final changes (an average of the change in drawdown). "
   ]
  },
  {
   "cell_type": "markdown",
   "id": "damaged-joint",
   "metadata": {},
   "source": [
    "Zone of influnce Mehtod 2 (figure 2): This displays the 'recovery' period during the second stress period until the end of the 100th year. Figure 4 doesn't tell us whether the drawdown has been fully recovered by tells us the change in drawown from 91 days to 270 days of year 100. The Zone of Influence can be estiated to be within the largest circle/ring."
   ]
  },
  {
   "cell_type": "code",
   "execution_count": null,
   "id": "increasing-astrology",
   "metadata": {},
   "outputs": [],
   "source": []
  },
  {
   "cell_type": "markdown",
   "id": "trained-belle",
   "metadata": {},
   "source": [
    "#### d) How long does it take a point at the center of the domain to reach steady state? At that point, explain how you could divide the domain into a steady and transient part and solve each separately."
   ]
  },
  {
   "cell_type": "markdown",
   "id": "recreational-hawaii",
   "metadata": {},
   "source": [
    "Well we could treat the whole domain as steady state and have only a partial volume a treated as a \n",
    "small transient system within a steady state homogenous domain. Below I try to draw how I would \n",
    "divide into two domains.\n",
    "\n",
    "To separate the system, I use the flow lines as no flow boundaries and the head contours as constant head boundaries. The extent would be the 'capture zone' of the flow vectors that terminate in the well. Since this is a curvilinear shape, the volumetric flow is tricky, so I will create rigid rectangualr shape which is larger than the predicted capture zone."
   ]
  },
  {
   "cell_type": "markdown",
   "id": "unexpected-canyon",
   "metadata": {},
   "source": [
    "I changed the flow vector plots to see the changes after each stress period each year. I figured the contour plots should look similar after about 40 years, but I found that the plots actually reached a visual similarity around 20 years, much sooner than I expected. But these plots liklely don't truly represent when steady state is reached since this shows the model response after each stress period. Thus we rely on the head distribution figures to estimate the time it takes to reach steady state."
   ]
  },
  {
   "cell_type": "markdown",
   "id": "latin-contest",
   "metadata": {},
   "source": [
    "<img src=\"flowvectors_t4.png\" width=\"380\" />\n",
    "\n",
    "*figure 3 headcontours with flow vectors at the end of each year*"
   ]
  },
  {
   "cell_type": "markdown",
   "id": "classical-madagascar",
   "metadata": {},
   "source": [
    "#### e) Find a constant pumping rate (same throughout the year) that matches the head time series at the middle of the domain."
   ]
  },
  {
   "cell_type": "markdown",
   "id": "cultural-blind",
   "metadata": {},
   "source": [
    "Q = KA dH/dL = KA grad(H)\n"
   ]
  },
  {
   "cell_type": "code",
   "execution_count": 2,
   "id": "czech-principle",
   "metadata": {},
   "outputs": [
    {
     "name": "stdout",
     "output_type": "stream",
     "text": [
      "57.1435 m^3/d\n",
      "51.42915000000001 m^3/yr\n"
     ]
    }
   ],
   "source": [
    "A = 50*50           # m^2\n",
    "K = 1               # m/d\n",
    "gradH = .0228574    # m/m\n",
    "\n",
    "Q = K*A*gradH       #m^3/d\n",
    "Q_yr = Q*(90/100)   #m^3/yr\n",
    "\n",
    "print(str(Q)+ \" m^3/d\")\n",
    "print(str(Q_yr)+ \" m^3/yr\")"
   ]
  },
  {
   "cell_type": "markdown",
   "id": "temporal-atlas",
   "metadata": {},
   "source": [
    "This looks completely wrong. Flow shouldn't be this low per year. I thought an average of all the head values should provide a similar plot, but couldn't figure out how to plot it."
   ]
  },
  {
   "cell_type": "markdown",
   "id": "biological-aluminum",
   "metadata": {},
   "source": [
    "#### f) Find a constant pumping rate (same throughout the year) that matches the head time series at the well, leaving only a regular, repeating seasonal residual. Are the two pumping rates the same?"
   ]
  },
  {
   "cell_type": "code",
   "execution_count": 4,
   "id": "usual-pierre",
   "metadata": {},
   "outputs": [
    {
     "name": "stdout",
     "output_type": "stream",
     "text": [
      "an annual average pumping rate is 225.0 m^3/yr\n"
     ]
    }
   ],
   "source": [
    "# pumping 500 m^3/d for 90 days for 100 years\n",
    "# no pumping for 270 days for 100 years\n",
    "\n",
    "avg = ((500)*(90/100)+(0*270/100))/2\n",
    "print (\"an annual average pumping rate is \" +str(avg)+ \" m^3/yr\")"
   ]
  },
  {
   "cell_type": "markdown",
   "id": "russian-assistant",
   "metadata": {},
   "source": [
    "No the two pumping rates are not the same. This is expected because the average pumping rate over the year is not the same as the punping rate for 90 days only."
   ]
  },
  {
   "cell_type": "markdown",
   "id": "concrete-steel",
   "metadata": {},
   "source": [
    "#### g) Discuss the sources of water captured by this well. If you're up for a challenge, calculate them for the final pump-on period!"
   ]
  },
  {
   "cell_type": "markdown",
   "id": "coordinate-regard",
   "metadata": {},
   "source": [
    "Sources of water include: from storage, at the left boundary within the capture zone, and from recharge.\n",
    "\n",
    "In class we discussed how the volume of water at the left inflow boundary is replaced by water from storage. Water captured by the well is not directly from storage since the well is off for 3/4 of the year. "
   ]
  },
  {
   "cell_type": "markdown",
   "id": "boxed-roots",
   "metadata": {},
   "source": [
    "$  \\Delta t*Q =  V_ {olume} $\n",
    "\n",
    "<img src=\"time.png\" width=\"160\" />"
   ]
  },
  {
   "cell_type": "markdown",
   "id": "acute-yukon",
   "metadata": {},
   "source": [
    "#### h) Discuss how you would define the capture zone of the well. How is it different than our definitions of capture zone so far in the course?"
   ]
  },
  {
   "cell_type": "markdown",
   "id": "auburn-fitting",
   "metadata": {},
   "source": [
    "The capture zone is now only the area that that diverts flow regardless if the flow vector terminates in the well or not.\n",
    "\n",
    "The capture zone oscillates (compresses and contracts like a heart beat) in shape with each stress period. It grows with the well pumping and shrinks when the well is off. This means the zone is not definite and depends on time and whether the well is pumping."
   ]
  },
  {
   "cell_type": "markdown",
   "id": "russian-chorus",
   "metadata": {},
   "source": [
    "<p float=\"center\">\n",
    "   <img src=\"flowvectors_t1.png\" width=\"330\" />\n",
    "   <img src=\"flowvectors_t2.png\" width=\"330\" />\n",
    "   <img src=\"flowvectors_t3.png\" width=\"330\" />\n",
    "</p>\n",
    "\n",
    "*figure 5 the initial steady state contour map with flow vectors*\n",
    "    \n",
    "*figure 6 the final pump-on period contour map with flow vectors*\n",
    "    \n",
    "*figure 7 the final pump-off period contour map with flow vectors*\n",
    "    \n"
   ]
  },
  {
   "cell_type": "code",
   "execution_count": null,
   "id": "proved-transparency",
   "metadata": {},
   "outputs": [],
   "source": []
  }
 ],
 "metadata": {
  "kernelspec": {
   "display_name": "Python 3",
   "language": "python",
   "name": "python3"
  },
  "language_info": {
   "codemirror_mode": {
    "name": "ipython",
    "version": 3
   },
   "file_extension": ".py",
   "mimetype": "text/x-python",
   "name": "python",
   "nbconvert_exporter": "python",
   "pygments_lexer": "ipython3",
   "version": "3.8.5"
  }
 },
 "nbformat": 4,
 "nbformat_minor": 5
}
